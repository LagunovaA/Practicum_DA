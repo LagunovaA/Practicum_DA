{
  "metadata": {
    "ExecuteTimeLog": [
      {
        "duration": 432,
        "start_time": "2022-10-23T09:16:12.041Z"
      },
      {
        "duration": 349,
        "start_time": "2022-10-23T09:16:18.398Z"
      },
      {
        "duration": 68,
        "start_time": "2022-10-23T09:16:42.848Z"
      },
      {
        "duration": 34,
        "start_time": "2022-10-23T09:17:14.128Z"
      },
      {
        "duration": 26,
        "start_time": "2022-10-23T09:47:56.923Z"
      },
      {
        "duration": 14,
        "start_time": "2022-10-23T09:48:26.366Z"
      },
      {
        "duration": 17,
        "start_time": "2022-10-23T09:48:31.980Z"
      },
      {
        "duration": 648,
        "start_time": "2022-10-23T09:51:01.975Z"
      },
      {
        "duration": 42,
        "start_time": "2022-10-23T09:51:02.627Z"
      },
      {
        "duration": 23,
        "start_time": "2022-10-23T09:51:02.670Z"
      },
      {
        "duration": 14,
        "start_time": "2022-10-23T09:51:02.694Z"
      },
      {
        "duration": 28,
        "start_time": "2022-10-23T09:54:25.185Z"
      },
      {
        "duration": 4,
        "start_time": "2022-10-23T09:59:22.277Z"
      },
      {
        "duration": 19,
        "start_time": "2022-10-23T09:59:36.019Z"
      },
      {
        "duration": 3,
        "start_time": "2022-10-23T10:10:57.006Z"
      },
      {
        "duration": 14,
        "start_time": "2022-10-23T10:11:11.775Z"
      },
      {
        "duration": 6,
        "start_time": "2022-10-23T10:22:20.177Z"
      },
      {
        "duration": 20,
        "start_time": "2022-10-23T10:22:29.654Z"
      },
      {
        "duration": 488,
        "start_time": "2022-10-23T10:22:58.715Z"
      },
      {
        "duration": 14,
        "start_time": "2022-10-23T10:22:59.226Z"
      },
      {
        "duration": 596,
        "start_time": "2022-10-23T10:25:26.803Z"
      },
      {
        "duration": 40,
        "start_time": "2022-10-23T10:25:27.400Z"
      },
      {
        "duration": 38,
        "start_time": "2022-10-23T10:25:27.442Z"
      },
      {
        "duration": 4,
        "start_time": "2022-10-23T10:25:27.483Z"
      },
      {
        "duration": 42,
        "start_time": "2022-10-23T10:25:27.489Z"
      },
      {
        "duration": 525,
        "start_time": "2022-10-23T10:25:27.536Z"
      },
      {
        "duration": 0,
        "start_time": "2022-10-23T10:25:28.062Z"
      },
      {
        "duration": 28,
        "start_time": "2022-10-23T10:32:24.721Z"
      },
      {
        "duration": 4,
        "start_time": "2022-10-23T10:39:49.750Z"
      },
      {
        "duration": 3,
        "start_time": "2022-10-23T10:39:50.800Z"
      },
      {
        "duration": 775,
        "start_time": "2022-10-23T12:20:52.019Z"
      },
      {
        "duration": 209,
        "start_time": "2022-10-23T12:20:52.797Z"
      },
      {
        "duration": 35,
        "start_time": "2022-10-23T12:20:53.008Z"
      },
      {
        "duration": 3,
        "start_time": "2022-10-23T12:20:53.045Z"
      },
      {
        "duration": 42,
        "start_time": "2022-10-23T12:20:53.050Z"
      },
      {
        "duration": 3,
        "start_time": "2022-10-23T12:20:56.277Z"
      },
      {
        "duration": 14,
        "start_time": "2022-10-23T12:20:57.612Z"
      },
      {
        "duration": 72,
        "start_time": "2022-10-23T12:21:12.248Z"
      },
      {
        "duration": 5,
        "start_time": "2022-10-23T12:21:29.952Z"
      },
      {
        "duration": 13,
        "start_time": "2022-10-23T12:21:31.037Z"
      },
      {
        "duration": 882,
        "start_time": "2022-10-24T07:35:14.904Z"
      },
      {
        "duration": 79,
        "start_time": "2022-10-24T07:35:15.788Z"
      },
      {
        "duration": 52,
        "start_time": "2022-10-24T07:35:17.720Z"
      },
      {
        "duration": 1239,
        "start_time": "2022-10-24T07:44:57.769Z"
      },
      {
        "duration": 50,
        "start_time": "2022-10-24T07:44:59.105Z"
      },
      {
        "duration": 24,
        "start_time": "2022-10-24T07:45:00.048Z"
      },
      {
        "duration": 20,
        "start_time": "2022-10-24T07:45:03.084Z"
      },
      {
        "duration": 10,
        "start_time": "2022-10-24T07:45:04.090Z"
      },
      {
        "duration": 29,
        "start_time": "2022-10-24T07:45:15.084Z"
      },
      {
        "duration": 31,
        "start_time": "2022-10-24T07:45:16.106Z"
      },
      {
        "duration": 4,
        "start_time": "2022-10-24T09:24:47.199Z"
      },
      {
        "duration": 14,
        "start_time": "2022-10-24T09:24:49.056Z"
      },
      {
        "duration": 18,
        "start_time": "2022-10-24T09:29:15.883Z"
      },
      {
        "duration": 6,
        "start_time": "2022-10-24T09:29:25.189Z"
      },
      {
        "duration": 6,
        "start_time": "2022-10-24T09:31:43.877Z"
      },
      {
        "duration": 6,
        "start_time": "2022-10-24T09:31:50.100Z"
      },
      {
        "duration": 93,
        "start_time": "2022-10-24T09:32:29.465Z"
      },
      {
        "duration": 31,
        "start_time": "2022-10-24T09:32:37.394Z"
      },
      {
        "duration": 9,
        "start_time": "2022-10-24T09:32:47.107Z"
      },
      {
        "duration": 12,
        "start_time": "2022-10-24T09:36:13.068Z"
      },
      {
        "duration": 9,
        "start_time": "2022-10-24T09:36:24.684Z"
      },
      {
        "duration": 1079,
        "start_time": "2022-10-24T09:49:11.176Z"
      },
      {
        "duration": 38,
        "start_time": "2022-10-24T09:49:12.257Z"
      },
      {
        "duration": 17,
        "start_time": "2022-10-24T09:49:12.297Z"
      },
      {
        "duration": 23,
        "start_time": "2022-10-24T09:49:12.316Z"
      },
      {
        "duration": 13,
        "start_time": "2022-10-24T09:49:15.757Z"
      },
      {
        "duration": 110,
        "start_time": "2022-10-24T09:49:16.651Z"
      },
      {
        "duration": 16,
        "start_time": "2022-10-24T09:50:04.671Z"
      },
      {
        "duration": 74,
        "start_time": "2022-10-24T09:50:17.667Z"
      },
      {
        "duration": 22,
        "start_time": "2022-10-24T09:50:51.394Z"
      },
      {
        "duration": 29,
        "start_time": "2022-10-24T09:51:42.747Z"
      },
      {
        "duration": 30,
        "start_time": "2022-10-24T09:51:43.649Z"
      },
      {
        "duration": 3,
        "start_time": "2022-10-24T09:51:46.780Z"
      },
      {
        "duration": 13,
        "start_time": "2022-10-24T09:51:47.221Z"
      },
      {
        "duration": 11,
        "start_time": "2022-10-24T09:51:51.506Z"
      },
      {
        "duration": 8,
        "start_time": "2022-10-24T09:52:52.025Z"
      },
      {
        "duration": 20,
        "start_time": "2022-10-24T09:53:48.693Z"
      },
      {
        "duration": 10,
        "start_time": "2022-10-24T09:54:00.349Z"
      },
      {
        "duration": 10,
        "start_time": "2022-10-24T09:54:16.417Z"
      },
      {
        "duration": 4,
        "start_time": "2022-10-24T09:54:39.336Z"
      },
      {
        "duration": 12,
        "start_time": "2022-10-24T10:14:54.876Z"
      },
      {
        "duration": 1099,
        "start_time": "2022-10-24T10:15:15.037Z"
      },
      {
        "duration": 51,
        "start_time": "2022-10-24T10:15:16.138Z"
      },
      {
        "duration": 26,
        "start_time": "2022-10-24T10:15:16.191Z"
      },
      {
        "duration": 27,
        "start_time": "2022-10-24T10:15:16.219Z"
      },
      {
        "duration": 87,
        "start_time": "2022-10-24T10:15:16.248Z"
      },
      {
        "duration": 39,
        "start_time": "2022-10-24T10:15:16.337Z"
      },
      {
        "duration": 54,
        "start_time": "2022-10-24T10:15:16.380Z"
      },
      {
        "duration": 5,
        "start_time": "2022-10-24T10:15:16.436Z"
      },
      {
        "duration": 25,
        "start_time": "2022-10-24T10:15:16.444Z"
      },
      {
        "duration": 27,
        "start_time": "2022-10-24T10:15:16.472Z"
      },
      {
        "duration": 11,
        "start_time": "2022-10-24T10:15:16.501Z"
      },
      {
        "duration": 19,
        "start_time": "2022-10-24T10:15:16.514Z"
      },
      {
        "duration": 113,
        "start_time": "2022-10-24T10:23:30.605Z"
      },
      {
        "duration": 14,
        "start_time": "2022-10-24T10:23:48.282Z"
      },
      {
        "duration": 4,
        "start_time": "2022-10-24T10:24:17.799Z"
      },
      {
        "duration": 10,
        "start_time": "2022-10-24T10:24:42.750Z"
      },
      {
        "duration": 5,
        "start_time": "2022-10-24T10:24:47.811Z"
      },
      {
        "duration": 15,
        "start_time": "2022-10-24T10:24:58.703Z"
      },
      {
        "duration": 1150,
        "start_time": "2022-10-24T10:25:16.931Z"
      },
      {
        "duration": 43,
        "start_time": "2022-10-24T10:25:18.083Z"
      },
      {
        "duration": 18,
        "start_time": "2022-10-24T10:25:18.128Z"
      },
      {
        "duration": 21,
        "start_time": "2022-10-24T10:25:18.148Z"
      },
      {
        "duration": 91,
        "start_time": "2022-10-24T10:25:18.170Z"
      },
      {
        "duration": 31,
        "start_time": "2022-10-24T10:25:18.263Z"
      },
      {
        "duration": 45,
        "start_time": "2022-10-24T10:25:18.296Z"
      },
      {
        "duration": 3,
        "start_time": "2022-10-24T10:25:18.343Z"
      },
      {
        "duration": 20,
        "start_time": "2022-10-24T10:25:18.348Z"
      },
      {
        "duration": 14,
        "start_time": "2022-10-24T10:25:18.370Z"
      },
      {
        "duration": 7,
        "start_time": "2022-10-24T10:25:18.386Z"
      },
      {
        "duration": 6,
        "start_time": "2022-10-24T10:25:18.395Z"
      },
      {
        "duration": 16,
        "start_time": "2022-10-24T10:25:22.135Z"
      },
      {
        "duration": 12,
        "start_time": "2022-10-24T10:25:23.061Z"
      },
      {
        "duration": 6,
        "start_time": "2022-10-24T10:43:38.443Z"
      },
      {
        "duration": 6,
        "start_time": "2022-10-24T10:44:16.249Z"
      },
      {
        "duration": 1327,
        "start_time": "2022-10-24T10:47:05.918Z"
      },
      {
        "duration": 44,
        "start_time": "2022-10-24T10:47:07.247Z"
      },
      {
        "duration": 17,
        "start_time": "2022-10-24T10:47:07.293Z"
      },
      {
        "duration": 21,
        "start_time": "2022-10-24T10:47:07.312Z"
      },
      {
        "duration": 56,
        "start_time": "2022-10-24T10:47:07.335Z"
      },
      {
        "duration": 41,
        "start_time": "2022-10-24T10:47:07.393Z"
      },
      {
        "duration": 32,
        "start_time": "2022-10-24T10:47:07.436Z"
      },
      {
        "duration": 4,
        "start_time": "2022-10-24T10:47:07.469Z"
      },
      {
        "duration": 20,
        "start_time": "2022-10-24T10:47:07.474Z"
      },
      {
        "duration": 12,
        "start_time": "2022-10-24T10:47:07.496Z"
      },
      {
        "duration": 128,
        "start_time": "2022-10-24T10:47:07.509Z"
      },
      {
        "duration": 10,
        "start_time": "2022-10-24T10:47:16.343Z"
      },
      {
        "duration": 7,
        "start_time": "2022-10-24T10:47:36.065Z"
      },
      {
        "duration": 6,
        "start_time": "2022-10-24T10:47:37.334Z"
      },
      {
        "duration": 16,
        "start_time": "2022-10-24T10:47:40.212Z"
      },
      {
        "duration": 4,
        "start_time": "2022-10-24T10:57:03.658Z"
      },
      {
        "duration": 1174,
        "start_time": "2022-10-24T11:00:35.968Z"
      },
      {
        "duration": 42,
        "start_time": "2022-10-24T11:00:37.143Z"
      },
      {
        "duration": 17,
        "start_time": "2022-10-24T11:00:37.187Z"
      },
      {
        "duration": 15,
        "start_time": "2022-10-24T11:00:37.205Z"
      },
      {
        "duration": 64,
        "start_time": "2022-10-24T11:00:37.222Z"
      },
      {
        "duration": 28,
        "start_time": "2022-10-24T11:00:37.288Z"
      },
      {
        "duration": 43,
        "start_time": "2022-10-24T11:00:37.318Z"
      },
      {
        "duration": 3,
        "start_time": "2022-10-24T11:00:37.363Z"
      },
      {
        "duration": 17,
        "start_time": "2022-10-24T11:00:37.367Z"
      },
      {
        "duration": 11,
        "start_time": "2022-10-24T11:00:37.386Z"
      },
      {
        "duration": 7,
        "start_time": "2022-10-24T11:00:37.398Z"
      },
      {
        "duration": 27,
        "start_time": "2022-10-24T11:00:37.406Z"
      },
      {
        "duration": 18,
        "start_time": "2022-10-24T11:00:37.435Z"
      },
      {
        "duration": 5,
        "start_time": "2022-10-24T11:00:39.683Z"
      },
      {
        "duration": 100,
        "start_time": "2022-10-24T11:01:14.437Z"
      },
      {
        "duration": 6,
        "start_time": "2022-10-24T11:01:21.097Z"
      },
      {
        "duration": 1197,
        "start_time": "2022-10-24T11:02:11.222Z"
      },
      {
        "duration": 43,
        "start_time": "2022-10-24T11:02:12.421Z"
      },
      {
        "duration": 19,
        "start_time": "2022-10-24T11:02:12.465Z"
      },
      {
        "duration": 15,
        "start_time": "2022-10-24T11:02:12.485Z"
      },
      {
        "duration": 72,
        "start_time": "2022-10-24T11:02:12.502Z"
      },
      {
        "duration": 28,
        "start_time": "2022-10-24T11:02:12.575Z"
      },
      {
        "duration": 42,
        "start_time": "2022-10-24T11:02:12.605Z"
      },
      {
        "duration": 3,
        "start_time": "2022-10-24T11:02:12.649Z"
      },
      {
        "duration": 20,
        "start_time": "2022-10-24T11:02:12.653Z"
      },
      {
        "duration": 13,
        "start_time": "2022-10-24T11:02:12.674Z"
      },
      {
        "duration": 9,
        "start_time": "2022-10-24T11:02:12.689Z"
      },
      {
        "duration": 7,
        "start_time": "2022-10-24T11:02:12.700Z"
      },
      {
        "duration": 8,
        "start_time": "2022-10-24T11:02:12.708Z"
      },
      {
        "duration": 5,
        "start_time": "2022-10-24T11:02:14.870Z"
      },
      {
        "duration": 8,
        "start_time": "2022-10-24T11:02:15.947Z"
      },
      {
        "duration": 4,
        "start_time": "2022-10-24T11:02:21.077Z"
      },
      {
        "duration": 7,
        "start_time": "2022-10-24T11:02:24.131Z"
      },
      {
        "duration": 4,
        "start_time": "2022-10-24T11:21:07.165Z"
      },
      {
        "duration": 9,
        "start_time": "2022-10-24T11:24:18.097Z"
      },
      {
        "duration": 5,
        "start_time": "2022-10-24T11:25:49.459Z"
      },
      {
        "duration": 8,
        "start_time": "2022-10-24T11:26:06.938Z"
      },
      {
        "duration": 8,
        "start_time": "2022-10-24T11:26:37.249Z"
      },
      {
        "duration": 1074,
        "start_time": "2022-10-24T11:27:02.752Z"
      },
      {
        "duration": 41,
        "start_time": "2022-10-24T11:27:03.828Z"
      },
      {
        "duration": 19,
        "start_time": "2022-10-24T11:27:03.871Z"
      },
      {
        "duration": 18,
        "start_time": "2022-10-24T11:27:03.892Z"
      },
      {
        "duration": 84,
        "start_time": "2022-10-24T11:27:03.912Z"
      },
      {
        "duration": 28,
        "start_time": "2022-10-24T11:27:03.998Z"
      },
      {
        "duration": 34,
        "start_time": "2022-10-24T11:27:04.028Z"
      },
      {
        "duration": 3,
        "start_time": "2022-10-24T11:27:04.064Z"
      },
      {
        "duration": 24,
        "start_time": "2022-10-24T11:27:04.068Z"
      },
      {
        "duration": 17,
        "start_time": "2022-10-24T11:27:04.095Z"
      },
      {
        "duration": 20,
        "start_time": "2022-10-24T11:27:04.113Z"
      },
      {
        "duration": 25,
        "start_time": "2022-10-24T11:27:04.135Z"
      },
      {
        "duration": 15,
        "start_time": "2022-10-24T11:27:04.162Z"
      },
      {
        "duration": 26,
        "start_time": "2022-10-24T11:27:04.179Z"
      },
      {
        "duration": 19,
        "start_time": "2022-10-24T11:27:04.206Z"
      },
      {
        "duration": 25,
        "start_time": "2022-10-24T11:27:04.227Z"
      },
      {
        "duration": 15,
        "start_time": "2022-10-24T11:27:08.141Z"
      },
      {
        "duration": 6,
        "start_time": "2022-10-24T11:27:19.017Z"
      },
      {
        "duration": 9,
        "start_time": "2022-10-24T11:27:44.511Z"
      },
      {
        "duration": 7,
        "start_time": "2022-10-24T11:27:45.441Z"
      },
      {
        "duration": 6,
        "start_time": "2022-10-24T11:29:48.070Z"
      },
      {
        "duration": 12,
        "start_time": "2022-10-24T11:30:59.031Z"
      },
      {
        "duration": 9,
        "start_time": "2022-10-24T11:31:36.293Z"
      },
      {
        "duration": 5,
        "start_time": "2022-10-24T11:35:04.748Z"
      },
      {
        "duration": 1204,
        "start_time": "2022-10-24T11:36:10.214Z"
      },
      {
        "duration": 119,
        "start_time": "2022-10-24T11:36:11.420Z"
      },
      {
        "duration": 0,
        "start_time": "2022-10-24T11:36:11.541Z"
      },
      {
        "duration": 0,
        "start_time": "2022-10-24T11:36:11.542Z"
      },
      {
        "duration": 0,
        "start_time": "2022-10-24T11:36:11.544Z"
      },
      {
        "duration": 0,
        "start_time": "2022-10-24T11:36:11.546Z"
      },
      {
        "duration": 0,
        "start_time": "2022-10-24T11:36:11.547Z"
      },
      {
        "duration": 0,
        "start_time": "2022-10-24T11:36:11.548Z"
      },
      {
        "duration": 0,
        "start_time": "2022-10-24T11:36:11.549Z"
      },
      {
        "duration": 0,
        "start_time": "2022-10-24T11:36:11.550Z"
      },
      {
        "duration": 0,
        "start_time": "2022-10-24T11:36:11.552Z"
      },
      {
        "duration": 0,
        "start_time": "2022-10-24T11:36:11.553Z"
      },
      {
        "duration": 0,
        "start_time": "2022-10-24T11:36:11.554Z"
      },
      {
        "duration": 0,
        "start_time": "2022-10-24T11:36:11.555Z"
      },
      {
        "duration": 0,
        "start_time": "2022-10-24T11:36:11.557Z"
      },
      {
        "duration": 0,
        "start_time": "2022-10-24T11:36:11.558Z"
      },
      {
        "duration": 0,
        "start_time": "2022-10-24T11:36:11.560Z"
      },
      {
        "duration": 0,
        "start_time": "2022-10-24T11:36:11.561Z"
      },
      {
        "duration": 0,
        "start_time": "2022-10-24T11:36:11.562Z"
      },
      {
        "duration": 0,
        "start_time": "2022-10-24T11:36:11.563Z"
      },
      {
        "duration": 1164,
        "start_time": "2022-10-24T11:36:35.894Z"
      },
      {
        "duration": 109,
        "start_time": "2022-10-24T11:36:39.564Z"
      },
      {
        "duration": 15,
        "start_time": "2022-10-24T11:36:58.381Z"
      },
      {
        "duration": 1142,
        "start_time": "2022-10-24T11:37:52.505Z"
      },
      {
        "duration": 105,
        "start_time": "2022-10-24T11:37:53.649Z"
      },
      {
        "duration": 1232,
        "start_time": "2022-10-24T12:38:19.447Z"
      },
      {
        "duration": 188,
        "start_time": "2022-10-24T12:38:20.681Z"
      },
      {
        "duration": 18,
        "start_time": "2022-10-24T12:38:25.003Z"
      },
      {
        "duration": 13,
        "start_time": "2022-10-24T12:38:26.164Z"
      },
      {
        "duration": 53,
        "start_time": "2022-10-24T12:38:26.895Z"
      },
      {
        "duration": 31,
        "start_time": "2022-10-24T12:38:27.826Z"
      },
      {
        "duration": 29,
        "start_time": "2022-10-24T12:38:28.714Z"
      },
      {
        "duration": 3,
        "start_time": "2022-10-24T12:38:30.973Z"
      },
      {
        "duration": 14,
        "start_time": "2022-10-24T12:38:31.585Z"
      },
      {
        "duration": 10,
        "start_time": "2022-10-24T12:38:33.090Z"
      },
      {
        "duration": 8,
        "start_time": "2022-10-24T12:38:33.963Z"
      },
      {
        "duration": 5,
        "start_time": "2022-10-24T12:38:45.544Z"
      },
      {
        "duration": 5,
        "start_time": "2022-10-24T12:38:46.730Z"
      },
      {
        "duration": 4,
        "start_time": "2022-10-24T12:38:47.863Z"
      },
      {
        "duration": 7,
        "start_time": "2022-10-24T12:38:48.916Z"
      },
      {
        "duration": 4,
        "start_time": "2022-10-24T12:38:50.571Z"
      },
      {
        "duration": 10,
        "start_time": "2022-10-24T12:38:51.140Z"
      },
      {
        "duration": 7,
        "start_time": "2022-10-24T12:38:53.742Z"
      },
      {
        "duration": 11,
        "start_time": "2022-10-24T12:38:55.472Z"
      },
      {
        "duration": 5,
        "start_time": "2022-10-24T12:38:58.833Z"
      },
      {
        "duration": 20,
        "start_time": "2022-10-24T12:39:48.633Z"
      },
      {
        "duration": 12,
        "start_time": "2022-10-24T12:46:36.200Z"
      },
      {
        "duration": 10,
        "start_time": "2022-10-24T12:47:22.139Z"
      },
      {
        "duration": 29,
        "start_time": "2022-10-24T12:47:22.928Z"
      },
      {
        "duration": 1123,
        "start_time": "2022-10-24T12:47:45.543Z"
      },
      {
        "duration": 57,
        "start_time": "2022-10-24T12:47:46.858Z"
      },
      {
        "duration": 18,
        "start_time": "2022-10-24T12:47:47.705Z"
      },
      {
        "duration": 14,
        "start_time": "2022-10-24T12:47:49.531Z"
      },
      {
        "duration": 58,
        "start_time": "2022-10-24T12:47:52.004Z"
      },
      {
        "duration": 26,
        "start_time": "2022-10-24T12:47:55.062Z"
      },
      {
        "duration": 27,
        "start_time": "2022-10-24T12:47:55.970Z"
      },
      {
        "duration": 3,
        "start_time": "2022-10-24T12:47:59.955Z"
      },
      {
        "duration": 12,
        "start_time": "2022-10-24T12:48:02.192Z"
      },
      {
        "duration": 12,
        "start_time": "2022-10-24T12:48:07.841Z"
      },
      {
        "duration": 28,
        "start_time": "2022-10-24T12:48:10.793Z"
      },
      {
        "duration": 8,
        "start_time": "2022-10-24T12:48:27.241Z"
      },
      {
        "duration": 27,
        "start_time": "2022-10-24T12:48:30.632Z"
      },
      {
        "duration": 7,
        "start_time": "2022-10-24T12:48:47.602Z"
      },
      {
        "duration": 27,
        "start_time": "2022-10-24T12:48:48.335Z"
      },
      {
        "duration": 8,
        "start_time": "2022-10-24T12:49:02.559Z"
      },
      {
        "duration": 25,
        "start_time": "2022-10-24T12:49:41.290Z"
      },
      {
        "duration": 28,
        "start_time": "2022-10-24T12:49:50.589Z"
      },
      {
        "duration": 5,
        "start_time": "2022-10-24T12:49:52.043Z"
      },
      {
        "duration": 25,
        "start_time": "2022-10-24T12:49:55.657Z"
      },
      {
        "duration": 7,
        "start_time": "2022-10-24T12:49:58.540Z"
      },
      {
        "duration": 26,
        "start_time": "2022-10-24T12:50:02.738Z"
      },
      {
        "duration": 4,
        "start_time": "2022-10-24T12:50:06.148Z"
      },
      {
        "duration": 31,
        "start_time": "2022-10-24T12:50:10.776Z"
      },
      {
        "duration": 7,
        "start_time": "2022-10-24T12:50:14.026Z"
      },
      {
        "duration": 8,
        "start_time": "2022-10-24T12:50:19.034Z"
      },
      {
        "duration": 33,
        "start_time": "2022-10-24T12:50:21.295Z"
      },
      {
        "duration": 10,
        "start_time": "2022-10-24T12:50:25.430Z"
      },
      {
        "duration": 26,
        "start_time": "2022-10-24T12:50:27.575Z"
      },
      {
        "duration": 1049,
        "start_time": "2022-10-24T12:52:02.412Z"
      },
      {
        "duration": 50,
        "start_time": "2022-10-24T12:52:03.463Z"
      },
      {
        "duration": 18,
        "start_time": "2022-10-24T12:52:03.514Z"
      },
      {
        "duration": 12,
        "start_time": "2022-10-24T12:52:03.533Z"
      },
      {
        "duration": 71,
        "start_time": "2022-10-24T12:52:03.547Z"
      },
      {
        "duration": 27,
        "start_time": "2022-10-24T12:52:03.619Z"
      },
      {
        "duration": 48,
        "start_time": "2022-10-24T12:52:03.647Z"
      },
      {
        "duration": 3,
        "start_time": "2022-10-24T12:52:03.696Z"
      },
      {
        "duration": 19,
        "start_time": "2022-10-24T12:52:03.700Z"
      },
      {
        "duration": 12,
        "start_time": "2022-10-24T12:52:03.720Z"
      },
      {
        "duration": 9,
        "start_time": "2022-10-24T12:52:03.733Z"
      },
      {
        "duration": 4,
        "start_time": "2022-10-24T12:52:03.744Z"
      },
      {
        "duration": 6,
        "start_time": "2022-10-24T12:52:03.750Z"
      },
      {
        "duration": 29,
        "start_time": "2022-10-24T12:52:03.758Z"
      },
      {
        "duration": 9,
        "start_time": "2022-10-24T12:52:03.788Z"
      },
      {
        "duration": 11,
        "start_time": "2022-10-24T12:52:03.798Z"
      },
      {
        "duration": 64,
        "start_time": "2022-10-24T12:52:03.811Z"
      },
      {
        "duration": 43,
        "start_time": "2022-10-24T12:52:39.298Z"
      },
      {
        "duration": 1080,
        "start_time": "2022-10-24T12:52:59.093Z"
      },
      {
        "duration": 54,
        "start_time": "2022-10-24T12:53:00.175Z"
      },
      {
        "duration": 18,
        "start_time": "2022-10-24T12:53:00.231Z"
      },
      {
        "duration": 31,
        "start_time": "2022-10-24T12:53:00.250Z"
      },
      {
        "duration": 73,
        "start_time": "2022-10-24T12:53:00.283Z"
      },
      {
        "duration": 40,
        "start_time": "2022-10-24T12:53:00.358Z"
      },
      {
        "duration": 28,
        "start_time": "2022-10-24T12:53:00.399Z"
      },
      {
        "duration": 3,
        "start_time": "2022-10-24T12:53:00.429Z"
      },
      {
        "duration": 20,
        "start_time": "2022-10-24T12:53:00.433Z"
      },
      {
        "duration": 27,
        "start_time": "2022-10-24T12:53:00.455Z"
      },
      {
        "duration": 35,
        "start_time": "2022-10-24T12:53:00.484Z"
      },
      {
        "duration": 11,
        "start_time": "2022-10-24T12:53:00.520Z"
      },
      {
        "duration": 11,
        "start_time": "2022-10-24T12:53:00.532Z"
      },
      {
        "duration": 22,
        "start_time": "2022-10-24T12:53:00.546Z"
      },
      {
        "duration": 12,
        "start_time": "2022-10-24T12:53:00.569Z"
      },
      {
        "duration": 22,
        "start_time": "2022-10-24T12:53:00.583Z"
      },
      {
        "duration": 50,
        "start_time": "2022-10-24T12:53:00.607Z"
      },
      {
        "duration": 42,
        "start_time": "2022-10-24T12:53:11.536Z"
      },
      {
        "duration": 1289,
        "start_time": "2022-10-24T15:28:44.744Z"
      },
      {
        "duration": 127,
        "start_time": "2022-10-24T15:28:46.210Z"
      },
      {
        "duration": 21,
        "start_time": "2022-10-24T15:28:48.437Z"
      },
      {
        "duration": 27,
        "start_time": "2022-10-24T15:28:49.823Z"
      },
      {
        "duration": 101,
        "start_time": "2022-10-24T15:28:51.486Z"
      },
      {
        "duration": 30,
        "start_time": "2022-10-24T15:28:57.190Z"
      },
      {
        "duration": 45,
        "start_time": "2022-10-24T15:28:58.155Z"
      },
      {
        "duration": 3,
        "start_time": "2022-10-24T15:29:03.513Z"
      },
      {
        "duration": 19,
        "start_time": "2022-10-24T15:29:04.566Z"
      },
      {
        "duration": 14,
        "start_time": "2022-10-24T15:29:07.266Z"
      },
      {
        "duration": 11,
        "start_time": "2022-10-24T15:29:09.682Z"
      },
      {
        "duration": 7,
        "start_time": "2022-10-24T15:29:12.029Z"
      },
      {
        "duration": 5,
        "start_time": "2022-10-24T15:29:14.104Z"
      },
      {
        "duration": 6,
        "start_time": "2022-10-24T15:29:15.696Z"
      },
      {
        "duration": 7,
        "start_time": "2022-10-24T15:29:16.997Z"
      },
      {
        "duration": 5,
        "start_time": "2022-10-24T15:29:19.282Z"
      },
      {
        "duration": 44,
        "start_time": "2022-10-24T15:29:20.677Z"
      },
      {
        "duration": 11,
        "start_time": "2022-10-24T15:30:11.550Z"
      },
      {
        "duration": 7,
        "start_time": "2022-10-24T15:30:16.989Z"
      },
      {
        "duration": 14,
        "start_time": "2022-10-24T15:30:18.409Z"
      },
      {
        "duration": 4,
        "start_time": "2022-10-24T15:30:21.346Z"
      },
      {
        "duration": 16,
        "start_time": "2022-10-24T15:30:22.090Z"
      },
      {
        "duration": 13,
        "start_time": "2022-10-24T15:30:54.116Z"
      },
      {
        "duration": 9,
        "start_time": "2022-10-24T15:30:55.690Z"
      },
      {
        "duration": 34,
        "start_time": "2022-10-24T15:30:55.881Z"
      },
      {
        "duration": 24,
        "start_time": "2022-10-24T15:31:47.857Z"
      },
      {
        "duration": 6,
        "start_time": "2022-10-24T15:32:22.639Z"
      },
      {
        "duration": 27,
        "start_time": "2022-10-24T15:35:40.375Z"
      },
      {
        "duration": 37,
        "start_time": "2022-10-24T15:36:00.653Z"
      },
      {
        "duration": 28,
        "start_time": "2022-10-24T15:36:37.877Z"
      },
      {
        "duration": 11,
        "start_time": "2022-10-24T15:38:36.581Z"
      },
      {
        "duration": 5,
        "start_time": "2022-10-24T15:38:44.353Z"
      },
      {
        "duration": 1205,
        "start_time": "2022-10-24T15:40:22.351Z"
      },
      {
        "duration": 52,
        "start_time": "2022-10-24T15:40:23.558Z"
      },
      {
        "duration": 24,
        "start_time": "2022-10-24T15:40:23.612Z"
      },
      {
        "duration": 20,
        "start_time": "2022-10-24T15:40:23.639Z"
      },
      {
        "duration": 75,
        "start_time": "2022-10-24T15:40:23.661Z"
      },
      {
        "duration": 27,
        "start_time": "2022-10-24T15:40:23.738Z"
      },
      {
        "duration": 28,
        "start_time": "2022-10-24T15:40:23.767Z"
      },
      {
        "duration": 3,
        "start_time": "2022-10-24T15:40:23.797Z"
      },
      {
        "duration": 40,
        "start_time": "2022-10-24T15:40:23.801Z"
      },
      {
        "duration": 15,
        "start_time": "2022-10-24T15:40:23.844Z"
      },
      {
        "duration": 9,
        "start_time": "2022-10-24T15:40:23.861Z"
      },
      {
        "duration": 13,
        "start_time": "2022-10-24T15:40:23.871Z"
      },
      {
        "duration": 10,
        "start_time": "2022-10-24T15:40:23.885Z"
      },
      {
        "duration": 15,
        "start_time": "2022-10-24T15:40:23.897Z"
      },
      {
        "duration": 21,
        "start_time": "2022-10-24T15:40:23.914Z"
      },
      {
        "duration": 7,
        "start_time": "2022-10-24T15:40:27.120Z"
      },
      {
        "duration": 72,
        "start_time": "2022-10-24T15:41:29.991Z"
      },
      {
        "duration": 132,
        "start_time": "2022-10-24T15:41:41.534Z"
      },
      {
        "duration": 7,
        "start_time": "2022-10-24T15:41:57.771Z"
      },
      {
        "duration": 5,
        "start_time": "2022-10-24T15:42:02.297Z"
      },
      {
        "duration": 1127,
        "start_time": "2022-10-24T15:42:58.973Z"
      },
      {
        "duration": 52,
        "start_time": "2022-10-24T15:43:00.102Z"
      },
      {
        "duration": 21,
        "start_time": "2022-10-24T15:43:00.156Z"
      },
      {
        "duration": 35,
        "start_time": "2022-10-24T15:43:00.180Z"
      },
      {
        "duration": 69,
        "start_time": "2022-10-24T15:43:00.217Z"
      },
      {
        "duration": 49,
        "start_time": "2022-10-24T15:43:00.287Z"
      },
      {
        "duration": 34,
        "start_time": "2022-10-24T15:43:00.338Z"
      },
      {
        "duration": 4,
        "start_time": "2022-10-24T15:43:00.374Z"
      },
      {
        "duration": 34,
        "start_time": "2022-10-24T15:43:00.380Z"
      },
      {
        "duration": 20,
        "start_time": "2022-10-24T15:43:00.417Z"
      },
      {
        "duration": 14,
        "start_time": "2022-10-24T15:43:00.439Z"
      },
      {
        "duration": 23,
        "start_time": "2022-10-24T15:43:00.455Z"
      },
      {
        "duration": 48,
        "start_time": "2022-10-24T15:43:00.480Z"
      },
      {
        "duration": 27,
        "start_time": "2022-10-24T15:43:00.529Z"
      },
      {
        "duration": 30,
        "start_time": "2022-10-24T15:43:00.558Z"
      },
      {
        "duration": 28,
        "start_time": "2022-10-24T15:43:00.590Z"
      },
      {
        "duration": 30,
        "start_time": "2022-10-24T15:43:00.620Z"
      },
      {
        "duration": 9,
        "start_time": "2022-10-24T15:43:02.045Z"
      },
      {
        "duration": 7,
        "start_time": "2022-10-24T15:43:03.868Z"
      },
      {
        "duration": 13,
        "start_time": "2022-10-24T15:43:04.880Z"
      },
      {
        "duration": 6,
        "start_time": "2022-10-24T15:43:07.319Z"
      },
      {
        "duration": 14,
        "start_time": "2022-10-24T15:43:09.063Z"
      },
      {
        "duration": 21,
        "start_time": "2022-10-24T15:43:11.769Z"
      },
      {
        "duration": 12,
        "start_time": "2022-10-24T15:43:14.646Z"
      },
      {
        "duration": 37,
        "start_time": "2022-10-24T15:43:16.179Z"
      },
      {
        "duration": 6,
        "start_time": "2022-10-24T15:43:16.993Z"
      },
      {
        "duration": 28,
        "start_time": "2022-10-24T15:43:40.497Z"
      },
      {
        "duration": 879,
        "start_time": "2022-10-24T15:49:23.932Z"
      },
      {
        "duration": 1034,
        "start_time": "2022-10-24T15:51:34.605Z"
      },
      {
        "duration": 937,
        "start_time": "2022-10-24T15:52:14.677Z"
      },
      {
        "duration": 841,
        "start_time": "2022-10-24T16:34:16.458Z"
      },
      {
        "duration": 304,
        "start_time": "2022-10-24T16:34:23.228Z"
      },
      {
        "duration": 16,
        "start_time": "2022-10-24T16:39:22.217Z"
      },
      {
        "duration": 13,
        "start_time": "2022-10-24T16:39:30.964Z"
      },
      {
        "duration": 137426,
        "start_time": "2022-10-24T16:39:37.475Z"
      },
      {
        "duration": 0,
        "start_time": "2022-10-24T16:41:54.903Z"
      },
      {
        "duration": 1137,
        "start_time": "2022-10-24T16:42:06.623Z"
      },
      {
        "duration": 53,
        "start_time": "2022-10-24T16:42:07.762Z"
      },
      {
        "duration": 17,
        "start_time": "2022-10-24T16:42:07.817Z"
      },
      {
        "duration": 14,
        "start_time": "2022-10-24T16:42:07.836Z"
      },
      {
        "duration": 56,
        "start_time": "2022-10-24T16:42:07.852Z"
      },
      {
        "duration": 51,
        "start_time": "2022-10-24T16:42:07.910Z"
      },
      {
        "duration": 29,
        "start_time": "2022-10-24T16:42:07.963Z"
      },
      {
        "duration": 3,
        "start_time": "2022-10-24T16:42:07.994Z"
      },
      {
        "duration": 17,
        "start_time": "2022-10-24T16:42:07.998Z"
      },
      {
        "duration": 10,
        "start_time": "2022-10-24T16:42:08.035Z"
      },
      {
        "duration": 7,
        "start_time": "2022-10-24T16:42:08.047Z"
      },
      {
        "duration": 5,
        "start_time": "2022-10-24T16:42:08.056Z"
      },
      {
        "duration": 5,
        "start_time": "2022-10-24T16:42:08.062Z"
      },
      {
        "duration": 12,
        "start_time": "2022-10-24T16:42:08.069Z"
      },
      {
        "duration": 14,
        "start_time": "2022-10-24T16:42:08.082Z"
      },
      {
        "duration": 10,
        "start_time": "2022-10-24T16:42:08.098Z"
      },
      {
        "duration": 27,
        "start_time": "2022-10-24T16:42:08.109Z"
      },
      {
        "duration": 17,
        "start_time": "2022-10-24T16:42:08.138Z"
      },
      {
        "duration": 35,
        "start_time": "2022-10-24T16:42:08.157Z"
      },
      {
        "duration": 5,
        "start_time": "2022-10-24T16:42:08.194Z"
      },
      {
        "duration": 23,
        "start_time": "2022-10-24T16:42:08.201Z"
      },
      {
        "duration": 24,
        "start_time": "2022-10-24T16:42:08.226Z"
      },
      {
        "duration": 10,
        "start_time": "2022-10-24T16:42:08.253Z"
      },
      {
        "duration": 42,
        "start_time": "2022-10-24T16:42:08.265Z"
      },
      {
        "duration": 44,
        "start_time": "2022-10-24T16:42:08.309Z"
      },
      {
        "duration": 996,
        "start_time": "2022-10-24T16:42:08.355Z"
      },
      {
        "duration": 138,
        "start_time": "2022-10-24T16:42:16.481Z"
      },
      {
        "duration": 169,
        "start_time": "2022-10-24T16:42:27.509Z"
      },
      {
        "duration": 430,
        "start_time": "2022-10-24T16:43:02.632Z"
      },
      {
        "duration": 341,
        "start_time": "2022-10-24T16:43:10.022Z"
      },
      {
        "duration": 384,
        "start_time": "2022-10-24T16:45:01.852Z"
      },
      {
        "duration": 366,
        "start_time": "2022-10-24T16:45:15.878Z"
      },
      {
        "duration": 337,
        "start_time": "2022-10-24T16:45:39.776Z"
      },
      {
        "duration": 310,
        "start_time": "2022-10-24T16:48:26.356Z"
      },
      {
        "duration": 241,
        "start_time": "2022-10-24T16:49:49.712Z"
      },
      {
        "duration": 136,
        "start_time": "2022-10-24T16:50:03.362Z"
      },
      {
        "duration": 292,
        "start_time": "2022-10-24T16:50:08.803Z"
      },
      {
        "duration": 325,
        "start_time": "2022-10-24T16:55:21.977Z"
      },
      {
        "duration": 323,
        "start_time": "2022-10-24T17:05:33.389Z"
      },
      {
        "duration": 293,
        "start_time": "2022-10-24T17:06:59.320Z"
      },
      {
        "duration": 288,
        "start_time": "2022-10-24T17:07:59.733Z"
      },
      {
        "duration": 350,
        "start_time": "2022-10-24T17:08:06.645Z"
      },
      {
        "duration": 21,
        "start_time": "2022-10-24T17:10:07.636Z"
      },
      {
        "duration": 293,
        "start_time": "2022-10-24T17:10:16.109Z"
      },
      {
        "duration": 11,
        "start_time": "2022-10-24T17:41:32.604Z"
      },
      {
        "duration": 806,
        "start_time": "2022-10-24T17:42:15.014Z"
      },
      {
        "duration": 339,
        "start_time": "2022-10-24T17:43:15.199Z"
      },
      {
        "duration": 327,
        "start_time": "2022-10-24T17:43:45.445Z"
      },
      {
        "duration": 284,
        "start_time": "2022-10-24T17:44:29.404Z"
      },
      {
        "duration": 829,
        "start_time": "2022-10-24T17:46:20.445Z"
      },
      {
        "duration": 893,
        "start_time": "2022-10-24T17:48:01.358Z"
      },
      {
        "duration": 8,
        "start_time": "2022-10-24T18:08:21.550Z"
      },
      {
        "duration": 13,
        "start_time": "2022-10-24T18:08:27.978Z"
      },
      {
        "duration": 19,
        "start_time": "2022-10-24T18:13:38.801Z"
      },
      {
        "duration": 32,
        "start_time": "2022-10-24T18:14:05.992Z"
      },
      {
        "duration": 1116,
        "start_time": "2022-10-24T18:16:24.120Z"
      },
      {
        "duration": 53,
        "start_time": "2022-10-24T18:16:25.237Z"
      },
      {
        "duration": 18,
        "start_time": "2022-10-24T18:16:25.292Z"
      },
      {
        "duration": 14,
        "start_time": "2022-10-24T18:16:25.312Z"
      },
      {
        "duration": 57,
        "start_time": "2022-10-24T18:16:25.328Z"
      },
      {
        "duration": 28,
        "start_time": "2022-10-24T18:16:25.387Z"
      },
      {
        "duration": 42,
        "start_time": "2022-10-24T18:16:25.416Z"
      },
      {
        "duration": 3,
        "start_time": "2022-10-24T18:16:25.459Z"
      },
      {
        "duration": 20,
        "start_time": "2022-10-24T18:16:25.463Z"
      },
      {
        "duration": 16,
        "start_time": "2022-10-24T18:16:25.485Z"
      },
      {
        "duration": 7,
        "start_time": "2022-10-24T18:16:25.502Z"
      },
      {
        "duration": 4,
        "start_time": "2022-10-24T18:16:25.511Z"
      },
      {
        "duration": 18,
        "start_time": "2022-10-24T18:16:25.517Z"
      },
      {
        "duration": 6,
        "start_time": "2022-10-24T18:16:25.538Z"
      },
      {
        "duration": 9,
        "start_time": "2022-10-24T18:16:25.545Z"
      },
      {
        "duration": 6,
        "start_time": "2022-10-24T18:16:25.555Z"
      },
      {
        "duration": 13,
        "start_time": "2022-10-24T18:16:25.562Z"
      },
      {
        "duration": 7,
        "start_time": "2022-10-24T18:16:25.576Z"
      },
      {
        "duration": 14,
        "start_time": "2022-10-24T18:16:25.584Z"
      },
      {
        "duration": 3,
        "start_time": "2022-10-24T18:16:25.600Z"
      },
      {
        "duration": 37,
        "start_time": "2022-10-24T18:16:25.605Z"
      },
      {
        "duration": 14,
        "start_time": "2022-10-24T18:16:25.644Z"
      },
      {
        "duration": 8,
        "start_time": "2022-10-24T18:16:25.659Z"
      },
      {
        "duration": 34,
        "start_time": "2022-10-24T18:16:25.668Z"
      },
      {
        "duration": 46,
        "start_time": "2022-10-24T18:16:25.703Z"
      },
      {
        "duration": 1020,
        "start_time": "2022-10-24T18:16:25.750Z"
      },
      {
        "duration": 323,
        "start_time": "2022-10-24T18:16:26.772Z"
      },
      {
        "duration": 352,
        "start_time": "2022-10-24T18:16:27.097Z"
      },
      {
        "duration": 894,
        "start_time": "2022-10-24T18:16:27.451Z"
      },
      {
        "duration": 44,
        "start_time": "2022-10-24T18:16:32.216Z"
      },
      {
        "duration": 9,
        "start_time": "2022-10-24T18:16:41.698Z"
      },
      {
        "duration": 31,
        "start_time": "2022-10-24T18:16:49.477Z"
      },
      {
        "duration": 1101,
        "start_time": "2022-10-24T18:18:39.641Z"
      },
      {
        "duration": 51,
        "start_time": "2022-10-24T18:18:40.744Z"
      },
      {
        "duration": 18,
        "start_time": "2022-10-24T18:18:40.797Z"
      },
      {
        "duration": 14,
        "start_time": "2022-10-24T18:18:40.816Z"
      },
      {
        "duration": 56,
        "start_time": "2022-10-24T18:18:40.832Z"
      },
      {
        "duration": 27,
        "start_time": "2022-10-24T18:18:40.890Z"
      },
      {
        "duration": 42,
        "start_time": "2022-10-24T18:18:40.919Z"
      },
      {
        "duration": 2,
        "start_time": "2022-10-24T18:18:40.963Z"
      },
      {
        "duration": 20,
        "start_time": "2022-10-24T18:18:40.967Z"
      },
      {
        "duration": 18,
        "start_time": "2022-10-24T18:18:40.989Z"
      },
      {
        "duration": 7,
        "start_time": "2022-10-24T18:18:41.009Z"
      },
      {
        "duration": 16,
        "start_time": "2022-10-24T18:18:41.017Z"
      },
      {
        "duration": 5,
        "start_time": "2022-10-24T18:18:41.034Z"
      },
      {
        "duration": 6,
        "start_time": "2022-10-24T18:18:41.041Z"
      },
      {
        "duration": 10,
        "start_time": "2022-10-24T18:18:41.048Z"
      },
      {
        "duration": 9,
        "start_time": "2022-10-24T18:18:41.059Z"
      },
      {
        "duration": 10,
        "start_time": "2022-10-24T18:18:41.070Z"
      },
      {
        "duration": 7,
        "start_time": "2022-10-24T18:18:41.081Z"
      },
      {
        "duration": 15,
        "start_time": "2022-10-24T18:18:41.089Z"
      },
      {
        "duration": 28,
        "start_time": "2022-10-24T18:18:41.106Z"
      },
      {
        "duration": 16,
        "start_time": "2022-10-24T18:18:41.136Z"
      },
      {
        "duration": 15,
        "start_time": "2022-10-24T18:18:41.153Z"
      },
      {
        "duration": 8,
        "start_time": "2022-10-24T18:18:41.169Z"
      },
      {
        "duration": 37,
        "start_time": "2022-10-24T18:18:41.179Z"
      },
      {
        "duration": 25,
        "start_time": "2022-10-24T18:18:41.234Z"
      },
      {
        "duration": 981,
        "start_time": "2022-10-24T18:18:41.260Z"
      },
      {
        "duration": 325,
        "start_time": "2022-10-24T18:18:42.243Z"
      },
      {
        "duration": 347,
        "start_time": "2022-10-24T18:18:42.570Z"
      },
      {
        "duration": 910,
        "start_time": "2022-10-24T18:18:42.919Z"
      },
      {
        "duration": 10,
        "start_time": "2022-10-24T18:18:46.284Z"
      },
      {
        "duration": 32,
        "start_time": "2022-10-24T18:18:47.412Z"
      },
      {
        "duration": 1109,
        "start_time": "2022-10-24T18:23:15.482Z"
      },
      {
        "duration": 54,
        "start_time": "2022-10-24T18:23:16.594Z"
      },
      {
        "duration": 19,
        "start_time": "2022-10-24T18:23:16.650Z"
      },
      {
        "duration": 15,
        "start_time": "2022-10-24T18:23:16.671Z"
      },
      {
        "duration": 81,
        "start_time": "2022-10-24T18:23:16.687Z"
      },
      {
        "duration": 30,
        "start_time": "2022-10-24T18:23:16.769Z"
      },
      {
        "duration": 42,
        "start_time": "2022-10-24T18:23:16.800Z"
      },
      {
        "duration": 2,
        "start_time": "2022-10-24T18:23:16.844Z"
      },
      {
        "duration": 16,
        "start_time": "2022-10-24T18:23:16.848Z"
      },
      {
        "duration": 11,
        "start_time": "2022-10-24T18:23:16.866Z"
      },
      {
        "duration": 7,
        "start_time": "2022-10-24T18:23:16.878Z"
      },
      {
        "duration": 5,
        "start_time": "2022-10-24T18:23:16.887Z"
      },
      {
        "duration": 8,
        "start_time": "2022-10-24T18:23:16.893Z"
      },
      {
        "duration": 30,
        "start_time": "2022-10-24T18:23:16.903Z"
      },
      {
        "duration": 6,
        "start_time": "2022-10-24T18:23:16.935Z"
      },
      {
        "duration": 7,
        "start_time": "2022-10-24T18:23:16.942Z"
      },
      {
        "duration": 13,
        "start_time": "2022-10-24T18:23:16.950Z"
      },
      {
        "duration": 6,
        "start_time": "2022-10-24T18:23:16.965Z"
      },
      {
        "duration": 15,
        "start_time": "2022-10-24T18:23:16.973Z"
      },
      {
        "duration": 5,
        "start_time": "2022-10-24T18:23:16.989Z"
      },
      {
        "duration": 42,
        "start_time": "2022-10-24T18:23:16.995Z"
      },
      {
        "duration": 15,
        "start_time": "2022-10-24T18:23:17.038Z"
      },
      {
        "duration": 9,
        "start_time": "2022-10-24T18:23:17.055Z"
      },
      {
        "duration": 44,
        "start_time": "2022-10-24T18:23:17.065Z"
      },
      {
        "duration": 39,
        "start_time": "2022-10-24T18:23:17.111Z"
      },
      {
        "duration": 967,
        "start_time": "2022-10-24T18:23:17.151Z"
      },
      {
        "duration": 358,
        "start_time": "2022-10-24T18:23:18.120Z"
      },
      {
        "duration": 376,
        "start_time": "2022-10-24T18:23:18.481Z"
      },
      {
        "duration": 934,
        "start_time": "2022-10-24T18:23:18.858Z"
      },
      {
        "duration": 18,
        "start_time": "2022-10-24T18:23:25.285Z"
      },
      {
        "duration": 40,
        "start_time": "2022-10-24T18:23:26.143Z"
      },
      {
        "duration": 26,
        "start_time": "2022-10-24T18:24:05.954Z"
      },
      {
        "duration": 14,
        "start_time": "2022-10-24T18:24:13.109Z"
      },
      {
        "duration": 33,
        "start_time": "2022-10-24T18:24:13.860Z"
      },
      {
        "duration": 13,
        "start_time": "2022-10-24T18:24:27.011Z"
      },
      {
        "duration": 1058,
        "start_time": "2022-10-24T18:24:47.994Z"
      },
      {
        "duration": 54,
        "start_time": "2022-10-24T18:24:49.054Z"
      },
      {
        "duration": 18,
        "start_time": "2022-10-24T18:24:49.109Z"
      },
      {
        "duration": 19,
        "start_time": "2022-10-24T18:24:49.129Z"
      },
      {
        "duration": 57,
        "start_time": "2022-10-24T18:24:49.150Z"
      },
      {
        "duration": 42,
        "start_time": "2022-10-24T18:24:49.209Z"
      },
      {
        "duration": 30,
        "start_time": "2022-10-24T18:24:49.252Z"
      },
      {
        "duration": 3,
        "start_time": "2022-10-24T18:24:49.283Z"
      },
      {
        "duration": 17,
        "start_time": "2022-10-24T18:24:49.288Z"
      },
      {
        "duration": 31,
        "start_time": "2022-10-24T18:24:49.309Z"
      },
      {
        "duration": 9,
        "start_time": "2022-10-24T18:24:49.341Z"
      },
      {
        "duration": 5,
        "start_time": "2022-10-24T18:24:49.352Z"
      },
      {
        "duration": 9,
        "start_time": "2022-10-24T18:24:49.359Z"
      },
      {
        "duration": 6,
        "start_time": "2022-10-24T18:24:49.369Z"
      },
      {
        "duration": 10,
        "start_time": "2022-10-24T18:24:49.377Z"
      },
      {
        "duration": 9,
        "start_time": "2022-10-24T18:24:49.389Z"
      },
      {
        "duration": 15,
        "start_time": "2022-10-24T18:24:49.399Z"
      },
      {
        "duration": 19,
        "start_time": "2022-10-24T18:24:49.415Z"
      },
      {
        "duration": 15,
        "start_time": "2022-10-24T18:24:49.435Z"
      },
      {
        "duration": 4,
        "start_time": "2022-10-24T18:24:49.451Z"
      },
      {
        "duration": 14,
        "start_time": "2022-10-24T18:24:49.457Z"
      },
      {
        "duration": 15,
        "start_time": "2022-10-24T18:24:49.472Z"
      },
      {
        "duration": 9,
        "start_time": "2022-10-24T18:24:49.488Z"
      },
      {
        "duration": 61,
        "start_time": "2022-10-24T18:24:49.498Z"
      },
      {
        "duration": 23,
        "start_time": "2022-10-24T18:24:49.560Z"
      },
      {
        "duration": 981,
        "start_time": "2022-10-24T18:24:49.585Z"
      },
      {
        "duration": 310,
        "start_time": "2022-10-24T18:24:50.567Z"
      },
      {
        "duration": 349,
        "start_time": "2022-10-24T18:24:50.880Z"
      },
      {
        "duration": 912,
        "start_time": "2022-10-24T18:24:51.230Z"
      },
      {
        "duration": 104,
        "start_time": "2022-10-24T18:25:33.017Z"
      },
      {
        "duration": 13,
        "start_time": "2022-10-24T18:27:59.013Z"
      },
      {
        "duration": 19,
        "start_time": "2022-10-24T18:28:29.200Z"
      },
      {
        "duration": 8,
        "start_time": "2022-10-24T18:28:51.884Z"
      },
      {
        "duration": 16,
        "start_time": "2022-10-24T18:28:52.703Z"
      },
      {
        "duration": 1089,
        "start_time": "2022-10-24T18:29:42.170Z"
      },
      {
        "duration": 52,
        "start_time": "2022-10-24T18:29:43.263Z"
      },
      {
        "duration": 16,
        "start_time": "2022-10-24T18:29:43.317Z"
      },
      {
        "duration": 13,
        "start_time": "2022-10-24T18:29:43.335Z"
      },
      {
        "duration": 60,
        "start_time": "2022-10-24T18:29:43.350Z"
      },
      {
        "duration": 41,
        "start_time": "2022-10-24T18:29:43.412Z"
      },
      {
        "duration": 28,
        "start_time": "2022-10-24T18:29:43.455Z"
      },
      {
        "duration": 3,
        "start_time": "2022-10-24T18:29:43.484Z"
      },
      {
        "duration": 23,
        "start_time": "2022-10-24T18:29:43.489Z"
      },
      {
        "duration": 26,
        "start_time": "2022-10-24T18:29:43.514Z"
      },
      {
        "duration": 8,
        "start_time": "2022-10-24T18:29:43.541Z"
      },
      {
        "duration": 5,
        "start_time": "2022-10-24T18:29:43.550Z"
      },
      {
        "duration": 5,
        "start_time": "2022-10-24T18:29:43.557Z"
      },
      {
        "duration": 8,
        "start_time": "2022-10-24T18:29:43.563Z"
      },
      {
        "duration": 8,
        "start_time": "2022-10-24T18:29:43.572Z"
      },
      {
        "duration": 5,
        "start_time": "2022-10-24T18:29:43.582Z"
      },
      {
        "duration": 10,
        "start_time": "2022-10-24T18:29:43.589Z"
      },
      {
        "duration": 35,
        "start_time": "2022-10-24T18:29:43.601Z"
      },
      {
        "duration": 15,
        "start_time": "2022-10-24T18:29:43.638Z"
      },
      {
        "duration": 5,
        "start_time": "2022-10-24T18:29:43.655Z"
      },
      {
        "duration": 17,
        "start_time": "2022-10-24T18:29:43.661Z"
      },
      {
        "duration": 15,
        "start_time": "2022-10-24T18:29:43.680Z"
      },
      {
        "duration": 37,
        "start_time": "2022-10-24T18:29:43.697Z"
      },
      {
        "duration": 33,
        "start_time": "2022-10-24T18:29:43.736Z"
      },
      {
        "duration": 26,
        "start_time": "2022-10-24T18:29:43.771Z"
      },
      {
        "duration": 980,
        "start_time": "2022-10-24T18:29:43.798Z"
      },
      {
        "duration": 338,
        "start_time": "2022-10-24T18:29:44.780Z"
      },
      {
        "duration": 368,
        "start_time": "2022-10-24T18:29:45.122Z"
      },
      {
        "duration": 1038,
        "start_time": "2022-10-24T18:29:45.492Z"
      },
      {
        "duration": 1146,
        "start_time": "2022-10-24T18:31:30.002Z"
      },
      {
        "duration": 52,
        "start_time": "2022-10-24T18:31:31.151Z"
      },
      {
        "duration": 17,
        "start_time": "2022-10-24T18:31:31.205Z"
      },
      {
        "duration": 20,
        "start_time": "2022-10-24T18:31:31.224Z"
      },
      {
        "duration": 57,
        "start_time": "2022-10-24T18:31:31.245Z"
      },
      {
        "duration": 42,
        "start_time": "2022-10-24T18:31:31.303Z"
      },
      {
        "duration": 29,
        "start_time": "2022-10-24T18:31:31.346Z"
      },
      {
        "duration": 3,
        "start_time": "2022-10-24T18:31:31.377Z"
      },
      {
        "duration": 34,
        "start_time": "2022-10-24T18:31:31.381Z"
      },
      {
        "duration": 15,
        "start_time": "2022-10-24T18:31:31.418Z"
      },
      {
        "duration": 8,
        "start_time": "2022-10-24T18:31:31.434Z"
      },
      {
        "duration": 11,
        "start_time": "2022-10-24T18:31:31.444Z"
      },
      {
        "duration": 6,
        "start_time": "2022-10-24T18:31:31.457Z"
      },
      {
        "duration": 6,
        "start_time": "2022-10-24T18:31:31.464Z"
      },
      {
        "duration": 13,
        "start_time": "2022-10-24T18:31:31.472Z"
      },
      {
        "duration": 9,
        "start_time": "2022-10-24T18:31:31.487Z"
      },
      {
        "duration": 18,
        "start_time": "2022-10-24T18:31:31.498Z"
      },
      {
        "duration": 7,
        "start_time": "2022-10-24T18:31:31.517Z"
      },
      {
        "duration": 21,
        "start_time": "2022-10-24T18:31:31.525Z"
      },
      {
        "duration": 4,
        "start_time": "2022-10-24T18:31:31.548Z"
      },
      {
        "duration": 19,
        "start_time": "2022-10-24T18:31:31.553Z"
      },
      {
        "duration": 18,
        "start_time": "2022-10-24T18:31:31.573Z"
      },
      {
        "duration": 8,
        "start_time": "2022-10-24T18:31:31.593Z"
      },
      {
        "duration": 54,
        "start_time": "2022-10-24T18:31:31.603Z"
      },
      {
        "duration": 26,
        "start_time": "2022-10-24T18:31:31.659Z"
      },
      {
        "duration": 958,
        "start_time": "2022-10-24T18:31:31.686Z"
      },
      {
        "duration": 320,
        "start_time": "2022-10-24T18:31:32.646Z"
      },
      {
        "duration": 357,
        "start_time": "2022-10-24T18:31:32.970Z"
      },
      {
        "duration": 909,
        "start_time": "2022-10-24T18:31:33.333Z"
      },
      {
        "duration": 11,
        "start_time": "2022-10-24T18:31:41.804Z"
      },
      {
        "duration": 14,
        "start_time": "2022-10-24T18:31:42.942Z"
      },
      {
        "duration": 1054,
        "start_time": "2022-10-24T18:33:44.384Z"
      },
      {
        "duration": 56,
        "start_time": "2022-10-24T18:33:45.440Z"
      },
      {
        "duration": 20,
        "start_time": "2022-10-24T18:33:45.498Z"
      },
      {
        "duration": 15,
        "start_time": "2022-10-24T18:33:45.520Z"
      },
      {
        "duration": 64,
        "start_time": "2022-10-24T18:33:45.537Z"
      },
      {
        "duration": 39,
        "start_time": "2022-10-24T18:33:45.602Z"
      },
      {
        "duration": 31,
        "start_time": "2022-10-24T18:33:45.643Z"
      },
      {
        "duration": 3,
        "start_time": "2022-10-24T18:33:45.675Z"
      },
      {
        "duration": 17,
        "start_time": "2022-10-24T18:33:45.680Z"
      },
      {
        "duration": 34,
        "start_time": "2022-10-24T18:33:45.699Z"
      },
      {
        "duration": 7,
        "start_time": "2022-10-24T18:33:45.735Z"
      },
      {
        "duration": 4,
        "start_time": "2022-10-24T18:33:45.744Z"
      },
      {
        "duration": 6,
        "start_time": "2022-10-24T18:33:45.750Z"
      },
      {
        "duration": 6,
        "start_time": "2022-10-24T18:33:45.759Z"
      },
      {
        "duration": 9,
        "start_time": "2022-10-24T18:33:45.766Z"
      },
      {
        "duration": 7,
        "start_time": "2022-10-24T18:33:45.777Z"
      },
      {
        "duration": 9,
        "start_time": "2022-10-24T18:33:45.785Z"
      },
      {
        "duration": 8,
        "start_time": "2022-10-24T18:33:45.796Z"
      },
      {
        "duration": 36,
        "start_time": "2022-10-24T18:33:45.805Z"
      },
      {
        "duration": 4,
        "start_time": "2022-10-24T18:33:45.843Z"
      },
      {
        "duration": 17,
        "start_time": "2022-10-24T18:33:45.849Z"
      },
      {
        "duration": 18,
        "start_time": "2022-10-24T18:33:45.868Z"
      },
      {
        "duration": 8,
        "start_time": "2022-10-24T18:33:45.888Z"
      },
      {
        "duration": 68,
        "start_time": "2022-10-24T18:33:45.898Z"
      },
      {
        "duration": 26,
        "start_time": "2022-10-24T18:33:45.968Z"
      },
      {
        "duration": 1111,
        "start_time": "2022-10-24T18:33:45.996Z"
      },
      {
        "duration": 348,
        "start_time": "2022-10-24T18:33:47.109Z"
      },
      {
        "duration": 363,
        "start_time": "2022-10-24T18:33:47.459Z"
      },
      {
        "duration": 922,
        "start_time": "2022-10-24T18:33:47.824Z"
      },
      {
        "duration": 1072,
        "start_time": "2022-10-24T18:33:51.261Z"
      },
      {
        "duration": 25,
        "start_time": "2022-10-24T18:35:02.779Z"
      },
      {
        "duration": 46,
        "start_time": "2022-10-24T18:40:14.059Z"
      },
      {
        "duration": 1140,
        "start_time": "2022-10-24T18:40:19.001Z"
      },
      {
        "duration": 55,
        "start_time": "2022-10-24T18:40:20.143Z"
      },
      {
        "duration": 22,
        "start_time": "2022-10-24T18:40:20.200Z"
      },
      {
        "duration": 22,
        "start_time": "2022-10-24T18:40:20.224Z"
      },
      {
        "duration": 73,
        "start_time": "2022-10-24T18:40:20.247Z"
      },
      {
        "duration": 32,
        "start_time": "2022-10-24T18:40:20.322Z"
      },
      {
        "duration": 40,
        "start_time": "2022-10-24T18:40:20.356Z"
      },
      {
        "duration": 17,
        "start_time": "2022-10-24T18:40:20.398Z"
      },
      {
        "duration": 37,
        "start_time": "2022-10-24T18:40:20.416Z"
      },
      {
        "duration": 40,
        "start_time": "2022-10-24T18:40:20.455Z"
      },
      {
        "duration": 35,
        "start_time": "2022-10-24T18:40:20.497Z"
      },
      {
        "duration": 22,
        "start_time": "2022-10-24T18:40:20.534Z"
      },
      {
        "duration": 43,
        "start_time": "2022-10-24T18:40:20.557Z"
      },
      {
        "duration": 21,
        "start_time": "2022-10-24T18:40:20.601Z"
      },
      {
        "duration": 29,
        "start_time": "2022-10-24T18:40:20.623Z"
      },
      {
        "duration": 16,
        "start_time": "2022-10-24T18:40:20.653Z"
      },
      {
        "duration": 28,
        "start_time": "2022-10-24T18:40:20.670Z"
      },
      {
        "duration": 20,
        "start_time": "2022-10-24T18:40:20.699Z"
      },
      {
        "duration": 27,
        "start_time": "2022-10-24T18:40:20.720Z"
      },
      {
        "duration": 18,
        "start_time": "2022-10-24T18:40:20.749Z"
      },
      {
        "duration": 27,
        "start_time": "2022-10-24T18:40:20.768Z"
      },
      {
        "duration": 23,
        "start_time": "2022-10-24T18:40:20.796Z"
      },
      {
        "duration": 28,
        "start_time": "2022-10-24T18:40:20.821Z"
      },
      {
        "duration": 44,
        "start_time": "2022-10-24T18:40:20.850Z"
      },
      {
        "duration": 24,
        "start_time": "2022-10-24T18:40:20.895Z"
      },
      {
        "duration": 976,
        "start_time": "2022-10-24T18:40:20.922Z"
      },
      {
        "duration": 338,
        "start_time": "2022-10-24T18:40:21.899Z"
      },
      {
        "duration": 348,
        "start_time": "2022-10-24T18:40:22.239Z"
      },
      {
        "duration": 910,
        "start_time": "2022-10-24T18:40:22.588Z"
      },
      {
        "duration": 15,
        "start_time": "2022-10-24T18:40:27.562Z"
      },
      {
        "duration": 5,
        "start_time": "2022-10-24T18:41:02.825Z"
      },
      {
        "duration": 1099,
        "start_time": "2022-10-24T18:41:42.382Z"
      },
      {
        "duration": 50,
        "start_time": "2022-10-24T18:41:43.483Z"
      },
      {
        "duration": 23,
        "start_time": "2022-10-24T18:41:43.536Z"
      },
      {
        "duration": 17,
        "start_time": "2022-10-24T18:41:43.561Z"
      },
      {
        "duration": 78,
        "start_time": "2022-10-24T18:41:43.580Z"
      },
      {
        "duration": 28,
        "start_time": "2022-10-24T18:41:43.660Z"
      },
      {
        "duration": 50,
        "start_time": "2022-10-24T18:41:43.689Z"
      },
      {
        "duration": 3,
        "start_time": "2022-10-24T18:41:43.741Z"
      },
      {
        "duration": 17,
        "start_time": "2022-10-24T18:41:43.746Z"
      },
      {
        "duration": 10,
        "start_time": "2022-10-24T18:41:43.766Z"
      },
      {
        "duration": 8,
        "start_time": "2022-10-24T18:41:43.778Z"
      },
      {
        "duration": 5,
        "start_time": "2022-10-24T18:41:43.788Z"
      },
      {
        "duration": 5,
        "start_time": "2022-10-24T18:41:43.794Z"
      },
      {
        "duration": 35,
        "start_time": "2022-10-24T18:41:43.801Z"
      },
      {
        "duration": 11,
        "start_time": "2022-10-24T18:41:43.838Z"
      },
      {
        "duration": 8,
        "start_time": "2022-10-24T18:41:43.850Z"
      },
      {
        "duration": 21,
        "start_time": "2022-10-24T18:41:43.860Z"
      },
      {
        "duration": 9,
        "start_time": "2022-10-24T18:41:43.883Z"
      },
      {
        "duration": 15,
        "start_time": "2022-10-24T18:41:43.893Z"
      },
      {
        "duration": 4,
        "start_time": "2022-10-24T18:41:43.910Z"
      },
      {
        "duration": 27,
        "start_time": "2022-10-24T18:41:43.916Z"
      },
      {
        "duration": 16,
        "start_time": "2022-10-24T18:41:43.945Z"
      },
      {
        "duration": 8,
        "start_time": "2022-10-24T18:41:43.963Z"
      },
      {
        "duration": 32,
        "start_time": "2022-10-24T18:41:43.973Z"
      },
      {
        "duration": 47,
        "start_time": "2022-10-24T18:41:44.006Z"
      },
      {
        "duration": 938,
        "start_time": "2022-10-24T18:41:44.054Z"
      },
      {
        "duration": 324,
        "start_time": "2022-10-24T18:41:44.993Z"
      },
      {
        "duration": 383,
        "start_time": "2022-10-24T18:41:45.333Z"
      },
      {
        "duration": 1026,
        "start_time": "2022-10-24T18:41:45.717Z"
      },
      {
        "duration": 16,
        "start_time": "2022-10-24T18:41:46.745Z"
      },
      {
        "duration": 8,
        "start_time": "2022-10-24T18:41:46.762Z"
      },
      {
        "duration": 182,
        "start_time": "2022-10-24T18:42:58.699Z"
      },
      {
        "duration": 172,
        "start_time": "2022-10-24T18:43:46.041Z"
      },
      {
        "duration": 169,
        "start_time": "2022-10-24T18:44:03.140Z"
      },
      {
        "duration": 1143,
        "start_time": "2022-10-24T18:49:40.062Z"
      },
      {
        "duration": 54,
        "start_time": "2022-10-24T18:49:41.207Z"
      },
      {
        "duration": 17,
        "start_time": "2022-10-24T18:49:41.263Z"
      },
      {
        "duration": 13,
        "start_time": "2022-10-24T18:49:41.282Z"
      },
      {
        "duration": 69,
        "start_time": "2022-10-24T18:49:41.297Z"
      },
      {
        "duration": 44,
        "start_time": "2022-10-24T18:49:41.368Z"
      },
      {
        "duration": 36,
        "start_time": "2022-10-24T18:49:41.414Z"
      },
      {
        "duration": 2,
        "start_time": "2022-10-24T18:49:41.452Z"
      },
      {
        "duration": 17,
        "start_time": "2022-10-24T18:49:41.456Z"
      },
      {
        "duration": 13,
        "start_time": "2022-10-24T18:49:41.476Z"
      },
      {
        "duration": 7,
        "start_time": "2022-10-24T18:49:41.491Z"
      },
      {
        "duration": 5,
        "start_time": "2022-10-24T18:49:41.500Z"
      },
      {
        "duration": 28,
        "start_time": "2022-10-24T18:49:41.506Z"
      },
      {
        "duration": 4,
        "start_time": "2022-10-24T18:49:41.536Z"
      },
      {
        "duration": 12,
        "start_time": "2022-10-24T18:49:41.542Z"
      },
      {
        "duration": 7,
        "start_time": "2022-10-24T18:49:41.556Z"
      },
      {
        "duration": 11,
        "start_time": "2022-10-24T18:49:41.565Z"
      },
      {
        "duration": 9,
        "start_time": "2022-10-24T18:49:41.578Z"
      },
      {
        "duration": 49,
        "start_time": "2022-10-24T18:49:41.589Z"
      },
      {
        "duration": 4,
        "start_time": "2022-10-24T18:49:41.640Z"
      },
      {
        "duration": 24,
        "start_time": "2022-10-24T18:49:41.646Z"
      },
      {
        "duration": 22,
        "start_time": "2022-10-24T18:49:41.672Z"
      },
      {
        "duration": 9,
        "start_time": "2022-10-24T18:49:41.696Z"
      },
      {
        "duration": 69,
        "start_time": "2022-10-24T18:49:41.707Z"
      },
      {
        "duration": 39,
        "start_time": "2022-10-24T18:49:41.778Z"
      },
      {
        "duration": 956,
        "start_time": "2022-10-24T18:49:41.819Z"
      },
      {
        "duration": 323,
        "start_time": "2022-10-24T18:49:42.776Z"
      },
      {
        "duration": 350,
        "start_time": "2022-10-24T18:49:43.102Z"
      },
      {
        "duration": 912,
        "start_time": "2022-10-24T18:49:43.453Z"
      },
      {
        "duration": 281,
        "start_time": "2022-10-24T18:49:48.406Z"
      },
      {
        "duration": 45,
        "start_time": "2022-10-24T18:50:13.006Z"
      },
      {
        "duration": 52,
        "start_time": "2022-10-24T18:50:20.583Z"
      },
      {
        "duration": 176,
        "start_time": "2022-10-24T18:50:50.483Z"
      },
      {
        "duration": 14,
        "start_time": "2022-10-24T18:51:24.441Z"
      },
      {
        "duration": 7,
        "start_time": "2022-10-24T18:51:44.516Z"
      },
      {
        "duration": 20,
        "start_time": "2022-10-24T18:52:02.981Z"
      },
      {
        "duration": 6,
        "start_time": "2022-10-24T18:52:39.652Z"
      },
      {
        "duration": 201,
        "start_time": "2022-10-24T18:52:45.469Z"
      },
      {
        "duration": 1189,
        "start_time": "2022-10-24T19:20:56.044Z"
      },
      {
        "duration": 51,
        "start_time": "2022-10-24T19:20:57.236Z"
      },
      {
        "duration": 20,
        "start_time": "2022-10-24T19:20:57.289Z"
      },
      {
        "duration": 40,
        "start_time": "2022-10-24T19:20:57.312Z"
      },
      {
        "duration": 64,
        "start_time": "2022-10-24T19:20:57.354Z"
      },
      {
        "duration": 43,
        "start_time": "2022-10-24T19:20:57.420Z"
      },
      {
        "duration": 34,
        "start_time": "2022-10-24T19:20:57.465Z"
      },
      {
        "duration": 3,
        "start_time": "2022-10-24T19:20:57.501Z"
      },
      {
        "duration": 19,
        "start_time": "2022-10-24T19:20:57.534Z"
      },
      {
        "duration": 22,
        "start_time": "2022-10-24T19:20:57.558Z"
      },
      {
        "duration": 12,
        "start_time": "2022-10-24T19:20:57.583Z"
      },
      {
        "duration": 6,
        "start_time": "2022-10-24T19:20:57.597Z"
      },
      {
        "duration": 31,
        "start_time": "2022-10-24T19:20:57.605Z"
      },
      {
        "duration": 9,
        "start_time": "2022-10-24T19:20:57.638Z"
      },
      {
        "duration": 13,
        "start_time": "2022-10-24T19:20:57.649Z"
      },
      {
        "duration": 8,
        "start_time": "2022-10-24T19:20:57.665Z"
      },
      {
        "duration": 17,
        "start_time": "2022-10-24T19:20:57.675Z"
      },
      {
        "duration": 9,
        "start_time": "2022-10-24T19:20:57.694Z"
      },
      {
        "duration": 44,
        "start_time": "2022-10-24T19:20:57.704Z"
      },
      {
        "duration": 6,
        "start_time": "2022-10-24T19:20:57.750Z"
      },
      {
        "duration": 24,
        "start_time": "2022-10-24T19:20:57.757Z"
      },
      {
        "duration": 26,
        "start_time": "2022-10-24T19:20:57.783Z"
      },
      {
        "duration": 29,
        "start_time": "2022-10-24T19:20:57.810Z"
      },
      {
        "duration": 50,
        "start_time": "2022-10-24T19:20:57.840Z"
      },
      {
        "duration": 49,
        "start_time": "2022-10-24T19:20:57.891Z"
      },
      {
        "duration": 1119,
        "start_time": "2022-10-24T19:20:57.942Z"
      },
      {
        "duration": 388,
        "start_time": "2022-10-24T19:20:59.063Z"
      },
      {
        "duration": 425,
        "start_time": "2022-10-24T19:20:59.454Z"
      },
      {
        "duration": 996,
        "start_time": "2022-10-24T19:20:59.880Z"
      },
      {
        "duration": 8,
        "start_time": "2022-10-24T19:22:57.044Z"
      },
      {
        "duration": 36,
        "start_time": "2022-10-24T19:23:07.047Z"
      },
      {
        "duration": 1034,
        "start_time": "2022-10-24T19:26:49.089Z"
      },
      {
        "duration": 63,
        "start_time": "2022-10-24T19:26:50.125Z"
      },
      {
        "duration": 19,
        "start_time": "2022-10-24T19:26:50.191Z"
      },
      {
        "duration": 21,
        "start_time": "2022-10-24T19:26:50.213Z"
      },
      {
        "duration": 68,
        "start_time": "2022-10-24T19:26:50.236Z"
      },
      {
        "duration": 39,
        "start_time": "2022-10-24T19:26:50.306Z"
      },
      {
        "duration": 30,
        "start_time": "2022-10-24T19:26:50.347Z"
      },
      {
        "duration": 4,
        "start_time": "2022-10-24T19:26:50.379Z"
      },
      {
        "duration": 27,
        "start_time": "2022-10-24T19:26:50.385Z"
      },
      {
        "duration": 26,
        "start_time": "2022-10-24T19:26:50.416Z"
      },
      {
        "duration": 10,
        "start_time": "2022-10-24T19:26:50.443Z"
      },
      {
        "duration": 25,
        "start_time": "2022-10-24T19:26:50.455Z"
      },
      {
        "duration": 7,
        "start_time": "2022-10-24T19:26:50.482Z"
      },
      {
        "duration": 9,
        "start_time": "2022-10-24T19:26:50.491Z"
      },
      {
        "duration": 11,
        "start_time": "2022-10-24T19:26:50.502Z"
      },
      {
        "duration": 7,
        "start_time": "2022-10-24T19:26:50.515Z"
      },
      {
        "duration": 19,
        "start_time": "2022-10-24T19:26:50.524Z"
      },
      {
        "duration": 7,
        "start_time": "2022-10-24T19:26:50.545Z"
      },
      {
        "duration": 16,
        "start_time": "2022-10-24T19:26:50.554Z"
      },
      {
        "duration": 5,
        "start_time": "2022-10-24T19:26:50.572Z"
      },
      {
        "duration": 16,
        "start_time": "2022-10-24T19:26:50.579Z"
      },
      {
        "duration": 40,
        "start_time": "2022-10-24T19:26:50.597Z"
      },
      {
        "duration": 13,
        "start_time": "2022-10-24T19:26:50.639Z"
      },
      {
        "duration": 44,
        "start_time": "2022-10-24T19:26:50.653Z"
      },
      {
        "duration": 61,
        "start_time": "2022-10-24T19:26:50.699Z"
      },
      {
        "duration": 1050,
        "start_time": "2022-10-24T19:26:50.762Z"
      },
      {
        "duration": 357,
        "start_time": "2022-10-24T19:26:51.815Z"
      },
      {
        "duration": 391,
        "start_time": "2022-10-24T19:26:52.177Z"
      },
      {
        "duration": 988,
        "start_time": "2022-10-24T19:26:52.570Z"
      },
      {
        "duration": 9,
        "start_time": "2022-10-24T19:26:57.305Z"
      },
      {
        "duration": 36,
        "start_time": "2022-10-24T19:26:57.839Z"
      },
      {
        "duration": 1198,
        "start_time": "2022-10-24T19:29:47.436Z"
      },
      {
        "duration": 51,
        "start_time": "2022-10-24T19:29:48.636Z"
      },
      {
        "duration": 20,
        "start_time": "2022-10-24T19:29:48.689Z"
      },
      {
        "duration": 33,
        "start_time": "2022-10-24T19:29:48.711Z"
      },
      {
        "duration": 80,
        "start_time": "2022-10-24T19:29:48.746Z"
      },
      {
        "duration": 37,
        "start_time": "2022-10-24T19:29:48.828Z"
      },
      {
        "duration": 43,
        "start_time": "2022-10-24T19:29:48.867Z"
      },
      {
        "duration": 22,
        "start_time": "2022-10-24T19:29:48.912Z"
      },
      {
        "duration": 22,
        "start_time": "2022-10-24T19:29:48.936Z"
      },
      {
        "duration": 11,
        "start_time": "2022-10-24T19:29:48.961Z"
      },
      {
        "duration": 16,
        "start_time": "2022-10-24T19:29:48.973Z"
      },
      {
        "duration": 10,
        "start_time": "2022-10-24T19:29:48.991Z"
      },
      {
        "duration": 6,
        "start_time": "2022-10-24T19:29:49.002Z"
      },
      {
        "duration": 25,
        "start_time": "2022-10-24T19:29:49.010Z"
      },
      {
        "duration": 15,
        "start_time": "2022-10-24T19:29:49.037Z"
      },
      {
        "duration": 14,
        "start_time": "2022-10-24T19:29:49.054Z"
      },
      {
        "duration": 13,
        "start_time": "2022-10-24T19:29:49.071Z"
      },
      {
        "duration": 9,
        "start_time": "2022-10-24T19:29:49.086Z"
      },
      {
        "duration": 36,
        "start_time": "2022-10-24T19:29:49.097Z"
      },
      {
        "duration": 6,
        "start_time": "2022-10-24T19:29:49.135Z"
      },
      {
        "duration": 25,
        "start_time": "2022-10-24T19:29:49.143Z"
      },
      {
        "duration": 30,
        "start_time": "2022-10-24T19:29:49.170Z"
      },
      {
        "duration": 14,
        "start_time": "2022-10-24T19:29:49.202Z"
      },
      {
        "duration": 44,
        "start_time": "2022-10-24T19:29:49.217Z"
      },
      {
        "duration": 24,
        "start_time": "2022-10-24T19:29:49.262Z"
      },
      {
        "duration": 1126,
        "start_time": "2022-10-24T19:29:49.287Z"
      },
      {
        "duration": 366,
        "start_time": "2022-10-24T19:29:50.416Z"
      },
      {
        "duration": 413,
        "start_time": "2022-10-24T19:29:50.786Z"
      },
      {
        "duration": 1083,
        "start_time": "2022-10-24T19:29:51.201Z"
      },
      {
        "duration": 12,
        "start_time": "2022-10-24T19:29:52.286Z"
      },
      {
        "duration": 22,
        "start_time": "2022-10-24T19:29:52.300Z"
      },
      {
        "duration": 240,
        "start_time": "2022-10-24T19:29:52.324Z"
      },
      {
        "duration": 1349,
        "start_time": "2022-10-25T05:55:19.015Z"
      },
      {
        "duration": 110,
        "start_time": "2022-10-25T05:55:20.366Z"
      },
      {
        "duration": 20,
        "start_time": "2022-10-25T05:55:21.477Z"
      },
      {
        "duration": 17,
        "start_time": "2022-10-25T05:55:23.124Z"
      },
      {
        "duration": 54,
        "start_time": "2022-10-25T05:55:24.050Z"
      },
      {
        "duration": 29,
        "start_time": "2022-10-25T05:55:24.691Z"
      },
      {
        "duration": 31,
        "start_time": "2022-10-25T05:55:25.295Z"
      },
      {
        "duration": 3,
        "start_time": "2022-10-25T05:55:27.190Z"
      },
      {
        "duration": 13,
        "start_time": "2022-10-25T05:55:27.622Z"
      },
      {
        "duration": 10,
        "start_time": "2022-10-25T05:55:28.680Z"
      },
      {
        "duration": 8,
        "start_time": "2022-10-25T05:55:29.440Z"
      },
      {
        "duration": 4,
        "start_time": "2022-10-25T05:55:30.128Z"
      },
      {
        "duration": 7,
        "start_time": "2022-10-25T05:55:30.901Z"
      },
      {
        "duration": 5,
        "start_time": "2022-10-25T05:55:31.737Z"
      },
      {
        "duration": 8,
        "start_time": "2022-10-25T05:55:32.438Z"
      },
      {
        "duration": 5,
        "start_time": "2022-10-25T05:55:33.445Z"
      },
      {
        "duration": 7,
        "start_time": "2022-10-25T05:55:33.856Z"
      },
      {
        "duration": 8,
        "start_time": "2022-10-25T05:55:35.168Z"
      },
      {
        "duration": 15,
        "start_time": "2022-10-25T05:55:36.142Z"
      },
      {
        "duration": 4,
        "start_time": "2022-10-25T05:55:37.398Z"
      },
      {
        "duration": 13,
        "start_time": "2022-10-25T05:55:37.837Z"
      },
      {
        "duration": 14,
        "start_time": "2022-10-25T05:55:38.822Z"
      },
      {
        "duration": 11,
        "start_time": "2022-10-25T05:55:39.336Z"
      },
      {
        "duration": 33,
        "start_time": "2022-10-25T05:55:39.880Z"
      },
      {
        "duration": 24,
        "start_time": "2022-10-25T05:55:40.365Z"
      },
      {
        "duration": 1007,
        "start_time": "2022-10-25T05:55:40.887Z"
      },
      {
        "duration": 321,
        "start_time": "2022-10-25T05:55:43.206Z"
      },
      {
        "duration": 364,
        "start_time": "2022-10-25T05:55:45.615Z"
      },
      {
        "duration": 930,
        "start_time": "2022-10-25T05:55:47.574Z"
      },
      {
        "duration": 7,
        "start_time": "2022-10-25T05:55:48.506Z"
      },
      {
        "duration": 7,
        "start_time": "2022-10-25T05:55:48.962Z"
      },
      {
        "duration": 187,
        "start_time": "2022-10-25T05:55:49.694Z"
      },
      {
        "duration": 6,
        "start_time": "2022-10-25T06:02:01.176Z"
      },
      {
        "duration": 14,
        "start_time": "2022-10-25T06:03:10.694Z"
      },
      {
        "duration": 29,
        "start_time": "2022-10-25T06:03:24.501Z"
      },
      {
        "duration": 183,
        "start_time": "2022-10-25T06:21:54.593Z"
      },
      {
        "duration": 184,
        "start_time": "2022-10-25T06:23:04.959Z"
      },
      {
        "duration": 753,
        "start_time": "2022-10-25T06:26:03.769Z"
      },
      {
        "duration": 692,
        "start_time": "2022-10-25T06:26:17.778Z"
      },
      {
        "duration": 510,
        "start_time": "2022-10-25T07:32:23.756Z"
      },
      {
        "duration": 529,
        "start_time": "2022-10-25T07:41:20.042Z"
      },
      {
        "duration": 452,
        "start_time": "2022-10-25T07:42:20.824Z"
      },
      {
        "duration": 435,
        "start_time": "2022-10-25T07:42:39.738Z"
      },
      {
        "duration": 434,
        "start_time": "2022-10-25T07:49:44.590Z"
      },
      {
        "duration": 29,
        "start_time": "2022-10-25T07:50:43.937Z"
      },
      {
        "duration": 428,
        "start_time": "2022-10-25T07:53:28.854Z"
      },
      {
        "duration": 537,
        "start_time": "2022-10-25T07:53:34.094Z"
      },
      {
        "duration": 27,
        "start_time": "2022-10-25T08:59:50.829Z"
      },
      {
        "duration": 21,
        "start_time": "2022-10-25T09:00:07.214Z"
      },
      {
        "duration": 8,
        "start_time": "2022-10-25T11:22:30.823Z"
      },
      {
        "duration": 141,
        "start_time": "2022-10-25T11:28:00.881Z"
      },
      {
        "duration": 433,
        "start_time": "2022-10-25T11:28:21.626Z"
      },
      {
        "duration": 277,
        "start_time": "2022-10-25T11:28:56.468Z"
      },
      {
        "duration": 263,
        "start_time": "2022-10-25T11:29:19.453Z"
      },
      {
        "duration": 644,
        "start_time": "2022-10-25T11:33:28.444Z"
      },
      {
        "duration": 1567,
        "start_time": "2022-10-25T11:33:39.627Z"
      },
      {
        "duration": 76,
        "start_time": "2022-10-25T11:33:41.197Z"
      },
      {
        "duration": 27,
        "start_time": "2022-10-25T11:33:41.276Z"
      },
      {
        "duration": 39,
        "start_time": "2022-10-25T11:33:41.307Z"
      },
      {
        "duration": 103,
        "start_time": "2022-10-25T11:33:41.348Z"
      },
      {
        "duration": 48,
        "start_time": "2022-10-25T11:33:41.454Z"
      },
      {
        "duration": 78,
        "start_time": "2022-10-25T11:33:41.505Z"
      },
      {
        "duration": 3,
        "start_time": "2022-10-25T11:33:41.586Z"
      },
      {
        "duration": 21,
        "start_time": "2022-10-25T11:33:41.592Z"
      },
      {
        "duration": 24,
        "start_time": "2022-10-25T11:33:41.617Z"
      },
      {
        "duration": 17,
        "start_time": "2022-10-25T11:33:41.644Z"
      },
      {
        "duration": 15,
        "start_time": "2022-10-25T11:33:41.664Z"
      },
      {
        "duration": 13,
        "start_time": "2022-10-25T11:33:41.681Z"
      },
      {
        "duration": 19,
        "start_time": "2022-10-25T11:33:41.696Z"
      },
      {
        "duration": 59,
        "start_time": "2022-10-25T11:33:41.720Z"
      },
      {
        "duration": 20,
        "start_time": "2022-10-25T11:33:41.782Z"
      },
      {
        "duration": 29,
        "start_time": "2022-10-25T11:33:41.805Z"
      },
      {
        "duration": 52,
        "start_time": "2022-10-25T11:33:41.837Z"
      },
      {
        "duration": 45,
        "start_time": "2022-10-25T11:33:41.891Z"
      },
      {
        "duration": 24,
        "start_time": "2022-10-25T11:33:41.939Z"
      },
      {
        "duration": 54,
        "start_time": "2022-10-25T11:33:41.966Z"
      },
      {
        "duration": 20,
        "start_time": "2022-10-25T11:33:42.024Z"
      },
      {
        "duration": 35,
        "start_time": "2022-10-25T11:33:42.046Z"
      },
      {
        "duration": 74,
        "start_time": "2022-10-25T11:33:42.083Z"
      },
      {
        "duration": 54,
        "start_time": "2022-10-25T11:33:42.161Z"
      },
      {
        "duration": 1781,
        "start_time": "2022-10-25T11:33:42.217Z"
      },
      {
        "duration": 596,
        "start_time": "2022-10-25T11:33:44.001Z"
      },
      {
        "duration": 634,
        "start_time": "2022-10-25T11:33:44.603Z"
      },
      {
        "duration": 1527,
        "start_time": "2022-10-25T11:33:45.239Z"
      },
      {
        "duration": 16,
        "start_time": "2022-10-25T11:33:46.769Z"
      },
      {
        "duration": 38,
        "start_time": "2022-10-25T11:33:46.787Z"
      },
      {
        "duration": 283,
        "start_time": "2022-10-25T11:33:46.828Z"
      },
      {
        "duration": 7,
        "start_time": "2022-10-25T11:33:47.113Z"
      },
      {
        "duration": 328,
        "start_time": "2022-10-25T11:33:47.122Z"
      },
      {
        "duration": 1245,
        "start_time": "2022-10-25T11:33:47.453Z"
      },
      {
        "duration": 486,
        "start_time": "2022-10-25T11:33:48.701Z"
      },
      {
        "duration": 201,
        "start_time": "2022-10-25T11:40:38.129Z"
      },
      {
        "duration": 162,
        "start_time": "2022-10-25T11:41:09.782Z"
      },
      {
        "duration": 318,
        "start_time": "2022-10-25T11:42:59.026Z"
      },
      {
        "duration": 302,
        "start_time": "2022-10-25T11:43:03.250Z"
      },
      {
        "duration": 1167,
        "start_time": "2022-10-25T11:43:05.356Z"
      },
      {
        "duration": 997,
        "start_time": "2022-10-25T11:43:11.353Z"
      },
      {
        "duration": 10,
        "start_time": "2022-10-25T11:43:12.665Z"
      },
      {
        "duration": 8,
        "start_time": "2022-10-25T11:43:13.712Z"
      },
      {
        "duration": 314,
        "start_time": "2022-10-25T11:43:14.481Z"
      },
      {
        "duration": 9,
        "start_time": "2022-10-25T11:43:17.678Z"
      },
      {
        "duration": 317,
        "start_time": "2022-10-25T11:43:20.164Z"
      },
      {
        "duration": 797,
        "start_time": "2022-10-25T11:43:30.392Z"
      },
      {
        "duration": 493,
        "start_time": "2022-10-25T11:44:41.231Z"
      },
      {
        "duration": 8,
        "start_time": "2022-10-25T11:46:40.228Z"
      },
      {
        "duration": 7,
        "start_time": "2022-10-25T11:47:07.042Z"
      },
      {
        "duration": 9,
        "start_time": "2022-10-25T11:47:13.792Z"
      },
      {
        "duration": 6,
        "start_time": "2022-10-25T11:47:23.876Z"
      },
      {
        "duration": 255,
        "start_time": "2022-10-25T11:48:04.429Z"
      },
      {
        "duration": 224,
        "start_time": "2022-10-25T11:48:16.160Z"
      },
      {
        "duration": 6,
        "start_time": "2022-10-25T11:48:20.372Z"
      },
      {
        "duration": 220,
        "start_time": "2022-10-25T11:48:34.751Z"
      },
      {
        "duration": 288,
        "start_time": "2022-10-25T11:50:30.941Z"
      },
      {
        "duration": 46,
        "start_time": "2022-10-25T11:51:20.683Z"
      },
      {
        "duration": 1044,
        "start_time": "2022-10-25T12:15:45.803Z"
      },
      {
        "duration": 186,
        "start_time": "2022-10-25T12:16:11.594Z"
      },
      {
        "duration": 161,
        "start_time": "2022-10-25T12:18:13.068Z"
      },
      {
        "duration": 179,
        "start_time": "2022-10-25T12:18:54.041Z"
      },
      {
        "duration": 174,
        "start_time": "2022-10-25T12:19:06.514Z"
      },
      {
        "duration": 157,
        "start_time": "2022-10-25T12:19:27.592Z"
      },
      {
        "duration": 4,
        "start_time": "2022-10-25T12:19:58.475Z"
      },
      {
        "duration": 166,
        "start_time": "2022-10-25T12:20:03.923Z"
      },
      {
        "duration": 169,
        "start_time": "2022-10-25T12:20:48.366Z"
      },
      {
        "duration": 155,
        "start_time": "2022-10-25T12:22:04.546Z"
      },
      {
        "duration": 154,
        "start_time": "2022-10-25T12:23:07.482Z"
      },
      {
        "duration": 1101,
        "start_time": "2022-10-25T12:23:29.612Z"
      },
      {
        "duration": 165,
        "start_time": "2022-10-25T12:23:49.516Z"
      },
      {
        "duration": 574,
        "start_time": "2022-10-25T12:31:51.528Z"
      },
      {
        "duration": 174,
        "start_time": "2022-10-25T12:33:41.988Z"
      },
      {
        "duration": 155,
        "start_time": "2022-10-25T12:47:17.143Z"
      },
      {
        "duration": 138,
        "start_time": "2022-10-25T12:47:49.778Z"
      },
      {
        "duration": 187,
        "start_time": "2022-10-25T12:51:24.978Z"
      },
      {
        "duration": 177,
        "start_time": "2022-10-25T12:51:28.665Z"
      },
      {
        "duration": 1345,
        "start_time": "2022-10-25T17:23:03.578Z"
      },
      {
        "duration": 96,
        "start_time": "2022-10-25T17:23:04.925Z"
      },
      {
        "duration": 16,
        "start_time": "2022-10-25T17:23:05.759Z"
      },
      {
        "duration": 14,
        "start_time": "2022-10-25T17:23:06.384Z"
      },
      {
        "duration": 61,
        "start_time": "2022-10-25T17:23:06.966Z"
      },
      {
        "duration": 32,
        "start_time": "2022-10-25T17:23:07.853Z"
      },
      {
        "duration": 30,
        "start_time": "2022-10-25T17:23:08.650Z"
      },
      {
        "duration": 3,
        "start_time": "2022-10-25T17:23:10.849Z"
      },
      {
        "duration": 19,
        "start_time": "2022-10-25T17:23:11.188Z"
      },
      {
        "duration": 10,
        "start_time": "2022-10-25T17:23:12.143Z"
      },
      {
        "duration": 7,
        "start_time": "2022-10-25T17:23:12.776Z"
      },
      {
        "duration": 7,
        "start_time": "2022-10-25T17:23:13.563Z"
      },
      {
        "duration": 6,
        "start_time": "2022-10-25T17:23:14.355Z"
      },
      {
        "duration": 4,
        "start_time": "2022-10-25T17:23:15.085Z"
      },
      {
        "duration": 6,
        "start_time": "2022-10-25T17:23:15.550Z"
      },
      {
        "duration": 6,
        "start_time": "2022-10-25T17:23:16.250Z"
      },
      {
        "duration": 8,
        "start_time": "2022-10-25T17:23:16.754Z"
      },
      {
        "duration": 7,
        "start_time": "2022-10-25T17:23:18.058Z"
      },
      {
        "duration": 15,
        "start_time": "2022-10-25T17:23:18.960Z"
      },
      {
        "duration": 5,
        "start_time": "2022-10-25T17:23:20.300Z"
      },
      {
        "duration": 13,
        "start_time": "2022-10-25T17:23:20.787Z"
      },
      {
        "duration": 16,
        "start_time": "2022-10-25T17:23:21.852Z"
      },
      {
        "duration": 14,
        "start_time": "2022-10-25T17:23:22.289Z"
      },
      {
        "duration": 39,
        "start_time": "2022-10-25T17:23:22.679Z"
      },
      {
        "duration": 28,
        "start_time": "2022-10-25T17:23:23.173Z"
      },
      {
        "duration": 962,
        "start_time": "2022-10-25T17:23:23.649Z"
      },
      {
        "duration": 326,
        "start_time": "2022-10-25T17:23:35.920Z"
      },
      {
        "duration": 348,
        "start_time": "2022-10-25T17:23:40.157Z"
      },
      {
        "duration": 945,
        "start_time": "2022-10-25T17:23:47.105Z"
      },
      {
        "duration": 8,
        "start_time": "2022-10-25T17:23:49.582Z"
      },
      {
        "duration": 5,
        "start_time": "2022-10-25T17:23:50.360Z"
      },
      {
        "duration": 182,
        "start_time": "2022-10-25T17:23:51.083Z"
      },
      {
        "duration": 16,
        "start_time": "2022-10-25T17:23:52.605Z"
      },
      {
        "duration": 248,
        "start_time": "2022-10-25T17:24:02.716Z"
      },
      {
        "duration": 813,
        "start_time": "2022-10-25T17:24:29.763Z"
      },
      {
        "duration": 435,
        "start_time": "2022-10-25T17:25:42.039Z"
      },
      {
        "duration": 185,
        "start_time": "2022-10-25T17:27:13.997Z"
      },
      {
        "duration": 145,
        "start_time": "2022-10-25T17:27:45.656Z"
      },
      {
        "duration": 16,
        "start_time": "2022-10-25T17:31:28.501Z"
      },
      {
        "duration": 12,
        "start_time": "2022-10-25T17:37:18.192Z"
      },
      {
        "duration": 14,
        "start_time": "2022-10-25T17:37:39.081Z"
      },
      {
        "duration": 24,
        "start_time": "2022-10-25T17:38:35.967Z"
      },
      {
        "duration": 3,
        "start_time": "2022-10-25T17:40:00.462Z"
      },
      {
        "duration": 22,
        "start_time": "2022-10-25T17:40:28.952Z"
      },
      {
        "duration": 23,
        "start_time": "2022-10-25T17:40:59.419Z"
      },
      {
        "duration": 114,
        "start_time": "2022-10-25T17:42:00.701Z"
      },
      {
        "duration": 26,
        "start_time": "2022-10-25T17:42:11.647Z"
      },
      {
        "duration": 62,
        "start_time": "2022-10-25T17:42:57.500Z"
      },
      {
        "duration": 29,
        "start_time": "2022-10-25T17:43:10.333Z"
      },
      {
        "duration": 2366,
        "start_time": "2022-10-25T18:05:36.922Z"
      },
      {
        "duration": 11,
        "start_time": "2022-10-25T18:12:40.278Z"
      },
      {
        "duration": 2485,
        "start_time": "2022-10-25T18:12:50.535Z"
      },
      {
        "duration": 2428,
        "start_time": "2022-10-25T18:14:05.360Z"
      },
      {
        "duration": 2415,
        "start_time": "2022-10-25T18:14:19.530Z"
      },
      {
        "duration": 278,
        "start_time": "2022-10-25T18:16:27.862Z"
      },
      {
        "duration": 2378,
        "start_time": "2022-10-25T18:16:38.997Z"
      },
      {
        "duration": 2485,
        "start_time": "2022-10-25T18:18:32.390Z"
      },
      {
        "duration": 2353,
        "start_time": "2022-10-25T18:19:17.925Z"
      },
      {
        "duration": 6,
        "start_time": "2022-10-25T18:31:43.247Z"
      },
      {
        "duration": 14,
        "start_time": "2022-10-25T18:31:49.207Z"
      },
      {
        "duration": 63,
        "start_time": "2022-10-25T18:32:56.573Z"
      },
      {
        "duration": 20,
        "start_time": "2022-10-25T18:33:09.035Z"
      },
      {
        "duration": 10,
        "start_time": "2022-10-25T18:33:13.259Z"
      },
      {
        "duration": 13,
        "start_time": "2022-10-25T18:34:40.681Z"
      },
      {
        "duration": 9,
        "start_time": "2022-10-25T18:34:42.370Z"
      },
      {
        "duration": 15,
        "start_time": "2022-10-25T18:36:56.823Z"
      },
      {
        "duration": 8,
        "start_time": "2022-10-25T18:37:19.222Z"
      },
      {
        "duration": 245,
        "start_time": "2022-10-25T18:43:24.522Z"
      },
      {
        "duration": 13,
        "start_time": "2022-10-25T18:45:04.701Z"
      },
      {
        "duration": 293,
        "start_time": "2022-10-25T18:45:27.836Z"
      },
      {
        "duration": 202,
        "start_time": "2022-10-25T18:45:48.121Z"
      },
      {
        "duration": 240,
        "start_time": "2022-10-25T18:46:28.747Z"
      },
      {
        "duration": 202,
        "start_time": "2022-10-25T18:49:32.935Z"
      },
      {
        "duration": 1260,
        "start_time": "2022-10-26T06:18:37.682Z"
      },
      {
        "duration": 197,
        "start_time": "2022-10-26T06:18:38.944Z"
      },
      {
        "duration": 18,
        "start_time": "2022-10-26T06:18:39.143Z"
      },
      {
        "duration": 16,
        "start_time": "2022-10-26T06:18:39.163Z"
      },
      {
        "duration": 77,
        "start_time": "2022-10-26T06:18:39.181Z"
      },
      {
        "duration": 32,
        "start_time": "2022-10-26T06:18:39.260Z"
      },
      {
        "duration": 62,
        "start_time": "2022-10-26T06:18:39.294Z"
      },
      {
        "duration": 3,
        "start_time": "2022-10-26T06:18:39.442Z"
      },
      {
        "duration": 14,
        "start_time": "2022-10-26T06:18:39.578Z"
      },
      {
        "duration": 10,
        "start_time": "2022-10-26T06:18:39.850Z"
      },
      {
        "duration": 8,
        "start_time": "2022-10-26T06:18:40.282Z"
      },
      {
        "duration": 5,
        "start_time": "2022-10-26T06:18:40.899Z"
      },
      {
        "duration": 7,
        "start_time": "2022-10-26T06:18:41.214Z"
      },
      {
        "duration": 5,
        "start_time": "2022-10-26T06:18:41.544Z"
      },
      {
        "duration": 7,
        "start_time": "2022-10-26T06:18:42.503Z"
      },
      {
        "duration": 5,
        "start_time": "2022-10-26T06:18:42.899Z"
      },
      {
        "duration": 9,
        "start_time": "2022-10-26T06:18:43.090Z"
      },
      {
        "duration": 7,
        "start_time": "2022-10-26T06:18:43.884Z"
      },
      {
        "duration": 17,
        "start_time": "2022-10-26T06:18:44.197Z"
      },
      {
        "duration": 5,
        "start_time": "2022-10-26T06:18:44.622Z"
      },
      {
        "duration": 14,
        "start_time": "2022-10-26T06:18:44.770Z"
      },
      {
        "duration": 14,
        "start_time": "2022-10-26T06:18:45.039Z"
      },
      {
        "duration": 13,
        "start_time": "2022-10-26T06:18:45.175Z"
      },
      {
        "duration": 49,
        "start_time": "2022-10-26T06:18:45.319Z"
      },
      {
        "duration": 35,
        "start_time": "2022-10-26T06:18:45.478Z"
      },
      {
        "duration": 1102,
        "start_time": "2022-10-26T06:18:45.600Z"
      },
      {
        "duration": 379,
        "start_time": "2022-10-26T06:18:46.704Z"
      },
      {
        "duration": 420,
        "start_time": "2022-10-26T06:18:47.108Z"
      },
      {
        "duration": 1032,
        "start_time": "2022-10-26T06:18:47.561Z"
      },
      {
        "duration": 7,
        "start_time": "2022-10-26T06:18:48.597Z"
      },
      {
        "duration": 18,
        "start_time": "2022-10-26T06:18:48.606Z"
      },
      {
        "duration": 204,
        "start_time": "2022-10-26T06:18:48.626Z"
      },
      {
        "duration": 8,
        "start_time": "2022-10-26T06:18:48.832Z"
      },
      {
        "duration": 213,
        "start_time": "2022-10-26T06:18:49.015Z"
      },
      {
        "duration": 868,
        "start_time": "2022-10-26T06:18:49.344Z"
      },
      {
        "duration": 464,
        "start_time": "2022-10-26T06:18:51.163Z"
      },
      {
        "duration": 185,
        "start_time": "2022-10-26T06:18:52.584Z"
      },
      {
        "duration": 167,
        "start_time": "2022-10-26T06:18:54.197Z"
      },
      {
        "duration": 14,
        "start_time": "2022-10-26T06:18:56.008Z"
      },
      {
        "duration": 129,
        "start_time": "2022-10-26T06:18:56.708Z"
      },
      {
        "duration": 3,
        "start_time": "2022-10-26T06:18:57.504Z"
      },
      {
        "duration": 5,
        "start_time": "2022-10-26T06:19:09.939Z"
      },
      {
        "duration": 18,
        "start_time": "2022-10-26T06:19:10.825Z"
      },
      {
        "duration": 15,
        "start_time": "2022-10-26T06:19:19.328Z"
      },
      {
        "duration": 2533,
        "start_time": "2022-10-26T06:19:46.104Z"
      },
      {
        "duration": 18,
        "start_time": "2022-10-26T06:19:56.304Z"
      },
      {
        "duration": 10,
        "start_time": "2022-10-26T06:19:56.871Z"
      },
      {
        "duration": 212,
        "start_time": "2022-10-26T06:19:58.101Z"
      },
      {
        "duration": 14,
        "start_time": "2022-10-26T07:10:05.936Z"
      },
      {
        "duration": 14,
        "start_time": "2022-10-26T07:11:19.486Z"
      },
      {
        "duration": 26,
        "start_time": "2022-10-26T07:18:44.041Z"
      },
      {
        "duration": 44,
        "start_time": "2022-10-26T07:19:11.940Z"
      },
      {
        "duration": 16,
        "start_time": "2022-10-26T07:20:14.241Z"
      },
      {
        "duration": 1216,
        "start_time": "2022-10-26T07:20:32.415Z"
      },
      {
        "duration": 1192,
        "start_time": "2022-10-26T07:21:44.142Z"
      },
      {
        "duration": 1134,
        "start_time": "2022-10-26T07:22:02.952Z"
      },
      {
        "duration": 53,
        "start_time": "2022-10-26T07:22:04.088Z"
      },
      {
        "duration": 17,
        "start_time": "2022-10-26T07:22:04.143Z"
      },
      {
        "duration": 14,
        "start_time": "2022-10-26T07:22:04.162Z"
      },
      {
        "duration": 73,
        "start_time": "2022-10-26T07:22:04.179Z"
      },
      {
        "duration": 28,
        "start_time": "2022-10-26T07:22:04.253Z"
      },
      {
        "duration": 48,
        "start_time": "2022-10-26T07:22:04.283Z"
      },
      {
        "duration": 3,
        "start_time": "2022-10-26T07:22:04.333Z"
      },
      {
        "duration": 15,
        "start_time": "2022-10-26T07:22:04.338Z"
      },
      {
        "duration": 10,
        "start_time": "2022-10-26T07:22:04.355Z"
      },
      {
        "duration": 7,
        "start_time": "2022-10-26T07:22:04.367Z"
      },
      {
        "duration": 4,
        "start_time": "2022-10-26T07:22:04.376Z"
      },
      {
        "duration": 10,
        "start_time": "2022-10-26T07:22:04.381Z"
      },
      {
        "duration": 5,
        "start_time": "2022-10-26T07:22:04.423Z"
      },
      {
        "duration": 8,
        "start_time": "2022-10-26T07:22:04.429Z"
      },
      {
        "duration": 7,
        "start_time": "2022-10-26T07:22:04.438Z"
      },
      {
        "duration": 8,
        "start_time": "2022-10-26T07:22:04.446Z"
      },
      {
        "duration": 7,
        "start_time": "2022-10-26T07:22:04.455Z"
      },
      {
        "duration": 16,
        "start_time": "2022-10-26T07:22:04.463Z"
      },
      {
        "duration": 5,
        "start_time": "2022-10-26T07:22:04.480Z"
      },
      {
        "duration": 46,
        "start_time": "2022-10-26T07:22:04.486Z"
      },
      {
        "duration": 14,
        "start_time": "2022-10-26T07:22:04.533Z"
      },
      {
        "duration": 9,
        "start_time": "2022-10-26T07:22:04.549Z"
      },
      {
        "duration": 33,
        "start_time": "2022-10-26T07:22:04.559Z"
      },
      {
        "duration": 53,
        "start_time": "2022-10-26T07:22:04.594Z"
      },
      {
        "duration": 975,
        "start_time": "2022-10-26T07:22:04.648Z"
      },
      {
        "duration": 327,
        "start_time": "2022-10-26T07:22:05.625Z"
      },
      {
        "duration": 363,
        "start_time": "2022-10-26T07:22:05.954Z"
      },
      {
        "duration": 906,
        "start_time": "2022-10-26T07:22:06.323Z"
      },
      {
        "duration": 9,
        "start_time": "2022-10-26T07:22:07.231Z"
      },
      {
        "duration": 45,
        "start_time": "2022-10-26T07:22:07.242Z"
      },
      {
        "duration": 199,
        "start_time": "2022-10-26T07:22:07.290Z"
      },
      {
        "duration": 7,
        "start_time": "2022-10-26T07:22:07.491Z"
      },
      {
        "duration": 204,
        "start_time": "2022-10-26T07:22:07.500Z"
      },
      {
        "duration": 803,
        "start_time": "2022-10-26T07:22:07.706Z"
      },
      {
        "duration": 434,
        "start_time": "2022-10-26T07:22:08.511Z"
      },
      {
        "duration": 177,
        "start_time": "2022-10-26T07:22:08.947Z"
      },
      {
        "duration": 168,
        "start_time": "2022-10-26T07:22:09.127Z"
      },
      {
        "duration": 16,
        "start_time": "2022-10-26T07:22:09.297Z"
      },
      {
        "duration": 18,
        "start_time": "2022-10-26T07:22:09.315Z"
      },
      {
        "duration": 2577,
        "start_time": "2022-10-26T07:22:09.336Z"
      },
      {
        "duration": 18,
        "start_time": "2022-10-26T07:22:11.923Z"
      },
      {
        "duration": 10,
        "start_time": "2022-10-26T07:22:11.943Z"
      },
      {
        "duration": 259,
        "start_time": "2022-10-26T07:22:11.955Z"
      },
      {
        "duration": 19,
        "start_time": "2022-10-26T07:22:12.215Z"
      },
      {
        "duration": 1338,
        "start_time": "2022-10-26T07:22:25.543Z"
      },
      {
        "duration": 17,
        "start_time": "2022-10-26T07:23:07.851Z"
      },
      {
        "duration": 1245,
        "start_time": "2022-10-26T07:23:24.708Z"
      },
      {
        "duration": 36,
        "start_time": "2022-10-26T07:23:49.167Z"
      },
      {
        "duration": 1185,
        "start_time": "2022-10-26T07:24:31.907Z"
      },
      {
        "duration": 1216,
        "start_time": "2022-10-26T07:25:26.779Z"
      },
      {
        "duration": 35,
        "start_time": "2022-10-26T07:26:08.449Z"
      },
      {
        "duration": 1675,
        "start_time": "2022-10-26T07:29:12.348Z"
      },
      {
        "duration": 1248,
        "start_time": "2022-10-26T07:29:29.010Z"
      },
      {
        "duration": 35,
        "start_time": "2022-10-26T07:33:39.351Z"
      },
      {
        "duration": 34,
        "start_time": "2022-10-26T09:27:41.564Z"
      },
      {
        "duration": 42,
        "start_time": "2022-10-26T09:28:03.387Z"
      },
      {
        "duration": 35,
        "start_time": "2022-10-26T09:44:44.287Z"
      },
      {
        "duration": 36,
        "start_time": "2022-10-26T09:51:06.599Z"
      },
      {
        "duration": 37,
        "start_time": "2022-10-26T09:51:14.471Z"
      },
      {
        "duration": 114,
        "start_time": "2022-10-26T09:55:29.729Z"
      },
      {
        "duration": 254,
        "start_time": "2022-10-26T09:55:36.986Z"
      },
      {
        "duration": 260,
        "start_time": "2022-10-26T09:56:33.062Z"
      },
      {
        "duration": 287,
        "start_time": "2022-10-26T09:56:41.257Z"
      },
      {
        "duration": 363,
        "start_time": "2022-10-26T09:56:48.153Z"
      },
      {
        "duration": 275,
        "start_time": "2022-10-26T09:56:54.242Z"
      },
      {
        "duration": 72,
        "start_time": "2022-10-26T09:57:14.734Z"
      },
      {
        "duration": 274,
        "start_time": "2022-10-26T09:57:21.167Z"
      },
      {
        "duration": 283,
        "start_time": "2022-10-26T09:57:59.367Z"
      },
      {
        "duration": 285,
        "start_time": "2022-10-26T10:01:07.744Z"
      },
      {
        "duration": 319,
        "start_time": "2022-10-26T10:02:52.606Z"
      },
      {
        "duration": 423,
        "start_time": "2022-10-26T10:03:09.933Z"
      },
      {
        "duration": 305,
        "start_time": "2022-10-26T10:09:02.534Z"
      },
      {
        "duration": 33,
        "start_time": "2022-10-26T11:42:52.891Z"
      },
      {
        "duration": 305,
        "start_time": "2022-10-26T11:43:15.034Z"
      },
      {
        "duration": 102,
        "start_time": "2022-10-26T12:32:12.009Z"
      },
      {
        "duration": 123,
        "start_time": "2022-10-26T12:32:18.097Z"
      },
      {
        "duration": 289,
        "start_time": "2022-10-26T12:32:31.457Z"
      },
      {
        "duration": 308,
        "start_time": "2022-10-26T12:32:50.325Z"
      },
      {
        "duration": 282,
        "start_time": "2022-10-26T12:33:06.381Z"
      },
      {
        "duration": 393,
        "start_time": "2022-10-26T12:35:06.599Z"
      },
      {
        "duration": 293,
        "start_time": "2022-10-26T12:35:30.695Z"
      },
      {
        "duration": 289,
        "start_time": "2022-10-26T12:35:49.546Z"
      },
      {
        "duration": 287,
        "start_time": "2022-10-26T12:36:04.999Z"
      },
      {
        "duration": 32,
        "start_time": "2022-10-26T12:39:13.547Z"
      },
      {
        "duration": 43,
        "start_time": "2022-10-26T12:49:11.752Z"
      },
      {
        "duration": 125,
        "start_time": "2022-10-26T12:49:25.677Z"
      },
      {
        "duration": 363,
        "start_time": "2022-10-26T12:49:41.660Z"
      },
      {
        "duration": 54,
        "start_time": "2022-10-26T12:50:16.483Z"
      },
      {
        "duration": 288,
        "start_time": "2022-10-26T12:50:20.786Z"
      },
      {
        "duration": 39,
        "start_time": "2022-10-26T12:50:24.017Z"
      },
      {
        "duration": 202,
        "start_time": "2022-10-26T12:51:34.071Z"
      },
      {
        "duration": 103,
        "start_time": "2022-10-26T12:51:45.925Z"
      },
      {
        "duration": 252,
        "start_time": "2022-10-26T12:52:00.686Z"
      },
      {
        "duration": 271,
        "start_time": "2022-10-26T12:52:10.013Z"
      },
      {
        "duration": 245,
        "start_time": "2022-10-26T12:52:18.388Z"
      },
      {
        "duration": 19,
        "start_time": "2022-10-26T12:52:43.627Z"
      },
      {
        "duration": 19,
        "start_time": "2022-10-26T12:52:47.517Z"
      },
      {
        "duration": 353,
        "start_time": "2022-10-26T12:53:00.631Z"
      },
      {
        "duration": 277,
        "start_time": "2022-10-26T12:53:18.488Z"
      },
      {
        "duration": 273,
        "start_time": "2022-10-26T12:53:26.672Z"
      },
      {
        "duration": 326,
        "start_time": "2022-10-26T12:53:48.679Z"
      },
      {
        "duration": 233,
        "start_time": "2022-10-26T12:53:57.843Z"
      },
      {
        "duration": 241,
        "start_time": "2022-10-26T12:54:04.855Z"
      },
      {
        "duration": 515,
        "start_time": "2022-10-26T12:54:09.306Z"
      },
      {
        "duration": 319,
        "start_time": "2022-10-26T12:54:16.593Z"
      },
      {
        "duration": 79,
        "start_time": "2022-10-26T12:55:29.891Z"
      },
      {
        "duration": 317,
        "start_time": "2022-10-26T12:55:35.629Z"
      },
      {
        "duration": 315,
        "start_time": "2022-10-26T12:56:43.044Z"
      },
      {
        "duration": 361,
        "start_time": "2022-10-26T12:57:14.528Z"
      },
      {
        "duration": 1261,
        "start_time": "2022-10-26T14:50:11.703Z"
      },
      {
        "duration": 96,
        "start_time": "2022-10-26T14:50:12.966Z"
      },
      {
        "duration": 16,
        "start_time": "2022-10-26T14:50:13.064Z"
      },
      {
        "duration": 13,
        "start_time": "2022-10-26T14:50:13.082Z"
      },
      {
        "duration": 56,
        "start_time": "2022-10-26T14:50:13.097Z"
      },
      {
        "duration": 28,
        "start_time": "2022-10-26T14:50:13.154Z"
      },
      {
        "duration": 38,
        "start_time": "2022-10-26T14:50:13.185Z"
      },
      {
        "duration": 3,
        "start_time": "2022-10-26T14:50:14.069Z"
      },
      {
        "duration": 21,
        "start_time": "2022-10-26T14:50:14.261Z"
      },
      {
        "duration": 14,
        "start_time": "2022-10-26T14:50:14.723Z"
      },
      {
        "duration": 9,
        "start_time": "2022-10-26T14:50:15.245Z"
      },
      {
        "duration": 7,
        "start_time": "2022-10-26T14:50:15.811Z"
      },
      {
        "duration": 6,
        "start_time": "2022-10-26T14:50:16.451Z"
      },
      {
        "duration": 5,
        "start_time": "2022-10-26T14:50:17.056Z"
      },
      {
        "duration": 8,
        "start_time": "2022-10-26T14:50:17.739Z"
      },
      {
        "duration": 4,
        "start_time": "2022-10-26T14:50:18.279Z"
      },
      {
        "duration": 8,
        "start_time": "2022-10-26T14:50:18.512Z"
      },
      {
        "duration": 7,
        "start_time": "2022-10-26T14:50:19.260Z"
      },
      {
        "duration": 13,
        "start_time": "2022-10-26T14:50:19.697Z"
      },
      {
        "duration": 4,
        "start_time": "2022-10-26T14:50:20.355Z"
      },
      {
        "duration": 14,
        "start_time": "2022-10-26T14:50:20.526Z"
      },
      {
        "duration": 12,
        "start_time": "2022-10-26T14:50:20.899Z"
      },
      {
        "duration": 9,
        "start_time": "2022-10-26T14:50:21.090Z"
      },
      {
        "duration": 32,
        "start_time": "2022-10-26T14:50:21.290Z"
      },
      {
        "duration": 23,
        "start_time": "2022-10-26T14:50:21.496Z"
      },
      {
        "duration": 887,
        "start_time": "2022-10-26T14:50:21.701Z"
      },
      {
        "duration": 296,
        "start_time": "2022-10-26T14:50:22.952Z"
      },
      {
        "duration": 382,
        "start_time": "2022-10-26T14:50:23.893Z"
      },
      {
        "duration": 849,
        "start_time": "2022-10-26T14:50:24.928Z"
      },
      {
        "duration": 7,
        "start_time": "2022-10-26T14:50:25.779Z"
      },
      {
        "duration": 5,
        "start_time": "2022-10-26T14:50:26.244Z"
      },
      {
        "duration": 176,
        "start_time": "2022-10-26T14:50:26.613Z"
      },
      {
        "duration": 6,
        "start_time": "2022-10-26T14:50:27.413Z"
      },
      {
        "duration": 173,
        "start_time": "2022-10-26T14:50:28.371Z"
      },
      {
        "duration": 734,
        "start_time": "2022-10-26T14:50:29.560Z"
      },
      {
        "duration": 436,
        "start_time": "2022-10-26T14:50:31.318Z"
      },
      {
        "duration": 175,
        "start_time": "2022-10-26T14:50:33.061Z"
      },
      {
        "duration": 145,
        "start_time": "2022-10-26T14:50:34.260Z"
      },
      {
        "duration": 14,
        "start_time": "2022-10-26T14:50:35.392Z"
      },
      {
        "duration": 5,
        "start_time": "2022-10-26T14:50:35.944Z"
      },
      {
        "duration": 2468,
        "start_time": "2022-10-26T14:50:36.591Z"
      },
      {
        "duration": 14,
        "start_time": "2022-10-26T14:50:39.061Z"
      },
      {
        "duration": 10,
        "start_time": "2022-10-26T14:50:39.886Z"
      },
      {
        "duration": 184,
        "start_time": "2022-10-26T14:50:42.247Z"
      },
      {
        "duration": 32,
        "start_time": "2022-10-26T14:50:44.621Z"
      },
      {
        "duration": 241,
        "start_time": "2022-10-26T14:50:46.054Z"
      },
      {
        "duration": 30,
        "start_time": "2022-10-26T14:50:48.376Z"
      },
      {
        "duration": 251,
        "start_time": "2022-10-26T14:50:49.553Z"
      },
      {
        "duration": 27,
        "start_time": "2022-10-26T14:50:52.148Z"
      },
      {
        "duration": 263,
        "start_time": "2022-10-26T14:50:52.817Z"
      },
      {
        "duration": 10,
        "start_time": "2022-10-26T15:32:35.688Z"
      },
      {
        "duration": 11,
        "start_time": "2022-10-26T15:37:12.594Z"
      },
      {
        "duration": 517,
        "start_time": "2022-10-26T15:51:41.376Z"
      },
      {
        "duration": 315,
        "start_time": "2022-10-26T15:51:50.681Z"
      },
      {
        "duration": 447,
        "start_time": "2022-10-26T15:51:56.667Z"
      },
      {
        "duration": 488,
        "start_time": "2022-10-26T15:52:06.087Z"
      },
      {
        "duration": 446,
        "start_time": "2022-10-26T15:52:14.891Z"
      },
      {
        "duration": 545,
        "start_time": "2022-10-26T15:52:20.223Z"
      },
      {
        "duration": 464,
        "start_time": "2022-10-26T15:52:25.966Z"
      },
      {
        "duration": 1076,
        "start_time": "2022-10-26T16:12:38.023Z"
      },
      {
        "duration": 51,
        "start_time": "2022-10-26T16:12:39.101Z"
      },
      {
        "duration": 18,
        "start_time": "2022-10-26T16:12:39.153Z"
      },
      {
        "duration": 13,
        "start_time": "2022-10-26T16:12:39.172Z"
      },
      {
        "duration": 57,
        "start_time": "2022-10-26T16:12:39.186Z"
      },
      {
        "duration": 27,
        "start_time": "2022-10-26T16:12:39.244Z"
      },
      {
        "duration": 38,
        "start_time": "2022-10-26T16:12:39.272Z"
      },
      {
        "duration": 3,
        "start_time": "2022-10-26T16:12:39.312Z"
      },
      {
        "duration": 17,
        "start_time": "2022-10-26T16:12:39.316Z"
      },
      {
        "duration": 11,
        "start_time": "2022-10-26T16:12:39.335Z"
      },
      {
        "duration": 8,
        "start_time": "2022-10-26T16:12:39.348Z"
      },
      {
        "duration": 6,
        "start_time": "2022-10-26T16:12:39.358Z"
      },
      {
        "duration": 36,
        "start_time": "2022-10-26T16:12:39.365Z"
      },
      {
        "duration": 7,
        "start_time": "2022-10-26T16:12:39.403Z"
      },
      {
        "duration": 13,
        "start_time": "2022-10-26T16:12:39.411Z"
      },
      {
        "duration": 10,
        "start_time": "2022-10-26T16:12:39.426Z"
      },
      {
        "duration": 10,
        "start_time": "2022-10-26T16:12:39.438Z"
      },
      {
        "duration": 7,
        "start_time": "2022-10-26T16:12:39.450Z"
      },
      {
        "duration": 15,
        "start_time": "2022-10-26T16:12:39.458Z"
      },
      {
        "duration": 26,
        "start_time": "2022-10-26T16:12:39.474Z"
      },
      {
        "duration": 13,
        "start_time": "2022-10-26T16:12:39.502Z"
      },
      {
        "duration": 15,
        "start_time": "2022-10-26T16:12:39.517Z"
      },
      {
        "duration": 9,
        "start_time": "2022-10-26T16:12:39.534Z"
      },
      {
        "duration": 59,
        "start_time": "2022-10-26T16:12:39.545Z"
      },
      {
        "duration": 27,
        "start_time": "2022-10-26T16:12:39.606Z"
      },
      {
        "duration": 948,
        "start_time": "2022-10-26T16:12:39.635Z"
      },
      {
        "duration": 323,
        "start_time": "2022-10-26T16:12:40.584Z"
      },
      {
        "duration": 364,
        "start_time": "2022-10-26T16:12:40.910Z"
      },
      {
        "duration": 894,
        "start_time": "2022-10-26T16:12:41.275Z"
      },
      {
        "duration": 7,
        "start_time": "2022-10-26T16:12:42.171Z"
      },
      {
        "duration": 9,
        "start_time": "2022-10-26T16:12:42.179Z"
      },
      {
        "duration": 168,
        "start_time": "2022-10-26T16:12:42.189Z"
      },
      {
        "duration": 5,
        "start_time": "2022-10-26T16:12:42.359Z"
      },
      {
        "duration": 180,
        "start_time": "2022-10-26T16:12:42.366Z"
      },
      {
        "duration": 718,
        "start_time": "2022-10-26T16:12:42.547Z"
      },
      {
        "duration": 417,
        "start_time": "2022-10-26T16:12:43.266Z"
      },
      {
        "duration": 165,
        "start_time": "2022-10-26T16:12:43.685Z"
      },
      {
        "duration": 143,
        "start_time": "2022-10-26T16:12:43.851Z"
      },
      {
        "duration": 13,
        "start_time": "2022-10-26T16:12:44.000Z"
      },
      {
        "duration": 5,
        "start_time": "2022-10-26T16:12:44.014Z"
      },
      {
        "duration": 2443,
        "start_time": "2022-10-26T16:12:44.021Z"
      },
      {
        "duration": 13,
        "start_time": "2022-10-26T16:12:46.466Z"
      },
      {
        "duration": 25,
        "start_time": "2022-10-26T16:12:46.481Z"
      },
      {
        "duration": 192,
        "start_time": "2022-10-26T16:12:46.508Z"
      },
      {
        "duration": 31,
        "start_time": "2022-10-26T16:12:46.702Z"
      },
      {
        "duration": 272,
        "start_time": "2022-10-26T16:12:46.734Z"
      },
      {
        "duration": 29,
        "start_time": "2022-10-26T16:12:47.007Z"
      },
      {
        "duration": 282,
        "start_time": "2022-10-26T16:12:47.037Z"
      },
      {
        "duration": 31,
        "start_time": "2022-10-26T16:12:47.320Z"
      },
      {
        "duration": 475,
        "start_time": "2022-10-26T16:12:47.353Z"
      },
      {
        "duration": 10,
        "start_time": "2022-10-26T16:12:47.830Z"
      },
      {
        "duration": 19,
        "start_time": "2022-10-26T16:12:47.842Z"
      },
      {
        "duration": 69,
        "start_time": "2022-10-26T19:04:48.682Z"
      },
      {
        "duration": 39,
        "start_time": "2022-10-26T19:05:17.070Z"
      },
      {
        "duration": 1041,
        "start_time": "2022-10-26T19:05:20.542Z"
      },
      {
        "duration": 49,
        "start_time": "2022-10-26T19:05:21.585Z"
      },
      {
        "duration": 18,
        "start_time": "2022-10-26T19:05:21.635Z"
      },
      {
        "duration": 14,
        "start_time": "2022-10-26T19:05:21.655Z"
      },
      {
        "duration": 60,
        "start_time": "2022-10-26T19:05:21.671Z"
      },
      {
        "duration": 26,
        "start_time": "2022-10-26T19:05:21.732Z"
      },
      {
        "duration": 26,
        "start_time": "2022-10-26T19:05:21.947Z"
      },
      {
        "duration": 47,
        "start_time": "2022-10-26T19:08:06.142Z"
      },
      {
        "duration": 63,
        "start_time": "2022-10-26T19:15:03.035Z"
      },
      {
        "duration": 3,
        "start_time": "2022-10-26T19:15:09.316Z"
      },
      {
        "duration": 13,
        "start_time": "2022-10-26T19:15:09.470Z"
      },
      {
        "duration": 9,
        "start_time": "2022-10-26T19:15:09.753Z"
      },
      {
        "duration": 8,
        "start_time": "2022-10-26T19:15:10.078Z"
      },
      {
        "duration": 6,
        "start_time": "2022-10-26T19:15:10.565Z"
      },
      {
        "duration": 4,
        "start_time": "2022-10-26T19:15:11.235Z"
      },
      {
        "duration": 5,
        "start_time": "2022-10-26T19:15:11.579Z"
      },
      {
        "duration": 6,
        "start_time": "2022-10-26T19:15:11.950Z"
      },
      {
        "duration": 5,
        "start_time": "2022-10-26T19:15:12.356Z"
      },
      {
        "duration": 8,
        "start_time": "2022-10-26T19:15:12.535Z"
      },
      {
        "duration": 7,
        "start_time": "2022-10-26T19:15:13.032Z"
      },
      {
        "duration": 15,
        "start_time": "2022-10-26T19:15:13.356Z"
      },
      {
        "duration": 5,
        "start_time": "2022-10-26T19:15:13.852Z"
      },
      {
        "duration": 18,
        "start_time": "2022-10-26T19:15:14.182Z"
      },
      {
        "duration": 12,
        "start_time": "2022-10-26T19:15:14.524Z"
      },
      {
        "duration": 8,
        "start_time": "2022-10-26T19:15:14.691Z"
      },
      {
        "duration": 31,
        "start_time": "2022-10-26T19:15:14.880Z"
      },
      {
        "duration": 22,
        "start_time": "2022-10-26T19:15:15.189Z"
      },
      {
        "duration": 903,
        "start_time": "2022-10-26T19:15:15.341Z"
      },
      {
        "duration": 306,
        "start_time": "2022-10-26T19:15:16.246Z"
      },
      {
        "duration": 331,
        "start_time": "2022-10-26T19:15:16.944Z"
      },
      {
        "duration": 871,
        "start_time": "2022-10-26T19:15:17.551Z"
      },
      {
        "duration": 8,
        "start_time": "2022-10-26T19:15:18.423Z"
      },
      {
        "duration": 10,
        "start_time": "2022-10-26T19:15:18.433Z"
      },
      {
        "duration": 185,
        "start_time": "2022-10-26T19:15:18.445Z"
      },
      {
        "duration": 5,
        "start_time": "2022-10-26T19:15:18.797Z"
      },
      {
        "duration": 170,
        "start_time": "2022-10-26T19:15:19.187Z"
      },
      {
        "duration": 742,
        "start_time": "2022-10-26T19:15:19.553Z"
      },
      {
        "duration": 419,
        "start_time": "2022-10-26T19:15:20.300Z"
      },
      {
        "duration": 395,
        "start_time": "2022-10-26T19:15:27.799Z"
      },
      {
        "duration": 362,
        "start_time": "2022-10-26T19:17:27.814Z"
      },
      {
        "duration": 388,
        "start_time": "2022-10-26T19:17:32.243Z"
      },
      {
        "duration": 59,
        "start_time": "2022-10-26T19:19:17.905Z"
      },
      {
        "duration": 47,
        "start_time": "2022-10-26T19:25:55.994Z"
      },
      {
        "duration": 1320,
        "start_time": "2022-10-27T04:50:36.981Z"
      },
      {
        "duration": 95,
        "start_time": "2022-10-27T04:50:38.303Z"
      },
      {
        "duration": 22,
        "start_time": "2022-10-27T04:50:38.400Z"
      },
      {
        "duration": 14,
        "start_time": "2022-10-27T04:50:38.424Z"
      },
      {
        "duration": 58,
        "start_time": "2022-10-27T04:50:39.683Z"
      },
      {
        "duration": 27,
        "start_time": "2022-10-27T04:50:48.529Z"
      },
      {
        "duration": 28,
        "start_time": "2022-10-27T04:50:49.297Z"
      },
      {
        "duration": 3,
        "start_time": "2022-10-27T04:50:52.914Z"
      },
      {
        "duration": 12,
        "start_time": "2022-10-27T04:50:53.575Z"
      },
      {
        "duration": 10,
        "start_time": "2022-10-27T04:50:54.766Z"
      },
      {
        "duration": 9,
        "start_time": "2022-10-27T04:50:55.901Z"
      },
      {
        "duration": 5,
        "start_time": "2022-10-27T04:50:57.416Z"
      },
      {
        "duration": 5,
        "start_time": "2022-10-27T04:50:59.540Z"
      },
      {
        "duration": 5,
        "start_time": "2022-10-27T04:51:00.645Z"
      },
      {
        "duration": 7,
        "start_time": "2022-10-27T04:51:01.648Z"
      },
      {
        "duration": 6,
        "start_time": "2022-10-27T04:51:02.828Z"
      },
      {
        "duration": 9,
        "start_time": "2022-10-27T04:51:03.352Z"
      },
      {
        "duration": 8,
        "start_time": "2022-10-27T04:51:04.600Z"
      },
      {
        "duration": 16,
        "start_time": "2022-10-27T04:51:05.689Z"
      },
      {
        "duration": 5,
        "start_time": "2022-10-27T04:51:07.001Z"
      },
      {
        "duration": 7,
        "start_time": "2022-10-27T04:52:16.274Z"
      },
      {
        "duration": 16,
        "start_time": "2022-10-27T04:52:17.883Z"
      },
      {
        "duration": 12,
        "start_time": "2022-10-27T04:52:19.148Z"
      },
      {
        "duration": 8,
        "start_time": "2022-10-27T04:52:19.720Z"
      },
      {
        "duration": 31,
        "start_time": "2022-10-27T04:52:20.760Z"
      },
      {
        "duration": 24,
        "start_time": "2022-10-27T04:52:21.295Z"
      },
      {
        "duration": 906,
        "start_time": "2022-10-27T04:52:21.990Z"
      },
      {
        "duration": 373,
        "start_time": "2022-10-27T04:52:24.873Z"
      },
      {
        "duration": 181,
        "start_time": "2022-10-27T04:53:14.769Z"
      },
      {
        "duration": 185,
        "start_time": "2022-10-27T04:53:43.113Z"
      },
      {
        "duration": 203,
        "start_time": "2022-10-27T04:53:54.383Z"
      },
      {
        "duration": 180,
        "start_time": "2022-10-27T04:54:39.957Z"
      },
      {
        "duration": 314,
        "start_time": "2022-10-27T04:55:09.710Z"
      },
      {
        "duration": 180,
        "start_time": "2022-10-27T04:57:13.979Z"
      },
      {
        "duration": 176,
        "start_time": "2022-10-27T04:57:42.122Z"
      },
      {
        "duration": 486,
        "start_time": "2022-10-27T04:58:08.865Z"
      },
      {
        "duration": 277,
        "start_time": "2022-10-27T04:58:37.287Z"
      },
      {
        "duration": 175,
        "start_time": "2022-10-27T04:59:21.125Z"
      },
      {
        "duration": 10,
        "start_time": "2022-10-27T05:09:12.478Z"
      },
      {
        "duration": 178,
        "start_time": "2022-10-27T05:09:21.474Z"
      },
      {
        "duration": 274,
        "start_time": "2022-10-27T05:09:23.141Z"
      },
      {
        "duration": 1022,
        "start_time": "2022-10-27T05:09:23.975Z"
      },
      {
        "duration": 13,
        "start_time": "2022-10-27T05:09:24.999Z"
      },
      {
        "duration": 6,
        "start_time": "2022-10-27T05:09:25.014Z"
      },
      {
        "duration": 183,
        "start_time": "2022-10-27T05:09:25.022Z"
      },
      {
        "duration": 7,
        "start_time": "2022-10-27T05:09:25.681Z"
      },
      {
        "duration": 182,
        "start_time": "2022-10-27T05:09:26.676Z"
      },
      {
        "duration": 690,
        "start_time": "2022-10-27T05:09:27.541Z"
      },
      {
        "duration": 487,
        "start_time": "2022-10-27T05:09:28.748Z"
      },
      {
        "duration": 493,
        "start_time": "2022-10-27T05:09:29.999Z"
      },
      {
        "duration": 192,
        "start_time": "2022-10-27T05:21:55.414Z"
      },
      {
        "duration": 1091,
        "start_time": "2022-10-27T05:23:37.209Z"
      },
      {
        "duration": 53,
        "start_time": "2022-10-27T05:23:38.301Z"
      },
      {
        "duration": 16,
        "start_time": "2022-10-27T05:23:38.356Z"
      },
      {
        "duration": 14,
        "start_time": "2022-10-27T05:23:38.373Z"
      },
      {
        "duration": 55,
        "start_time": "2022-10-27T05:23:38.389Z"
      },
      {
        "duration": 24,
        "start_time": "2022-10-27T05:23:38.446Z"
      },
      {
        "duration": 42,
        "start_time": "2022-10-27T05:23:38.472Z"
      },
      {
        "duration": 3,
        "start_time": "2022-10-27T05:23:38.515Z"
      },
      {
        "duration": 17,
        "start_time": "2022-10-27T05:23:38.519Z"
      },
      {
        "duration": 11,
        "start_time": "2022-10-27T05:23:38.537Z"
      },
      {
        "duration": 7,
        "start_time": "2022-10-27T05:23:38.549Z"
      },
      {
        "duration": 5,
        "start_time": "2022-10-27T05:23:38.557Z"
      },
      {
        "duration": 7,
        "start_time": "2022-10-27T05:23:38.563Z"
      },
      {
        "duration": 7,
        "start_time": "2022-10-27T05:23:38.572Z"
      },
      {
        "duration": 30,
        "start_time": "2022-10-27T05:23:38.580Z"
      },
      {
        "duration": 7,
        "start_time": "2022-10-27T05:23:38.612Z"
      },
      {
        "duration": 10,
        "start_time": "2022-10-27T05:23:38.620Z"
      },
      {
        "duration": 7,
        "start_time": "2022-10-27T05:23:38.631Z"
      },
      {
        "duration": 14,
        "start_time": "2022-10-27T05:23:38.639Z"
      },
      {
        "duration": 5,
        "start_time": "2022-10-27T05:23:38.654Z"
      },
      {
        "duration": 16,
        "start_time": "2022-10-27T05:23:38.660Z"
      },
      {
        "duration": 36,
        "start_time": "2022-10-27T05:23:38.677Z"
      },
      {
        "duration": 7,
        "start_time": "2022-10-27T05:23:38.715Z"
      },
      {
        "duration": 29,
        "start_time": "2022-10-27T05:23:38.724Z"
      },
      {
        "duration": 22,
        "start_time": "2022-10-27T05:23:38.754Z"
      },
      {
        "duration": 923,
        "start_time": "2022-10-27T05:23:38.777Z"
      },
      {
        "duration": 79919,
        "start_time": "2022-10-27T05:23:39.702Z"
      },
      {
        "duration": 178,
        "start_time": "2022-10-27T05:26:57.897Z"
      },
      {
        "duration": 885,
        "start_time": "2022-10-27T05:30:05.939Z"
      },
      {
        "duration": 9,
        "start_time": "2022-10-27T05:31:31.843Z"
      },
      {
        "duration": 3,
        "start_time": "2022-10-27T05:31:37.517Z"
      },
      {
        "duration": 55,
        "start_time": "2022-10-27T05:31:37.522Z"
      },
      {
        "duration": 12,
        "start_time": "2022-10-27T05:31:37.579Z"
      },
      {
        "duration": 17,
        "start_time": "2022-10-27T05:31:37.593Z"
      },
      {
        "duration": 25,
        "start_time": "2022-10-27T05:31:37.613Z"
      },
      {
        "duration": 24,
        "start_time": "2022-10-27T05:31:37.640Z"
      },
      {
        "duration": 44,
        "start_time": "2022-10-27T05:31:37.666Z"
      },
      {
        "duration": 4,
        "start_time": "2022-10-27T05:31:37.712Z"
      },
      {
        "duration": 19,
        "start_time": "2022-10-27T05:31:37.717Z"
      },
      {
        "duration": 9,
        "start_time": "2022-10-27T05:31:37.738Z"
      },
      {
        "duration": 6,
        "start_time": "2022-10-27T05:31:37.750Z"
      },
      {
        "duration": 5,
        "start_time": "2022-10-27T05:31:37.757Z"
      },
      {
        "duration": 7,
        "start_time": "2022-10-27T05:31:37.763Z"
      },
      {
        "duration": 8,
        "start_time": "2022-10-27T05:31:37.771Z"
      },
      {
        "duration": 10,
        "start_time": "2022-10-27T05:31:37.780Z"
      },
      {
        "duration": 20,
        "start_time": "2022-10-27T05:31:37.792Z"
      },
      {
        "duration": 11,
        "start_time": "2022-10-27T05:31:37.813Z"
      },
      {
        "duration": 7,
        "start_time": "2022-10-27T05:31:37.825Z"
      },
      {
        "duration": 13,
        "start_time": "2022-10-27T05:31:37.834Z"
      },
      {
        "duration": 5,
        "start_time": "2022-10-27T05:31:37.849Z"
      },
      {
        "duration": 14,
        "start_time": "2022-10-27T05:31:37.855Z"
      },
      {
        "duration": 38,
        "start_time": "2022-10-27T05:31:37.871Z"
      },
      {
        "duration": 10,
        "start_time": "2022-10-27T05:31:37.910Z"
      },
      {
        "duration": 34,
        "start_time": "2022-10-27T05:31:37.922Z"
      },
      {
        "duration": 25,
        "start_time": "2022-10-27T05:31:37.957Z"
      },
      {
        "duration": 937,
        "start_time": "2022-10-27T05:31:37.983Z"
      },
      {
        "duration": 318,
        "start_time": "2022-10-27T05:31:38.922Z"
      },
      {
        "duration": 283,
        "start_time": "2022-10-27T05:31:39.242Z"
      },
      {
        "duration": 899,
        "start_time": "2022-10-27T05:31:39.529Z"
      },
      {
        "duration": 7,
        "start_time": "2022-10-27T05:31:40.430Z"
      },
      {
        "duration": 14,
        "start_time": "2022-10-27T05:31:40.439Z"
      },
      {
        "duration": 182,
        "start_time": "2022-10-27T05:31:40.454Z"
      },
      {
        "duration": 6,
        "start_time": "2022-10-27T05:31:40.638Z"
      },
      {
        "duration": 192,
        "start_time": "2022-10-27T05:31:40.645Z"
      },
      {
        "duration": 723,
        "start_time": "2022-10-27T05:31:40.839Z"
      },
      {
        "duration": 454,
        "start_time": "2022-10-27T05:31:41.564Z"
      },
      {
        "duration": 416,
        "start_time": "2022-10-27T05:31:42.020Z"
      },
      {
        "duration": 1116,
        "start_time": "2022-10-27T06:22:54.689Z"
      },
      {
        "duration": 55,
        "start_time": "2022-10-27T06:22:55.807Z"
      },
      {
        "duration": 17,
        "start_time": "2022-10-27T06:22:55.863Z"
      },
      {
        "duration": 15,
        "start_time": "2022-10-27T06:22:55.882Z"
      },
      {
        "duration": 60,
        "start_time": "2022-10-27T06:22:55.898Z"
      },
      {
        "duration": 26,
        "start_time": "2022-10-27T06:22:55.959Z"
      },
      {
        "duration": 38,
        "start_time": "2022-10-27T06:22:55.986Z"
      },
      {
        "duration": 3,
        "start_time": "2022-10-27T06:22:56.025Z"
      },
      {
        "duration": 16,
        "start_time": "2022-10-27T06:22:56.030Z"
      },
      {
        "duration": 10,
        "start_time": "2022-10-27T06:22:56.050Z"
      },
      {
        "duration": 8,
        "start_time": "2022-10-27T06:22:56.061Z"
      },
      {
        "duration": 6,
        "start_time": "2022-10-27T06:22:56.071Z"
      },
      {
        "duration": 7,
        "start_time": "2022-10-27T06:22:56.108Z"
      },
      {
        "duration": 7,
        "start_time": "2022-10-27T06:22:56.116Z"
      },
      {
        "duration": 7,
        "start_time": "2022-10-27T06:22:56.125Z"
      },
      {
        "duration": 5,
        "start_time": "2022-10-27T06:22:56.134Z"
      },
      {
        "duration": 11,
        "start_time": "2022-10-27T06:22:56.142Z"
      },
      {
        "duration": 10,
        "start_time": "2022-10-27T06:22:56.154Z"
      },
      {
        "duration": 44,
        "start_time": "2022-10-27T06:22:56.166Z"
      },
      {
        "duration": 7,
        "start_time": "2022-10-27T06:22:56.212Z"
      },
      {
        "duration": 15,
        "start_time": "2022-10-27T06:22:56.221Z"
      },
      {
        "duration": 28,
        "start_time": "2022-10-27T06:22:56.238Z"
      },
      {
        "duration": 8,
        "start_time": "2022-10-27T06:22:56.268Z"
      },
      {
        "duration": 44,
        "start_time": "2022-10-27T06:22:56.277Z"
      },
      {
        "duration": 29,
        "start_time": "2022-10-27T06:22:56.322Z"
      },
      {
        "duration": 973,
        "start_time": "2022-10-27T06:22:56.352Z"
      },
      {
        "duration": 314,
        "start_time": "2022-10-27T06:22:57.327Z"
      },
      {
        "duration": 358,
        "start_time": "2022-10-27T06:22:57.645Z"
      },
      {
        "duration": 906,
        "start_time": "2022-10-27T06:22:58.005Z"
      },
      {
        "duration": 8,
        "start_time": "2022-10-27T06:22:58.912Z"
      },
      {
        "duration": 11,
        "start_time": "2022-10-27T06:22:58.922Z"
      },
      {
        "duration": 193,
        "start_time": "2022-10-27T06:22:58.934Z"
      },
      {
        "duration": 7,
        "start_time": "2022-10-27T06:22:59.129Z"
      },
      {
        "duration": 217,
        "start_time": "2022-10-27T06:22:59.138Z"
      },
      {
        "duration": 782,
        "start_time": "2022-10-27T06:22:59.356Z"
      },
      {
        "duration": 403,
        "start_time": "2022-10-27T06:23:00.140Z"
      },
      {
        "duration": 415,
        "start_time": "2022-10-27T06:23:00.545Z"
      },
      {
        "duration": 163,
        "start_time": "2022-10-27T06:23:00.962Z"
      },
      {
        "duration": 153,
        "start_time": "2022-10-27T06:23:01.128Z"
      },
      {
        "duration": 13,
        "start_time": "2022-10-27T06:23:01.283Z"
      },
      {
        "duration": 2,
        "start_time": "2022-10-27T06:23:01.310Z"
      },
      {
        "duration": 2568,
        "start_time": "2022-10-27T06:23:01.314Z"
      },
      {
        "duration": 27,
        "start_time": "2022-10-27T06:23:03.884Z"
      },
      {
        "duration": 9,
        "start_time": "2022-10-27T06:23:03.912Z"
      },
      {
        "duration": 213,
        "start_time": "2022-10-27T06:23:03.923Z"
      },
      {
        "duration": 31,
        "start_time": "2022-10-27T06:23:04.137Z"
      },
      {
        "duration": 298,
        "start_time": "2022-10-27T06:23:04.169Z"
      },
      {
        "duration": 53,
        "start_time": "2022-10-27T06:23:04.469Z"
      },
      {
        "duration": 296,
        "start_time": "2022-10-27T06:23:04.524Z"
      },
      {
        "duration": 34,
        "start_time": "2022-10-27T06:23:04.822Z"
      },
      {
        "duration": 606,
        "start_time": "2022-10-27T06:23:04.857Z"
      },
      {
        "duration": 10,
        "start_time": "2022-10-27T06:23:05.464Z"
      },
      {
        "duration": 17,
        "start_time": "2022-10-27T06:23:05.475Z"
      },
      {
        "duration": 44,
        "start_time": "2022-10-27T12:01:27.645Z"
      },
      {
        "duration": 1256,
        "start_time": "2022-10-27T12:01:40.315Z"
      },
      {
        "duration": 94,
        "start_time": "2022-10-27T12:01:41.573Z"
      },
      {
        "duration": 16,
        "start_time": "2022-10-27T12:01:41.669Z"
      },
      {
        "duration": 28,
        "start_time": "2022-10-27T12:01:41.687Z"
      },
      {
        "duration": 71,
        "start_time": "2022-10-27T12:01:41.716Z"
      },
      {
        "duration": 25,
        "start_time": "2022-10-27T12:01:41.788Z"
      },
      {
        "duration": 32,
        "start_time": "2022-10-27T12:01:41.814Z"
      },
      {
        "duration": 3,
        "start_time": "2022-10-27T12:01:42.272Z"
      },
      {
        "duration": 12,
        "start_time": "2022-10-27T12:01:42.472Z"
      },
      {
        "duration": 9,
        "start_time": "2022-10-27T12:01:42.887Z"
      },
      {
        "duration": 8,
        "start_time": "2022-10-27T12:01:43.648Z"
      },
      {
        "duration": 5,
        "start_time": "2022-10-27T12:01:44.407Z"
      },
      {
        "duration": 5,
        "start_time": "2022-10-27T12:01:45.272Z"
      },
      {
        "duration": 5,
        "start_time": "2022-10-27T12:01:45.665Z"
      },
      {
        "duration": 6,
        "start_time": "2022-10-27T12:01:46.052Z"
      },
      {
        "duration": 4,
        "start_time": "2022-10-27T12:01:46.415Z"
      },
      {
        "duration": 8,
        "start_time": "2022-10-27T12:01:46.599Z"
      },
      {
        "duration": 7,
        "start_time": "2022-10-27T12:01:47.145Z"
      },
      {
        "duration": 15,
        "start_time": "2022-10-27T12:01:47.487Z"
      },
      {
        "duration": 6,
        "start_time": "2022-10-27T12:01:48.051Z"
      },
      {
        "duration": 13,
        "start_time": "2022-10-27T12:01:48.608Z"
      },
      {
        "duration": 12,
        "start_time": "2022-10-27T12:01:49.165Z"
      },
      {
        "duration": 8,
        "start_time": "2022-10-27T12:01:49.360Z"
      },
      {
        "duration": 30,
        "start_time": "2022-10-27T12:01:49.513Z"
      },
      {
        "duration": 23,
        "start_time": "2022-10-27T12:01:49.705Z"
      },
      {
        "duration": 880,
        "start_time": "2022-10-27T12:01:49.891Z"
      },
      {
        "duration": 291,
        "start_time": "2022-10-27T12:01:51.585Z"
      },
      {
        "duration": 237,
        "start_time": "2022-10-27T12:01:53.075Z"
      },
      {
        "duration": 84,
        "start_time": "2022-10-27T12:05:16.769Z"
      },
      {
        "duration": 26,
        "start_time": "2022-10-27T12:05:27.545Z"
      },
      {
        "duration": 167,
        "start_time": "2022-10-27T12:05:33.980Z"
      },
      {
        "duration": 19,
        "start_time": "2022-10-27T12:07:52.694Z"
      },
      {
        "duration": 20,
        "start_time": "2022-10-27T12:08:07.090Z"
      },
      {
        "duration": 16,
        "start_time": "2022-10-27T12:08:07.253Z"
      },
      {
        "duration": 16,
        "start_time": "2022-10-27T12:10:27.861Z"
      },
      {
        "duration": 230,
        "start_time": "2022-10-27T12:14:27.668Z"
      },
      {
        "duration": 118,
        "start_time": "2022-10-27T12:15:36.696Z"
      },
      {
        "duration": 138,
        "start_time": "2022-10-27T12:15:46.217Z"
      },
      {
        "duration": 271,
        "start_time": "2022-10-27T12:16:42.314Z"
      },
      {
        "duration": 281,
        "start_time": "2022-10-27T12:17:58.969Z"
      },
      {
        "duration": 315,
        "start_time": "2022-10-27T12:18:08.795Z"
      },
      {
        "duration": 237,
        "start_time": "2022-10-27T12:18:17.660Z"
      },
      {
        "duration": 330,
        "start_time": "2022-10-27T12:18:27.794Z"
      },
      {
        "duration": 50,
        "start_time": "2022-10-27T12:18:59.556Z"
      },
      {
        "duration": 264,
        "start_time": "2022-10-27T12:19:03.444Z"
      },
      {
        "duration": 299,
        "start_time": "2022-10-27T12:19:48.989Z"
      },
      {
        "duration": 10,
        "start_time": "2022-10-27T12:19:57.348Z"
      },
      {
        "duration": 237,
        "start_time": "2022-10-27T12:20:09.296Z"
      },
      {
        "duration": 292,
        "start_time": "2022-10-27T12:20:14.356Z"
      },
      {
        "duration": 162,
        "start_time": "2022-10-27T12:21:24.575Z"
      }
    ],
    "kernelspec": {
      "name": "python",
      "display_name": "Python (Pyodide)",
      "language": "python"
    },
    "language_info": {
      "codemirror_mode": {
        "name": "python",
        "version": 3
      },
      "file_extension": ".py",
      "mimetype": "text/x-python",
      "name": "python",
      "nbconvert_exporter": "python",
      "pygments_lexer": "ipython3",
      "version": "3.8"
    },
    "toc": {
      "base_numbering": 1,
      "nav_menu": {},
      "number_sections": true,
      "sideBar": true,
      "skip_h1_title": true,
      "title_cell": "Table of Contents",
      "title_sidebar": "Contents",
      "toc_cell": false,
      "toc_position": {},
      "toc_section_display": true,
      "toc_window_display": false
    }
  },
  "nbformat_minor": 4,
  "nbformat": 4,
  "cells": [
    {
      "cell_type": "markdown",
      "source": "# Сборный проект \n\n**Описание проекта**\n\nВы работаете в интернет-магазине «Стримчик», который продаёт по всему миру компьютерные игры. Из открытых источников доступны исторические данные о продажах игр, оценки пользователей и экспертов, жанры и платформы (например, Xbox или PlayStation). Вам нужно выявить определяющие успешность игры закономерности. Это позволит сделать ставку на потенциально популярный продукт и спланировать рекламные кампании.\n\nПеред вами данные до 2016 года. Представим, что сейчас декабрь 2016 г., и вы планируете кампанию на 2017-й. Нужно отработать принцип работы с данными. Неважно, прогнозируете ли вы продажи на 2017 год по данным 2016-го или же 2027-й — по данным 2026 года.\n\n**Цель исследования**: выявить закономерности, определяющие успешность игры, для планирования рекламной кампании на предстоящий период.\n\n**Ход исследования**:\n1. Изучение и обработка имеющихся данные;\n2. Исследовательский анализ данных: оценка продаж по платформам, определение актуального периода, оценка влияния различных факторов на продажу игр;\n3. Составление портрета пользователя в зависимости от региона;\n4. Статистический анализ и проверка гипотез о равенстве рейтингов различных платформ и различных игровых жанров.",
      "metadata": {}
    },
    {
      "cell_type": "markdown",
      "source": "### Обзор данных",
      "metadata": {}
    },
    {
      "cell_type": "markdown",
      "source": "Выведем на экран всю информацию, необходимую для первичного ознакомления с данными.",
      "metadata": {}
    },
    {
      "cell_type": "code",
      "source": "import pandas as pd\nimport numpy as np\nimport matplotlib.pyplot as plt\nimport seaborn as sns\nfrom scipy import stats as st",
      "metadata": {},
      "execution_count": 2,
      "outputs": []
    },
    {
      "cell_type": "code",
      "source": "data = pd.read_csv('/datasets/games.csv')",
      "metadata": {},
      "execution_count": 3,
      "outputs": []
    },
    {
      "cell_type": "code",
      "source": "data.head() # выводим первые 5 строчек чтобы убедиться, что все верно импортировалось",
      "metadata": {},
      "execution_count": 4,
      "outputs": [
        {
          "execution_count": 4,
          "output_type": "execute_result",
          "data": {
            "text/html": [
              "<div>\n",
              "<style scoped>\n",
              "    .dataframe tbody tr th:only-of-type {\n",
              "        vertical-align: middle;\n",
              "    }\n",
              "\n",
              "    .dataframe tbody tr th {\n",
              "        vertical-align: top;\n",
              "    }\n",
              "\n",
              "    .dataframe thead th {\n",
              "        text-align: right;\n",
              "    }\n",
              "</style>\n",
              "<table border=\"1\" class=\"dataframe\">\n",
              "  <thead>\n",
              "    <tr style=\"text-align: right;\">\n",
              "      <th></th>\n",
              "      <th>Name</th>\n",
              "      <th>Platform</th>\n",
              "      <th>Year_of_Release</th>\n",
              "      <th>Genre</th>\n",
              "      <th>NA_sales</th>\n",
              "      <th>EU_sales</th>\n",
              "      <th>JP_sales</th>\n",
              "      <th>Other_sales</th>\n",
              "      <th>Critic_Score</th>\n",
              "      <th>User_Score</th>\n",
              "      <th>Rating</th>\n",
              "    </tr>\n",
              "  </thead>\n",
              "  <tbody>\n",
              "    <tr>\n",
              "      <th>0</th>\n",
              "      <td>Wii Sports</td>\n",
              "      <td>Wii</td>\n",
              "      <td>2006.0</td>\n",
              "      <td>Sports</td>\n",
              "      <td>41.36</td>\n",
              "      <td>28.96</td>\n",
              "      <td>3.77</td>\n",
              "      <td>8.45</td>\n",
              "      <td>76.0</td>\n",
              "      <td>8</td>\n",
              "      <td>E</td>\n",
              "    </tr>\n",
              "    <tr>\n",
              "      <th>1</th>\n",
              "      <td>Super Mario Bros.</td>\n",
              "      <td>NES</td>\n",
              "      <td>1985.0</td>\n",
              "      <td>Platform</td>\n",
              "      <td>29.08</td>\n",
              "      <td>3.58</td>\n",
              "      <td>6.81</td>\n",
              "      <td>0.77</td>\n",
              "      <td>NaN</td>\n",
              "      <td>NaN</td>\n",
              "      <td>NaN</td>\n",
              "    </tr>\n",
              "    <tr>\n",
              "      <th>2</th>\n",
              "      <td>Mario Kart Wii</td>\n",
              "      <td>Wii</td>\n",
              "      <td>2008.0</td>\n",
              "      <td>Racing</td>\n",
              "      <td>15.68</td>\n",
              "      <td>12.76</td>\n",
              "      <td>3.79</td>\n",
              "      <td>3.29</td>\n",
              "      <td>82.0</td>\n",
              "      <td>8.3</td>\n",
              "      <td>E</td>\n",
              "    </tr>\n",
              "    <tr>\n",
              "      <th>3</th>\n",
              "      <td>Wii Sports Resort</td>\n",
              "      <td>Wii</td>\n",
              "      <td>2009.0</td>\n",
              "      <td>Sports</td>\n",
              "      <td>15.61</td>\n",
              "      <td>10.93</td>\n",
              "      <td>3.28</td>\n",
              "      <td>2.95</td>\n",
              "      <td>80.0</td>\n",
              "      <td>8</td>\n",
              "      <td>E</td>\n",
              "    </tr>\n",
              "    <tr>\n",
              "      <th>4</th>\n",
              "      <td>Pokemon Red/Pokemon Blue</td>\n",
              "      <td>GB</td>\n",
              "      <td>1996.0</td>\n",
              "      <td>Role-Playing</td>\n",
              "      <td>11.27</td>\n",
              "      <td>8.89</td>\n",
              "      <td>10.22</td>\n",
              "      <td>1.00</td>\n",
              "      <td>NaN</td>\n",
              "      <td>NaN</td>\n",
              "      <td>NaN</td>\n",
              "    </tr>\n",
              "  </tbody>\n",
              "</table>\n",
              "</div>"
            ],
            "text/plain": [
              "                       Name Platform  Year_of_Release         Genre  NA_sales  \\\n",
              "0                Wii Sports      Wii           2006.0        Sports     41.36   \n",
              "1         Super Mario Bros.      NES           1985.0      Platform     29.08   \n",
              "2            Mario Kart Wii      Wii           2008.0        Racing     15.68   \n",
              "3         Wii Sports Resort      Wii           2009.0        Sports     15.61   \n",
              "4  Pokemon Red/Pokemon Blue       GB           1996.0  Role-Playing     11.27   \n",
              "\n",
              "   EU_sales  JP_sales  Other_sales  Critic_Score User_Score Rating  \n",
              "0     28.96      3.77         8.45          76.0          8      E  \n",
              "1      3.58      6.81         0.77           NaN        NaN    NaN  \n",
              "2     12.76      3.79         3.29          82.0        8.3      E  \n",
              "3     10.93      3.28         2.95          80.0          8      E  \n",
              "4      8.89     10.22         1.00           NaN        NaN    NaN  "
            ]
          },
          "metadata": {}
        }
      ]
    },
    {
      "cell_type": "code",
      "source": "data.info() # основная информация о датафрейме",
      "metadata": {},
      "execution_count": 5,
      "outputs": [
        {
          "name": "stdout",
          "output_type": "stream",
          "text": "<class 'pandas.core.frame.DataFrame'>\n\nRangeIndex: 16715 entries, 0 to 16714\n\nData columns (total 11 columns):\n\n #   Column           Non-Null Count  Dtype  \n\n---  ------           --------------  -----  \n\n 0   Name             16713 non-null  object \n\n 1   Platform         16715 non-null  object \n\n 2   Year_of_Release  16446 non-null  float64\n\n 3   Genre            16713 non-null  object \n\n 4   NA_sales         16715 non-null  float64\n\n 5   EU_sales         16715 non-null  float64\n\n 6   JP_sales         16715 non-null  float64\n\n 7   Other_sales      16715 non-null  float64\n\n 8   Critic_Score     8137 non-null   float64\n\n 9   User_Score       10014 non-null  object \n\n 10  Rating           9949 non-null   object \n\ndtypes: float64(6), object(5)\n\nmemory usage: 1.4+ MB\n"
        }
      ]
    },
    {
      "cell_type": "code",
      "source": "display(data.isna().sum()) # количество пропущенных значений\ndisplay(pd.DataFrame(round(data.isna().mean()*100,)).style.background_gradient('coolwarm')) # процент пропущенных значений",
      "metadata": {},
      "execution_count": 6,
      "outputs": [
        {
          "output_type": "display_data",
          "data": {
            "text/plain": [
              "Name                  2\n",
              "Platform              0\n",
              "Year_of_Release     269\n",
              "Genre                 2\n",
              "NA_sales              0\n",
              "EU_sales              0\n",
              "JP_sales              0\n",
              "Other_sales           0\n",
              "Critic_Score       8578\n",
              "User_Score         6701\n",
              "Rating             6766\n",
              "dtype: int64"
            ]
          },
          "metadata": {}
        },
        {
          "output_type": "display_data",
          "data": {
            "text/html": [
              "<style  type=\"text/css\" >\n",
              "#T_3a4b4_row0_col0,#T_3a4b4_row1_col0,#T_3a4b4_row3_col0,#T_3a4b4_row4_col0,#T_3a4b4_row5_col0,#T_3a4b4_row6_col0,#T_3a4b4_row7_col0{\n",
              "            background-color:  #3b4cc0;\n",
              "            color:  #f1f1f1;\n",
              "        }#T_3a4b4_row2_col0{\n",
              "            background-color:  #465ecf;\n",
              "            color:  #f1f1f1;\n",
              "        }#T_3a4b4_row8_col0{\n",
              "            background-color:  #b40426;\n",
              "            color:  #f1f1f1;\n",
              "        }#T_3a4b4_row9_col0,#T_3a4b4_row10_col0{\n",
              "            background-color:  #f08b6e;\n",
              "            color:  #000000;\n",
              "        }</style><table id=\"T_3a4b4_\" ><thead>    <tr>        <th class=\"blank level0\" ></th>        <th class=\"col_heading level0 col0\" >0</th>    </tr></thead><tbody>\n",
              "                <tr>\n",
              "                        <th id=\"T_3a4b4_level0_row0\" class=\"row_heading level0 row0\" >Name</th>\n",
              "                        <td id=\"T_3a4b4_row0_col0\" class=\"data row0 col0\" >0.000000</td>\n",
              "            </tr>\n",
              "            <tr>\n",
              "                        <th id=\"T_3a4b4_level0_row1\" class=\"row_heading level0 row1\" >Platform</th>\n",
              "                        <td id=\"T_3a4b4_row1_col0\" class=\"data row1 col0\" >0.000000</td>\n",
              "            </tr>\n",
              "            <tr>\n",
              "                        <th id=\"T_3a4b4_level0_row2\" class=\"row_heading level0 row2\" >Year_of_Release</th>\n",
              "                        <td id=\"T_3a4b4_row2_col0\" class=\"data row2 col0\" >2.000000</td>\n",
              "            </tr>\n",
              "            <tr>\n",
              "                        <th id=\"T_3a4b4_level0_row3\" class=\"row_heading level0 row3\" >Genre</th>\n",
              "                        <td id=\"T_3a4b4_row3_col0\" class=\"data row3 col0\" >0.000000</td>\n",
              "            </tr>\n",
              "            <tr>\n",
              "                        <th id=\"T_3a4b4_level0_row4\" class=\"row_heading level0 row4\" >NA_sales</th>\n",
              "                        <td id=\"T_3a4b4_row4_col0\" class=\"data row4 col0\" >0.000000</td>\n",
              "            </tr>\n",
              "            <tr>\n",
              "                        <th id=\"T_3a4b4_level0_row5\" class=\"row_heading level0 row5\" >EU_sales</th>\n",
              "                        <td id=\"T_3a4b4_row5_col0\" class=\"data row5 col0\" >0.000000</td>\n",
              "            </tr>\n",
              "            <tr>\n",
              "                        <th id=\"T_3a4b4_level0_row6\" class=\"row_heading level0 row6\" >JP_sales</th>\n",
              "                        <td id=\"T_3a4b4_row6_col0\" class=\"data row6 col0\" >0.000000</td>\n",
              "            </tr>\n",
              "            <tr>\n",
              "                        <th id=\"T_3a4b4_level0_row7\" class=\"row_heading level0 row7\" >Other_sales</th>\n",
              "                        <td id=\"T_3a4b4_row7_col0\" class=\"data row7 col0\" >0.000000</td>\n",
              "            </tr>\n",
              "            <tr>\n",
              "                        <th id=\"T_3a4b4_level0_row8\" class=\"row_heading level0 row8\" >Critic_Score</th>\n",
              "                        <td id=\"T_3a4b4_row8_col0\" class=\"data row8 col0\" >51.000000</td>\n",
              "            </tr>\n",
              "            <tr>\n",
              "                        <th id=\"T_3a4b4_level0_row9\" class=\"row_heading level0 row9\" >User_Score</th>\n",
              "                        <td id=\"T_3a4b4_row9_col0\" class=\"data row9 col0\" >40.000000</td>\n",
              "            </tr>\n",
              "            <tr>\n",
              "                        <th id=\"T_3a4b4_level0_row10\" class=\"row_heading level0 row10\" >Rating</th>\n",
              "                        <td id=\"T_3a4b4_row10_col0\" class=\"data row10 col0\" >40.000000</td>\n",
              "            </tr>\n",
              "    </tbody></table>"
            ],
            "text/plain": [
              "<pandas.io.formats.style.Styler at 0x7f11d16336d0>"
            ]
          },
          "metadata": {}
        }
      ]
    },
    {
      "cell_type": "markdown",
      "source": "<div class=\"alert-success\"> \n<b>Комментарий ревьюера 👍 </b>\n\nОтлично, что ты используешь здесь градиент! Так получается намного нагляднее.",
      "metadata": {}
    },
    {
      "cell_type": "code",
      "source": "data.describe() # числовое описание датафрейма",
      "metadata": {},
      "execution_count": 7,
      "outputs": [
        {
          "execution_count": 7,
          "output_type": "execute_result",
          "data": {
            "text/html": [
              "<div>\n",
              "<style scoped>\n",
              "    .dataframe tbody tr th:only-of-type {\n",
              "        vertical-align: middle;\n",
              "    }\n",
              "\n",
              "    .dataframe tbody tr th {\n",
              "        vertical-align: top;\n",
              "    }\n",
              "\n",
              "    .dataframe thead th {\n",
              "        text-align: right;\n",
              "    }\n",
              "</style>\n",
              "<table border=\"1\" class=\"dataframe\">\n",
              "  <thead>\n",
              "    <tr style=\"text-align: right;\">\n",
              "      <th></th>\n",
              "      <th>Year_of_Release</th>\n",
              "      <th>NA_sales</th>\n",
              "      <th>EU_sales</th>\n",
              "      <th>JP_sales</th>\n",
              "      <th>Other_sales</th>\n",
              "      <th>Critic_Score</th>\n",
              "    </tr>\n",
              "  </thead>\n",
              "  <tbody>\n",
              "    <tr>\n",
              "      <th>count</th>\n",
              "      <td>16446.000000</td>\n",
              "      <td>16715.000000</td>\n",
              "      <td>16715.000000</td>\n",
              "      <td>16715.000000</td>\n",
              "      <td>16715.000000</td>\n",
              "      <td>8137.000000</td>\n",
              "    </tr>\n",
              "    <tr>\n",
              "      <th>mean</th>\n",
              "      <td>2006.484616</td>\n",
              "      <td>0.263377</td>\n",
              "      <td>0.145060</td>\n",
              "      <td>0.077617</td>\n",
              "      <td>0.047342</td>\n",
              "      <td>68.967679</td>\n",
              "    </tr>\n",
              "    <tr>\n",
              "      <th>std</th>\n",
              "      <td>5.877050</td>\n",
              "      <td>0.813604</td>\n",
              "      <td>0.503339</td>\n",
              "      <td>0.308853</td>\n",
              "      <td>0.186731</td>\n",
              "      <td>13.938165</td>\n",
              "    </tr>\n",
              "    <tr>\n",
              "      <th>min</th>\n",
              "      <td>1980.000000</td>\n",
              "      <td>0.000000</td>\n",
              "      <td>0.000000</td>\n",
              "      <td>0.000000</td>\n",
              "      <td>0.000000</td>\n",
              "      <td>13.000000</td>\n",
              "    </tr>\n",
              "    <tr>\n",
              "      <th>25%</th>\n",
              "      <td>2003.000000</td>\n",
              "      <td>0.000000</td>\n",
              "      <td>0.000000</td>\n",
              "      <td>0.000000</td>\n",
              "      <td>0.000000</td>\n",
              "      <td>60.000000</td>\n",
              "    </tr>\n",
              "    <tr>\n",
              "      <th>50%</th>\n",
              "      <td>2007.000000</td>\n",
              "      <td>0.080000</td>\n",
              "      <td>0.020000</td>\n",
              "      <td>0.000000</td>\n",
              "      <td>0.010000</td>\n",
              "      <td>71.000000</td>\n",
              "    </tr>\n",
              "    <tr>\n",
              "      <th>75%</th>\n",
              "      <td>2010.000000</td>\n",
              "      <td>0.240000</td>\n",
              "      <td>0.110000</td>\n",
              "      <td>0.040000</td>\n",
              "      <td>0.030000</td>\n",
              "      <td>79.000000</td>\n",
              "    </tr>\n",
              "    <tr>\n",
              "      <th>max</th>\n",
              "      <td>2016.000000</td>\n",
              "      <td>41.360000</td>\n",
              "      <td>28.960000</td>\n",
              "      <td>10.220000</td>\n",
              "      <td>10.570000</td>\n",
              "      <td>98.000000</td>\n",
              "    </tr>\n",
              "  </tbody>\n",
              "</table>\n",
              "</div>"
            ],
            "text/plain": [
              "       Year_of_Release      NA_sales      EU_sales      JP_sales  \\\n",
              "count     16446.000000  16715.000000  16715.000000  16715.000000   \n",
              "mean       2006.484616      0.263377      0.145060      0.077617   \n",
              "std           5.877050      0.813604      0.503339      0.308853   \n",
              "min        1980.000000      0.000000      0.000000      0.000000   \n",
              "25%        2003.000000      0.000000      0.000000      0.000000   \n",
              "50%        2007.000000      0.080000      0.020000      0.000000   \n",
              "75%        2010.000000      0.240000      0.110000      0.040000   \n",
              "max        2016.000000     41.360000     28.960000     10.220000   \n",
              "\n",
              "        Other_sales  Critic_Score  \n",
              "count  16715.000000   8137.000000  \n",
              "mean       0.047342     68.967679  \n",
              "std        0.186731     13.938165  \n",
              "min        0.000000     13.000000  \n",
              "25%        0.000000     60.000000  \n",
              "50%        0.010000     71.000000  \n",
              "75%        0.030000     79.000000  \n",
              "max       10.570000     98.000000  "
            ]
          },
          "metadata": {}
        }
      ]
    },
    {
      "cell_type": "code",
      "source": "data.describe(include='object') # построковое описание датафрейма",
      "metadata": {},
      "execution_count": 8,
      "outputs": [
        {
          "execution_count": 8,
          "output_type": "execute_result",
          "data": {
            "text/html": [
              "<div>\n",
              "<style scoped>\n",
              "    .dataframe tbody tr th:only-of-type {\n",
              "        vertical-align: middle;\n",
              "    }\n",
              "\n",
              "    .dataframe tbody tr th {\n",
              "        vertical-align: top;\n",
              "    }\n",
              "\n",
              "    .dataframe thead th {\n",
              "        text-align: right;\n",
              "    }\n",
              "</style>\n",
              "<table border=\"1\" class=\"dataframe\">\n",
              "  <thead>\n",
              "    <tr style=\"text-align: right;\">\n",
              "      <th></th>\n",
              "      <th>Name</th>\n",
              "      <th>Platform</th>\n",
              "      <th>Genre</th>\n",
              "      <th>User_Score</th>\n",
              "      <th>Rating</th>\n",
              "    </tr>\n",
              "  </thead>\n",
              "  <tbody>\n",
              "    <tr>\n",
              "      <th>count</th>\n",
              "      <td>16713</td>\n",
              "      <td>16715</td>\n",
              "      <td>16713</td>\n",
              "      <td>10014</td>\n",
              "      <td>9949</td>\n",
              "    </tr>\n",
              "    <tr>\n",
              "      <th>unique</th>\n",
              "      <td>11559</td>\n",
              "      <td>31</td>\n",
              "      <td>12</td>\n",
              "      <td>96</td>\n",
              "      <td>8</td>\n",
              "    </tr>\n",
              "    <tr>\n",
              "      <th>top</th>\n",
              "      <td>Need for Speed: Most Wanted</td>\n",
              "      <td>PS2</td>\n",
              "      <td>Action</td>\n",
              "      <td>tbd</td>\n",
              "      <td>E</td>\n",
              "    </tr>\n",
              "    <tr>\n",
              "      <th>freq</th>\n",
              "      <td>12</td>\n",
              "      <td>2161</td>\n",
              "      <td>3369</td>\n",
              "      <td>2424</td>\n",
              "      <td>3990</td>\n",
              "    </tr>\n",
              "  </tbody>\n",
              "</table>\n",
              "</div>"
            ],
            "text/plain": [
              "                               Name Platform   Genre User_Score Rating\n",
              "count                         16713    16715   16713      10014   9949\n",
              "unique                        11559       31      12         96      8\n",
              "top     Need for Speed: Most Wanted      PS2  Action        tbd      E\n",
              "freq                             12     2161    3369       2424   3990"
            ]
          },
          "metadata": {}
        }
      ]
    },
    {
      "cell_type": "markdown",
      "source": "Необходимо:\n- привести названия столбцов к нижнему регистру;\n- обработать пропуски (удалить или заполнить) в столбцах \"Name\", \"Year_of_Release\", \"Genre\", \"Critic_Score\", \"User_Score\", \"Rating\";\n- изменить тип данных в столбцах \"Year_of_Release\", \"Critic_Score\", \"User_Score\";\n- провести проверку на явные дубликаты;\n- добавить столбец с суммарными данными по всем регионам.",
      "metadata": {}
    },
    {
      "cell_type": "markdown",
      "source": "### Предобработка данных",
      "metadata": {}
    },
    {
      "cell_type": "markdown",
      "source": "#### Переименование столбцов\n\nПриведем названия столбцов к нижнему регистру.",
      "metadata": {}
    },
    {
      "cell_type": "code",
      "source": "data.columns = data.columns.str.lower()",
      "metadata": {},
      "execution_count": 9,
      "outputs": []
    },
    {
      "cell_type": "code",
      "source": "data.head() # проверим, что все столбцы переименовались",
      "metadata": {},
      "execution_count": 10,
      "outputs": [
        {
          "execution_count": 10,
          "output_type": "execute_result",
          "data": {
            "text/html": [
              "<div>\n",
              "<style scoped>\n",
              "    .dataframe tbody tr th:only-of-type {\n",
              "        vertical-align: middle;\n",
              "    }\n",
              "\n",
              "    .dataframe tbody tr th {\n",
              "        vertical-align: top;\n",
              "    }\n",
              "\n",
              "    .dataframe thead th {\n",
              "        text-align: right;\n",
              "    }\n",
              "</style>\n",
              "<table border=\"1\" class=\"dataframe\">\n",
              "  <thead>\n",
              "    <tr style=\"text-align: right;\">\n",
              "      <th></th>\n",
              "      <th>name</th>\n",
              "      <th>platform</th>\n",
              "      <th>year_of_release</th>\n",
              "      <th>genre</th>\n",
              "      <th>na_sales</th>\n",
              "      <th>eu_sales</th>\n",
              "      <th>jp_sales</th>\n",
              "      <th>other_sales</th>\n",
              "      <th>critic_score</th>\n",
              "      <th>user_score</th>\n",
              "      <th>rating</th>\n",
              "    </tr>\n",
              "  </thead>\n",
              "  <tbody>\n",
              "    <tr>\n",
              "      <th>0</th>\n",
              "      <td>Wii Sports</td>\n",
              "      <td>Wii</td>\n",
              "      <td>2006.0</td>\n",
              "      <td>Sports</td>\n",
              "      <td>41.36</td>\n",
              "      <td>28.96</td>\n",
              "      <td>3.77</td>\n",
              "      <td>8.45</td>\n",
              "      <td>76.0</td>\n",
              "      <td>8</td>\n",
              "      <td>E</td>\n",
              "    </tr>\n",
              "    <tr>\n",
              "      <th>1</th>\n",
              "      <td>Super Mario Bros.</td>\n",
              "      <td>NES</td>\n",
              "      <td>1985.0</td>\n",
              "      <td>Platform</td>\n",
              "      <td>29.08</td>\n",
              "      <td>3.58</td>\n",
              "      <td>6.81</td>\n",
              "      <td>0.77</td>\n",
              "      <td>NaN</td>\n",
              "      <td>NaN</td>\n",
              "      <td>NaN</td>\n",
              "    </tr>\n",
              "    <tr>\n",
              "      <th>2</th>\n",
              "      <td>Mario Kart Wii</td>\n",
              "      <td>Wii</td>\n",
              "      <td>2008.0</td>\n",
              "      <td>Racing</td>\n",
              "      <td>15.68</td>\n",
              "      <td>12.76</td>\n",
              "      <td>3.79</td>\n",
              "      <td>3.29</td>\n",
              "      <td>82.0</td>\n",
              "      <td>8.3</td>\n",
              "      <td>E</td>\n",
              "    </tr>\n",
              "    <tr>\n",
              "      <th>3</th>\n",
              "      <td>Wii Sports Resort</td>\n",
              "      <td>Wii</td>\n",
              "      <td>2009.0</td>\n",
              "      <td>Sports</td>\n",
              "      <td>15.61</td>\n",
              "      <td>10.93</td>\n",
              "      <td>3.28</td>\n",
              "      <td>2.95</td>\n",
              "      <td>80.0</td>\n",
              "      <td>8</td>\n",
              "      <td>E</td>\n",
              "    </tr>\n",
              "    <tr>\n",
              "      <th>4</th>\n",
              "      <td>Pokemon Red/Pokemon Blue</td>\n",
              "      <td>GB</td>\n",
              "      <td>1996.0</td>\n",
              "      <td>Role-Playing</td>\n",
              "      <td>11.27</td>\n",
              "      <td>8.89</td>\n",
              "      <td>10.22</td>\n",
              "      <td>1.00</td>\n",
              "      <td>NaN</td>\n",
              "      <td>NaN</td>\n",
              "      <td>NaN</td>\n",
              "    </tr>\n",
              "  </tbody>\n",
              "</table>\n",
              "</div>"
            ],
            "text/plain": [
              "                       name platform  year_of_release         genre  na_sales  \\\n",
              "0                Wii Sports      Wii           2006.0        Sports     41.36   \n",
              "1         Super Mario Bros.      NES           1985.0      Platform     29.08   \n",
              "2            Mario Kart Wii      Wii           2008.0        Racing     15.68   \n",
              "3         Wii Sports Resort      Wii           2009.0        Sports     15.61   \n",
              "4  Pokemon Red/Pokemon Blue       GB           1996.0  Role-Playing     11.27   \n",
              "\n",
              "   eu_sales  jp_sales  other_sales  critic_score user_score rating  \n",
              "0     28.96      3.77         8.45          76.0          8      E  \n",
              "1      3.58      6.81         0.77           NaN        NaN    NaN  \n",
              "2     12.76      3.79         3.29          82.0        8.3      E  \n",
              "3     10.93      3.28         2.95          80.0          8      E  \n",
              "4      8.89     10.22         1.00           NaN        NaN    NaN  "
            ]
          },
          "metadata": {}
        }
      ]
    },
    {
      "cell_type": "markdown",
      "source": "#### Обработка пропущенных значений\n\nУдалим строки с пропусками в столбцах \"name\" и \"genre\". В каждом из столбцов всего по 5 пропуска, удаление этих строк не является значительной потерей данных.",
      "metadata": {}
    },
    {
      "cell_type": "code",
      "source": "data = data.dropna(subset=['name', 'genre']).reset_index(drop=True)",
      "metadata": {},
      "execution_count": 11,
      "outputs": []
    },
    {
      "cell_type": "markdown",
      "source": "В столбце \"year_of_release\" пропущено 269 значений, что составляет ~2% от всего датафрейма, что дает возможность удалить строки с пропусками в этом столбце без значительной потери данных. К тому же, логично заполнить пропуски в данном столбце, кроме как вручную, не представляется возможным.",
      "metadata": {}
    },
    {
      "cell_type": "code",
      "source": "data = data.dropna(subset=['year_of_release']).reset_index(drop=True)",
      "metadata": {},
      "execution_count": 12,
      "outputs": []
    },
    {
      "cell_type": "markdown",
      "source": "В столбцах \"critic_score\", \"user_score\", \"rating\" пропущено более 40% значений - удалить строки с пропусками нельзя.\n\nПропуски в столбцах \"critic_score\" и \"user_score\" заменим значением по умолчанию '-1'.",
      "metadata": {}
    },
    {
      "cell_type": "code",
      "source": "data['critic_score'] = data['critic_score'].fillna(-1)\ndata['user_score'] = data['user_score'].fillna(-1)",
      "metadata": {},
      "execution_count": 13,
      "outputs": []
    },
    {
      "cell_type": "markdown",
      "source": "В столбце \"user_score\" также встречается значение 'tbd', что, согласно информации с сайта Metacritic, означает \"To be determined\" - \"Будет определено\". Сервис оставляет значение 'tbd' в тех случаях, когда отзывов пользователей слишком мало для выставления оценки. Будет логично также заменить эти значения на значение по умолчанию '-1', т.к. по сути 'tbd' означает отсутствие рейтинга и его можно приравнять к пропущенному значению.",
      "metadata": {}
    },
    {
      "cell_type": "code",
      "source": "data.loc[data['user_score'] == 'tbd', 'user_score'] = '-1'",
      "metadata": {},
      "execution_count": 14,
      "outputs": []
    },
    {
      "cell_type": "markdown",
      "source": "Пропуски в столбце \"rating\" можно заменить значением по умолчанию 'no rating'.",
      "metadata": {}
    },
    {
      "cell_type": "code",
      "source": "data['rating'] = data['rating'].fillna('no rating')",
      "metadata": {},
      "execution_count": 15,
      "outputs": []
    },
    {
      "cell_type": "markdown",
      "source": "Выведем на экран список уникальных значений столбца 'rating' и их количество.",
      "metadata": {}
    },
    {
      "cell_type": "code",
      "source": "data['rating'].value_counts(dropna=False)",
      "metadata": {},
      "execution_count": 16,
      "outputs": [
        {
          "execution_count": 16,
          "output_type": "execute_result",
          "data": {
            "text/plain": [
              "no rating    6676\n",
              "E            3921\n",
              "T            2905\n",
              "M            1536\n",
              "E10+         1393\n",
              "EC              8\n",
              "K-A             3\n",
              "AO              1\n",
              "RP              1\n",
              "Name: rating, dtype: int64"
            ]
          },
          "metadata": {}
        }
      ]
    },
    {
      "cell_type": "markdown",
      "source": "Рейтинг K-A ('Kids to Adult') - это первоначальное обозначение рейтинга E ('Everyone'), поэтому значение 'K-A' в столбце \"rating\" можно заменить на 'E'.\nОстальные значения рейтингов и относящиеся к ним группы можно удалить, т.к. не совсем правильно будет объединять их с другими, более многочисленными рейтингами, но и группа игр с этими рейтингами нерепрезентативна (в дальнейшем необходимо будет оценить влияние рейтинга ESRB на продажи по регионам).",
      "metadata": {}
    },
    {
      "cell_type": "code",
      "source": "data['rating'] = data['rating'].replace({'K-A':'E'})",
      "metadata": {},
      "execution_count": 17,
      "outputs": []
    },
    {
      "cell_type": "code",
      "source": "data = data.query('rating not in [\"EC\", \"RP\", \"AO\"]').reset_index(drop=True)",
      "metadata": {},
      "execution_count": 18,
      "outputs": []
    },
    {
      "cell_type": "markdown",
      "source": "#### Изменение типов данных",
      "metadata": {}
    },
    {
      "cell_type": "markdown",
      "source": "Необходимо изменить типы данных в столбцах:\n- year_of_release - на int, т.к. в столбце содержится год релиза игры (без дня и месяца), год может быть обозначен только целым числом, начальный тип данных - float;\n- critic_score - на int, т.к. оценки критиков являются целочисленными значениями по 100-балльной шкале, начальный тип данных - float;\n- user_score - на float, оценки пользователей являются дробными числами от 0 до 10, но из-за значения 'tbd' начальный тип данных в столбце - object.",
      "metadata": {}
    },
    {
      "cell_type": "code",
      "source": "data['year_of_release'] = data['year_of_release'].astype('int')\ndata['critic_score'] = data['critic_score'].astype('int')\ndata['user_score'] = data['user_score'].astype('float')",
      "metadata": {},
      "execution_count": 19,
      "outputs": []
    },
    {
      "cell_type": "markdown",
      "source": "#### Проверка на явные дубликаты",
      "metadata": {}
    },
    {
      "cell_type": "code",
      "source": "data.duplicated().sum()",
      "metadata": {},
      "execution_count": 20,
      "outputs": [
        {
          "execution_count": 20,
          "output_type": "execute_result",
          "data": {
            "text/plain": [
              "0"
            ]
          },
          "metadata": {}
        }
      ]
    },
    {
      "cell_type": "markdown",
      "source": "Явные дубликаты в датафрейме не обнаружены.",
      "metadata": {}
    },
    {
      "cell_type": "markdown",
      "source": "#### Добавление столбца\n\nДобавим в таблицу столбец \"total_sales\", в котором будет храниться общая сумма продаж по всем регионам.",
      "metadata": {}
    },
    {
      "cell_type": "code",
      "source": "data['total_sales'] = data[['na_sales','eu_sales','jp_sales', 'other_sales']].sum(axis = 1)",
      "metadata": {},
      "execution_count": 21,
      "outputs": []
    },
    {
      "cell_type": "code",
      "source": "data.head()",
      "metadata": {},
      "execution_count": 22,
      "outputs": [
        {
          "execution_count": 22,
          "output_type": "execute_result",
          "data": {
            "text/html": [
              "<div>\n",
              "<style scoped>\n",
              "    .dataframe tbody tr th:only-of-type {\n",
              "        vertical-align: middle;\n",
              "    }\n",
              "\n",
              "    .dataframe tbody tr th {\n",
              "        vertical-align: top;\n",
              "    }\n",
              "\n",
              "    .dataframe thead th {\n",
              "        text-align: right;\n",
              "    }\n",
              "</style>\n",
              "<table border=\"1\" class=\"dataframe\">\n",
              "  <thead>\n",
              "    <tr style=\"text-align: right;\">\n",
              "      <th></th>\n",
              "      <th>name</th>\n",
              "      <th>platform</th>\n",
              "      <th>year_of_release</th>\n",
              "      <th>genre</th>\n",
              "      <th>na_sales</th>\n",
              "      <th>eu_sales</th>\n",
              "      <th>jp_sales</th>\n",
              "      <th>other_sales</th>\n",
              "      <th>critic_score</th>\n",
              "      <th>user_score</th>\n",
              "      <th>rating</th>\n",
              "      <th>total_sales</th>\n",
              "    </tr>\n",
              "  </thead>\n",
              "  <tbody>\n",
              "    <tr>\n",
              "      <th>0</th>\n",
              "      <td>Wii Sports</td>\n",
              "      <td>Wii</td>\n",
              "      <td>2006</td>\n",
              "      <td>Sports</td>\n",
              "      <td>41.36</td>\n",
              "      <td>28.96</td>\n",
              "      <td>3.77</td>\n",
              "      <td>8.45</td>\n",
              "      <td>76</td>\n",
              "      <td>8.0</td>\n",
              "      <td>E</td>\n",
              "      <td>82.54</td>\n",
              "    </tr>\n",
              "    <tr>\n",
              "      <th>1</th>\n",
              "      <td>Super Mario Bros.</td>\n",
              "      <td>NES</td>\n",
              "      <td>1985</td>\n",
              "      <td>Platform</td>\n",
              "      <td>29.08</td>\n",
              "      <td>3.58</td>\n",
              "      <td>6.81</td>\n",
              "      <td>0.77</td>\n",
              "      <td>-1</td>\n",
              "      <td>-1.0</td>\n",
              "      <td>no rating</td>\n",
              "      <td>40.24</td>\n",
              "    </tr>\n",
              "    <tr>\n",
              "      <th>2</th>\n",
              "      <td>Mario Kart Wii</td>\n",
              "      <td>Wii</td>\n",
              "      <td>2008</td>\n",
              "      <td>Racing</td>\n",
              "      <td>15.68</td>\n",
              "      <td>12.76</td>\n",
              "      <td>3.79</td>\n",
              "      <td>3.29</td>\n",
              "      <td>82</td>\n",
              "      <td>8.3</td>\n",
              "      <td>E</td>\n",
              "      <td>35.52</td>\n",
              "    </tr>\n",
              "    <tr>\n",
              "      <th>3</th>\n",
              "      <td>Wii Sports Resort</td>\n",
              "      <td>Wii</td>\n",
              "      <td>2009</td>\n",
              "      <td>Sports</td>\n",
              "      <td>15.61</td>\n",
              "      <td>10.93</td>\n",
              "      <td>3.28</td>\n",
              "      <td>2.95</td>\n",
              "      <td>80</td>\n",
              "      <td>8.0</td>\n",
              "      <td>E</td>\n",
              "      <td>32.77</td>\n",
              "    </tr>\n",
              "    <tr>\n",
              "      <th>4</th>\n",
              "      <td>Pokemon Red/Pokemon Blue</td>\n",
              "      <td>GB</td>\n",
              "      <td>1996</td>\n",
              "      <td>Role-Playing</td>\n",
              "      <td>11.27</td>\n",
              "      <td>8.89</td>\n",
              "      <td>10.22</td>\n",
              "      <td>1.00</td>\n",
              "      <td>-1</td>\n",
              "      <td>-1.0</td>\n",
              "      <td>no rating</td>\n",
              "      <td>31.38</td>\n",
              "    </tr>\n",
              "  </tbody>\n",
              "</table>\n",
              "</div>"
            ],
            "text/plain": [
              "                       name platform  year_of_release         genre  na_sales  \\\n",
              "0                Wii Sports      Wii             2006        Sports     41.36   \n",
              "1         Super Mario Bros.      NES             1985      Platform     29.08   \n",
              "2            Mario Kart Wii      Wii             2008        Racing     15.68   \n",
              "3         Wii Sports Resort      Wii             2009        Sports     15.61   \n",
              "4  Pokemon Red/Pokemon Blue       GB             1996  Role-Playing     11.27   \n",
              "\n",
              "   eu_sales  jp_sales  other_sales  critic_score  user_score     rating  \\\n",
              "0     28.96      3.77         8.45            76         8.0          E   \n",
              "1      3.58      6.81         0.77            -1        -1.0  no rating   \n",
              "2     12.76      3.79         3.29            82         8.3          E   \n",
              "3     10.93      3.28         2.95            80         8.0          E   \n",
              "4      8.89     10.22         1.00            -1        -1.0  no rating   \n",
              "\n",
              "   total_sales  \n",
              "0        82.54  \n",
              "1        40.24  \n",
              "2        35.52  \n",
              "3        32.77  \n",
              "4        31.38  "
            ]
          },
          "metadata": {}
        }
      ]
    },
    {
      "cell_type": "markdown",
      "source": "#### Результаты предобработки",
      "metadata": {}
    },
    {
      "cell_type": "code",
      "source": "data.info() # проверим изменение типов данных и добавление столбца",
      "metadata": {},
      "execution_count": 23,
      "outputs": [
        {
          "name": "stdout",
          "output_type": "stream",
          "text": "<class 'pandas.core.frame.DataFrame'>\n\nRangeIndex: 16434 entries, 0 to 16433\n\nData columns (total 12 columns):\n\n #   Column           Non-Null Count  Dtype  \n\n---  ------           --------------  -----  \n\n 0   name             16434 non-null  object \n\n 1   platform         16434 non-null  object \n\n 2   year_of_release  16434 non-null  int64  \n\n 3   genre            16434 non-null  object \n\n 4   na_sales         16434 non-null  float64\n\n 5   eu_sales         16434 non-null  float64\n\n 6   jp_sales         16434 non-null  float64\n\n 7   other_sales      16434 non-null  float64\n\n 8   critic_score     16434 non-null  int64  \n\n 9   user_score       16434 non-null  float64\n\n 10  rating           16434 non-null  object \n\n 11  total_sales      16434 non-null  float64\n\ndtypes: float64(6), int64(2), object(4)\n\nmemory usage: 1.5+ MB\n"
        }
      ]
    },
    {
      "cell_type": "code",
      "source": "data.isna().sum() # проверим результат заполнения пропусков",
      "metadata": {},
      "execution_count": 24,
      "outputs": [
        {
          "execution_count": 24,
          "output_type": "execute_result",
          "data": {
            "text/plain": [
              "name               0\n",
              "platform           0\n",
              "year_of_release    0\n",
              "genre              0\n",
              "na_sales           0\n",
              "eu_sales           0\n",
              "jp_sales           0\n",
              "other_sales        0\n",
              "critic_score       0\n",
              "user_score         0\n",
              "rating             0\n",
              "total_sales        0\n",
              "dtype: int64"
            ]
          },
          "metadata": {}
        }
      ]
    },
    {
      "cell_type": "code",
      "source": "data.describe() # числовое описание датафрейма",
      "metadata": {},
      "execution_count": 25,
      "outputs": [
        {
          "execution_count": 25,
          "output_type": "execute_result",
          "data": {
            "text/html": [
              "<div>\n",
              "<style scoped>\n",
              "    .dataframe tbody tr th:only-of-type {\n",
              "        vertical-align: middle;\n",
              "    }\n",
              "\n",
              "    .dataframe tbody tr th {\n",
              "        vertical-align: top;\n",
              "    }\n",
              "\n",
              "    .dataframe thead th {\n",
              "        text-align: right;\n",
              "    }\n",
              "</style>\n",
              "<table border=\"1\" class=\"dataframe\">\n",
              "  <thead>\n",
              "    <tr style=\"text-align: right;\">\n",
              "      <th></th>\n",
              "      <th>year_of_release</th>\n",
              "      <th>na_sales</th>\n",
              "      <th>eu_sales</th>\n",
              "      <th>jp_sales</th>\n",
              "      <th>other_sales</th>\n",
              "      <th>critic_score</th>\n",
              "      <th>user_score</th>\n",
              "      <th>total_sales</th>\n",
              "    </tr>\n",
              "  </thead>\n",
              "  <tbody>\n",
              "    <tr>\n",
              "      <th>count</th>\n",
              "      <td>16434.000000</td>\n",
              "      <td>16434.000000</td>\n",
              "      <td>16434.000000</td>\n",
              "      <td>16434.000000</td>\n",
              "      <td>16434.00000</td>\n",
              "      <td>16434.000000</td>\n",
              "      <td>16434.000000</td>\n",
              "      <td>16434.000000</td>\n",
              "    </tr>\n",
              "    <tr>\n",
              "      <th>mean</th>\n",
              "      <td>2006.484970</td>\n",
              "      <td>0.264003</td>\n",
              "      <td>0.145974</td>\n",
              "      <td>0.078535</td>\n",
              "      <td>0.04761</td>\n",
              "      <td>32.990933</td>\n",
              "      <td>2.688779</td>\n",
              "      <td>0.536121</td>\n",
              "    </tr>\n",
              "    <tr>\n",
              "      <th>std</th>\n",
              "      <td>5.876779</td>\n",
              "      <td>0.818581</td>\n",
              "      <td>0.506848</td>\n",
              "      <td>0.311189</td>\n",
              "      <td>0.18806</td>\n",
              "      <td>36.302474</td>\n",
              "      <td>4.170184</td>\n",
              "      <td>1.559197</td>\n",
              "    </tr>\n",
              "    <tr>\n",
              "      <th>min</th>\n",
              "      <td>1980.000000</td>\n",
              "      <td>0.000000</td>\n",
              "      <td>0.000000</td>\n",
              "      <td>0.000000</td>\n",
              "      <td>0.00000</td>\n",
              "      <td>-1.000000</td>\n",
              "      <td>-1.000000</td>\n",
              "      <td>0.000000</td>\n",
              "    </tr>\n",
              "    <tr>\n",
              "      <th>25%</th>\n",
              "      <td>2003.000000</td>\n",
              "      <td>0.000000</td>\n",
              "      <td>0.000000</td>\n",
              "      <td>0.000000</td>\n",
              "      <td>0.00000</td>\n",
              "      <td>-1.000000</td>\n",
              "      <td>-1.000000</td>\n",
              "      <td>0.060000</td>\n",
              "    </tr>\n",
              "    <tr>\n",
              "      <th>50%</th>\n",
              "      <td>2007.000000</td>\n",
              "      <td>0.080000</td>\n",
              "      <td>0.020000</td>\n",
              "      <td>0.000000</td>\n",
              "      <td>0.01000</td>\n",
              "      <td>-1.000000</td>\n",
              "      <td>-1.000000</td>\n",
              "      <td>0.170000</td>\n",
              "    </tr>\n",
              "    <tr>\n",
              "      <th>75%</th>\n",
              "      <td>2010.000000</td>\n",
              "      <td>0.240000</td>\n",
              "      <td>0.110000</td>\n",
              "      <td>0.040000</td>\n",
              "      <td>0.03000</td>\n",
              "      <td>70.000000</td>\n",
              "      <td>7.300000</td>\n",
              "      <td>0.470000</td>\n",
              "    </tr>\n",
              "    <tr>\n",
              "      <th>max</th>\n",
              "      <td>2016.000000</td>\n",
              "      <td>41.360000</td>\n",
              "      <td>28.960000</td>\n",
              "      <td>10.220000</td>\n",
              "      <td>10.57000</td>\n",
              "      <td>98.000000</td>\n",
              "      <td>9.700000</td>\n",
              "      <td>82.540000</td>\n",
              "    </tr>\n",
              "  </tbody>\n",
              "</table>\n",
              "</div>"
            ],
            "text/plain": [
              "       year_of_release      na_sales      eu_sales      jp_sales  other_sales  \\\n",
              "count     16434.000000  16434.000000  16434.000000  16434.000000  16434.00000   \n",
              "mean       2006.484970      0.264003      0.145974      0.078535      0.04761   \n",
              "std           5.876779      0.818581      0.506848      0.311189      0.18806   \n",
              "min        1980.000000      0.000000      0.000000      0.000000      0.00000   \n",
              "25%        2003.000000      0.000000      0.000000      0.000000      0.00000   \n",
              "50%        2007.000000      0.080000      0.020000      0.000000      0.01000   \n",
              "75%        2010.000000      0.240000      0.110000      0.040000      0.03000   \n",
              "max        2016.000000     41.360000     28.960000     10.220000     10.57000   \n",
              "\n",
              "       critic_score    user_score   total_sales  \n",
              "count  16434.000000  16434.000000  16434.000000  \n",
              "mean      32.990933      2.688779      0.536121  \n",
              "std       36.302474      4.170184      1.559197  \n",
              "min       -1.000000     -1.000000      0.000000  \n",
              "25%       -1.000000     -1.000000      0.060000  \n",
              "50%       -1.000000     -1.000000      0.170000  \n",
              "75%       70.000000      7.300000      0.470000  \n",
              "max       98.000000      9.700000     82.540000  "
            ]
          },
          "metadata": {}
        }
      ]
    },
    {
      "cell_type": "code",
      "source": "data.describe(include='object') # построковое описание датафрейма",
      "metadata": {},
      "execution_count": 26,
      "outputs": [
        {
          "execution_count": 26,
          "output_type": "execute_result",
          "data": {
            "text/html": [
              "<div>\n",
              "<style scoped>\n",
              "    .dataframe tbody tr th:only-of-type {\n",
              "        vertical-align: middle;\n",
              "    }\n",
              "\n",
              "    .dataframe tbody tr th {\n",
              "        vertical-align: top;\n",
              "    }\n",
              "\n",
              "    .dataframe thead th {\n",
              "        text-align: right;\n",
              "    }\n",
              "</style>\n",
              "<table border=\"1\" class=\"dataframe\">\n",
              "  <thead>\n",
              "    <tr style=\"text-align: right;\">\n",
              "      <th></th>\n",
              "      <th>name</th>\n",
              "      <th>platform</th>\n",
              "      <th>genre</th>\n",
              "      <th>rating</th>\n",
              "    </tr>\n",
              "  </thead>\n",
              "  <tbody>\n",
              "    <tr>\n",
              "      <th>count</th>\n",
              "      <td>16434</td>\n",
              "      <td>16434</td>\n",
              "      <td>16434</td>\n",
              "      <td>16434</td>\n",
              "    </tr>\n",
              "    <tr>\n",
              "      <th>unique</th>\n",
              "      <td>11422</td>\n",
              "      <td>31</td>\n",
              "      <td>12</td>\n",
              "      <td>5</td>\n",
              "    </tr>\n",
              "    <tr>\n",
              "      <th>top</th>\n",
              "      <td>Need for Speed: Most Wanted</td>\n",
              "      <td>PS2</td>\n",
              "      <td>Action</td>\n",
              "      <td>no rating</td>\n",
              "    </tr>\n",
              "    <tr>\n",
              "      <th>freq</th>\n",
              "      <td>12</td>\n",
              "      <td>2126</td>\n",
              "      <td>3305</td>\n",
              "      <td>6676</td>\n",
              "    </tr>\n",
              "  </tbody>\n",
              "</table>\n",
              "</div>"
            ],
            "text/plain": [
              "                               name platform   genre     rating\n",
              "count                         16434    16434   16434      16434\n",
              "unique                        11422       31      12          5\n",
              "top     Need for Speed: Most Wanted      PS2  Action  no rating\n",
              "freq                             12     2126    3305       6676"
            ]
          },
          "metadata": {}
        }
      ]
    },
    {
      "cell_type": "code",
      "source": "data.hist(bins=15, figsize=(15, 20), color='#7B68EE', edgecolor='black');",
      "metadata": {},
      "execution_count": 27,
      "outputs": [
        {
          "output_type": "display_data",
          "data": {
            "image/png": "[encoded data removed]",
            "text/plain": [
              "<Figure size 1080x1440 with 9 Axes>"
            ]
          },
          "metadata": {
            "needs_background": "light"
          }
        }
      ]
    },
    {
      "cell_type": "markdown",
      "source": "__Вывод__\n\nВ результате предобработки данных мной была удалена 281 строка, что составляет менее 2 процентов от общего объема исходного датафрейма (16715 строк). Количество оставшихся в таблице объектов - 16434.\n\nБыли удалены строки с пропусками в столбцах \"name\", \"genre\", \"year_of_release\", а также были удалены игры, относящиеся в малочисленным рейтинговым подгруппам (EC, RP, AO). Пропуски в столбцах \"critic_score\", \"user_score\", \"rating\" были заменены значениями по умолчанию, т.к. доля пропущенных значений от общего количества значений составила более 40% в каждом столбце. Удаление этих пропусков привело бы к потере значительной доли данных и сильно затруднило бы дальнейший анализ.",
      "metadata": {}
    },
    {
      "cell_type": "markdown",
      "source": "### Исследовательский анализ данных\n\nНа данном этапе необходимо:\n1. Оценить выпуск игр по годам;\n2. Оценить продажи по платформам;\n3. Выбрать актуальный период;\n4. Отобрать потенциально прибыльные платформы;\n5. Изучить влияние отзывов на продажи внутри одной платформы;\n6. Определить самые продаваемые жанры.",
      "metadata": {}
    },
    {
      "cell_type": "markdown",
      "source": "#### Выпуск игр в разные года\n\nДля оценки объемов выпуска игр в разные года построим график.",
      "metadata": {}
    },
    {
      "cell_type": "code",
      "source": "data.pivot_table(index='year_of_release', values='name', aggfunc='count')\\\n    .plot(kind='bar', color='#2E8B57', figsize=(16, 8), legend=None)\nplt.title('Выпуск игр по годам')\nplt.ylabel('Количество выпущенных игр')\nplt.xlabel('Год выпуска')\nplt.show()",
      "metadata": {},
      "execution_count": 28,
      "outputs": [
        {
          "output_type": "display_data",
          "data": {
            "image/png": "[encoded data removed]",
            "text/plain": [
              "<Figure size 1152x576 with 1 Axes>"
            ]
          },
          "metadata": {
            "needs_background": "light"
          }
        }
      ]
    },
    {
      "cell_type": "markdown",
      "source": "По графику видно, что индустрия видеоигр начала набирать обороты с середины 90-х годов 20 века. Пиковое значение приходится на 2008-2009 годы - суммарно более 2800 видеоигр для различных платформ было выпущено в эти годы. Спад производства видеоигр, пришедший на смену резкому росту, может быть последствием глобального финансового кризиса конца нулевых годов.",
      "metadata": {}
    },
    {
      "cell_type": "markdown",
      "source": "#### Продажи игр по платформам",
      "metadata": {}
    },
    {
      "cell_type": "code",
      "source": "top_platforms = data.pivot_table(index='platform', values='total_sales', aggfunc='sum')\\\n.sort_values(by='total_sales', ascending=False)\ntop_platforms.plot(kind='bar', color='#9ACD32', figsize=(16, 8), legend=None)\nplt.title('Продажи игр по платформам')\nplt.ylabel('Продано копий, млн')\nplt.xlabel('Платформа')\nplt.show()",
      "metadata": {},
      "execution_count": 28,
      "outputs": [
        {
          "output_type": "display_data",
          "data": {
            "image/png": "[encoded data removed]",
            "text/plain": [
              "<Figure size 1152x576 with 1 Axes>"
            ]
          },
          "metadata": {
            "needs_background": "light"
          }
        }
      ]
    },
    {
      "cell_type": "markdown",
      "source": "Больше всего игр (более 1.2 млрд копий) было продано для платформы PlayStation 2. С большим отставанием, но все же в топ также входят: Xbox 360, PlayStation 3, Wii и DS от Nintento. \n\nX360, PS3, Wii и DS относятся к одному временному промежутку - все они вышли в 2004-2006 годах. PS2 была выпущена несколько раньше - в 2000 году.",
      "metadata": {}
    },
    {
      "cell_type": "markdown",
      "source": "Рассмотрим распределение продаж по годам внутри каждой из топ-5 платформ.",
      "metadata": {}
    },
    {
      "cell_type": "code",
      "source": "for platform in (top_platforms.head(5).reset_index())['platform'].unique():\n    data[data['platform'] == platform].pivot_table(index='year_of_release', values='total_sales', aggfunc='sum')\\\n    .plot(kind='bar', figsize=(20,5), color='c', legend=None)\n\n    plt.title(platform)\n    plt.xlabel('Год')\n    plt.ylabel('Продано копий, млн')\n    plt.show()",
      "metadata": {},
      "execution_count": 29,
      "outputs": [
        {
          "output_type": "display_data",
          "data": {
            "image/png": "[encoded data removed]",
            "text/plain": [
              "<Figure size 1440x360 with 1 Axes>"
            ]
          },
          "metadata": {
            "needs_background": "light"
          }
        },
        {
          "output_type": "display_data",
          "data": {
            "image/png": "[encoded data removed]",
            "text/plain": [
              "<Figure size 1440x360 with 1 Axes>"
            ]
          },
          "metadata": {
            "needs_background": "light"
          }
        },
        {
          "output_type": "display_data",
          "data": {
            "image/png": "[encoded data removed]",
            "text/plain": [
              "<Figure size 1440x360 with 1 Axes>"
            ]
          },
          "metadata": {
            "needs_background": "light"
          }
        },
        {
          "output_type": "display_data",
          "data": {
            "image/png": "[encoded data removed]",
            "text/plain": [
              "<Figure size 1440x360 with 1 Axes>"
            ]
          },
          "metadata": {
            "needs_background": "light"
          }
        },
        {
          "output_type": "display_data",
          "data": {
            "image/png": "[encoded data removed]",
            "text/plain": [
              "<Figure size 1440x360 with 1 Axes>"
            ]
          },
          "metadata": {
            "needs_background": "light"
          }
        }
      ]
    },
    {
      "cell_type": "markdown",
      "source": "На графике продаж игр для консоли Nintendo DS наблюдается выброс - продажа игр в 1985 году при выходе консоли в 2004 году. Необходимо удалить данный выброс и построить новый график.",
      "metadata": {}
    },
    {
      "cell_type": "code",
      "source": "data.query('platform == \"DS\" & year_of_release < 2004').index # найдем индекс интересующей нас строки",
      "metadata": {},
      "execution_count": 30,
      "outputs": [
        {
          "execution_count": 30,
          "output_type": "execute_result",
          "data": {
            "text/plain": [
              "Int64Index([15694], dtype='int64')"
            ]
          },
          "metadata": {}
        }
      ]
    },
    {
      "cell_type": "code",
      "source": "data = data.drop([15694]).reset_index(drop=True)",
      "metadata": {},
      "execution_count": 31,
      "outputs": []
    },
    {
      "cell_type": "code",
      "source": "data[data['platform'] == 'DS'].pivot_table(index='year_of_release', values='total_sales', aggfunc='sum')\\\n.plot(kind='bar', figsize=(20,5), color='c', legend=None)\nplt.title(platform)\nplt.xlabel('Год')\nplt.ylabel('Продано копий, млн')\nplt.show()",
      "metadata": {},
      "execution_count": 32,
      "outputs": [
        {
          "output_type": "display_data",
          "data": {
            "image/png": "[encoded data removed]",
            "text/plain": [
              "<Figure size 1440x360 with 1 Axes>"
            ]
          },
          "metadata": {
            "needs_background": "light"
          }
        }
      ]
    },
    {
      "cell_type": "markdown",
      "source": "Из всех пяти графиков видно, что игры для платформ продаются в течение 10-12 лет с момента выхода платформы, но наиболее популярными они остаются лишь в течение 5 лет. На основе этого можно выделить __актуальный период__, подходящий для данного исследования - _с 2013 года_. По моему мнению, данные с 2013 по 2016 годы помогут построить прогноз для 2017 года наиболее точно.",
      "metadata": {}
    },
    {
      "cell_type": "code",
      "source": "actual_data = data.query('year_of_release >= 2013') # создаем новый датафрейм с данными за актуальный период",
      "metadata": {},
      "execution_count": 33,
      "outputs": []
    },
    {
      "cell_type": "markdown",
      "source": "Построим график глобальных продаж по платформам в актуальном периоде, чтобы выделить самые прибыльные.",
      "metadata": {}
    },
    {
      "cell_type": "code",
      "source": "actual_top = actual_data.pivot_table(index='platform', values='total_sales', aggfunc='sum')\\\n.sort_values(by='total_sales', ascending=False)\nactual_top.plot(kind='bar', color='#BA55D3', figsize=(16, 8), legend=None)\nplt.title('Глобальные продажи игр по платформам с 2013 по 2016 годы')\nplt.ylabel('Продано копий, млн')\nplt.xlabel('Платформа')\nplt.show()",
      "metadata": {},
      "execution_count": 34,
      "outputs": [
        {
          "output_type": "display_data",
          "data": {
            "image/png": "[encoded data removed]",
            "text/plain": [
              "<Figure size 1152x576 with 1 Axes>"
            ]
          },
          "metadata": {
            "needs_background": "light"
          }
        }
      ]
    },
    {
      "cell_type": "markdown",
      "source": "В 2013-2016 годах лидером по продажам игр является PlayStation 4. В топ-5 входят также: PlayStation 3, Xbox One, Nintendo 3DS и Xbox 360.\n\nПосмотрим распределение продаж внутри каждой платформы.",
      "metadata": {}
    },
    {
      "cell_type": "code",
      "source": "for platform in (actual_top.head(5).reset_index())['platform'].unique():\n    actual_data[actual_data['platform'] == platform].pivot_table(index='year_of_release', values='total_sales', aggfunc='sum')\\\n    .plot(kind='bar', figsize=(20,5), color='m', legend=None)\n\n    plt.title(platform)\n    plt.xlabel('Год')\n    plt.ylabel('Продано копий, млн')\n    plt.show()",
      "metadata": {},
      "execution_count": 35,
      "outputs": [
        {
          "output_type": "display_data",
          "data": {
            "image/png": "[encoded data removed]",
            "text/plain": [
              "<Figure size 1440x360 with 1 Axes>"
            ]
          },
          "metadata": {
            "needs_background": "light"
          }
        },
        {
          "output_type": "display_data",
          "data": {
            "image/png": "[encoded data removed]",
            "text/plain": [
              "<Figure size 1440x360 with 1 Axes>"
            ]
          },
          "metadata": {
            "needs_background": "light"
          }
        },
        {
          "output_type": "display_data",
          "data": {
            "image/png": "[encoded data removed]",
            "text/plain": [
              "<Figure size 1440x360 with 1 Axes>"
            ]
          },
          "metadata": {
            "needs_background": "light"
          }
        },
        {
          "output_type": "display_data",
          "data": {
            "image/png": "[encoded data removed]",
            "text/plain": [
              "<Figure size 1440x360 with 1 Axes>"
            ]
          },
          "metadata": {
            "needs_background": "light"
          }
        },
        {
          "output_type": "display_data",
          "data": {
            "image/png": "[encoded data removed]",
            "text/plain": [
              "<Figure size 1440x360 with 1 Axes>"
            ]
          },
          "metadata": {
            "needs_background": "light"
          }
        }
      ]
    },
    {
      "cell_type": "markdown",
      "source": "Судя по распределению продаж внутри платформ в актуальном периоде, количество игр, проданных для платформ Xbox 360, Nintendo 3DS и PlayStation 3, с каждым годом все сильнее снижается, поэтому данные платформы не стоит рассматривать как потенциально прибыльные в 2017 году. \n\nЕсли принять во внимание тенденцию, выявленную на прошлом шаге анализа (платформы находятся на пике популярности в течение 5 лет), то можно предположить, что в 2017 году платформы PS4 и XOne останутся наиболее прибыльными среди остальных.",
      "metadata": {}
    },
    {
      "cell_type": "markdown",
      "source": "Построим диаграмму размаха для продаж по всем платформам внутри актуального периода.",
      "metadata": {}
    },
    {
      "cell_type": "code",
      "source": "sns.catplot(x='platform', y='total_sales', kind='box', data=actual_data, orient='v', height=6, aspect=2, palette='viridis')\nplt.title('Продажи по платформам')\nplt.ylabel('Общие продажи')\nplt.xlabel('Платформа')\nplot = plt.ylim(0, 1)",
      "metadata": {},
      "execution_count": 36,
      "outputs": [
        {
          "output_type": "display_data",
          "data": {
            "image/png": "[encoded data removed]",
            "text/plain": [
              "<Figure size 864x432 with 1 Axes>"
            ]
          },
          "metadata": {
            "needs_background": "light"
          }
        }
      ]
    },
    {
      "cell_type": "code",
      "source": "sns.catplot(x='platform', y='total_sales', kind='box', data=actual_data, orient='v', height=6, aspect=2, palette='viridis')\nplt.title('Продажи по платформам')\nplt.ylabel('Общие продажи')\nplt.xlabel('Платформа')\nplot = plt.ylim(0, 3)",
      "metadata": {},
      "execution_count": 37,
      "outputs": [
        {
          "output_type": "display_data",
          "data": {
            "image/png": "[encoded data removed]",
            "text/plain": [
              "<Figure size 864x432 with 1 Axes>"
            ]
          },
          "metadata": {
            "needs_background": "light"
          }
        }
      ]
    },
    {
      "cell_type": "markdown",
      "source": "Глядя на диаграмму, можно сделать вывод, что на платформах выходит большое количество игр с не очень высокими продажами, за счет чего растут общие продажи внутри платформы.",
      "metadata": {}
    },
    {
      "cell_type": "markdown",
      "source": "#### Влияние отзывов на продажи\n\nОпределим влияние отзывов критиков и покупателей на продажи игр внутри самой популярной платформы актуального периода - PlayStation 4.\nДля этого построим диаграммы рассеяния и посчитаем коэффициент корреляции Пирсона.",
      "metadata": {}
    },
    {
      "cell_type": "code",
      "source": "ps4 = actual_data.query('platform == \"PS4\"').query('critic_score != -1 & user_score != -1')\n\nps4.plot(x='critic_score', y='total_sales', kind='scatter', grid=True, color='#E9967A', alpha=0.5, figsize=(8, 5))\nplt.title('PS4')\nplt.ylabel('Продано копий, млн')\nplt.xlabel('Оценка критиков')\nplt.show()\n\nprint('Коэффициент корреляции:', ps4['total_sales'].corr(ps4['critic_score']))",
      "metadata": {},
      "execution_count": 38,
      "outputs": [
        {
          "output_type": "display_data",
          "data": {
            "image/png": "[encoded data removed]",
            "text/plain": [
              "<Figure size 576x360 with 1 Axes>"
            ]
          },
          "metadata": {
            "needs_background": "light"
          }
        },
        {
          "name": "stdout",
          "output_type": "stream",
          "text": "Коэффициент корреляции: 0.40589480145836687\n"
        }
      ]
    },
    {
      "cell_type": "markdown",
      "source": "Корреляционная связь между продажами и оценками критиков - прямая средняя. ",
      "metadata": {}
    },
    {
      "cell_type": "code",
      "source": "ps4.plot(x='user_score', y='total_sales', kind='scatter', grid=True, color='#E9967A', alpha=0.5, figsize=(8, 5))\nplt.title('PS4')\nplt.ylabel('Продано копий, млн')\nplt.xlabel('Оценка пользователей')\nplt.show()\n\nprint('Коэффициент корреляции:', ps4['total_sales'].corr(ps4['user_score'])) ",
      "metadata": {},
      "execution_count": 39,
      "outputs": [
        {
          "output_type": "display_data",
          "data": {
            "image/png": "[encoded data removed]",
            "text/plain": [
              "<Figure size 576x360 with 1 Axes>"
            ]
          },
          "metadata": {
            "needs_background": "light"
          }
        },
        {
          "name": "stdout",
          "output_type": "stream",
          "text": "Коэффициент корреляции: -0.03362497596528878\n"
        }
      ]
    },
    {
      "cell_type": "markdown",
      "source": "Корреляционная связь между продажами и оценками критиков отсутствует.",
      "metadata": {}
    },
    {
      "cell_type": "code",
      "source": "actual_data.head()",
      "metadata": {},
      "execution_count": 40,
      "outputs": [
        {
          "execution_count": 40,
          "output_type": "execute_result",
          "data": {
            "text/html": [
              "<div>\n",
              "<style scoped>\n",
              "    .dataframe tbody tr th:only-of-type {\n",
              "        vertical-align: middle;\n",
              "    }\n",
              "\n",
              "    .dataframe tbody tr th {\n",
              "        vertical-align: top;\n",
              "    }\n",
              "\n",
              "    .dataframe thead th {\n",
              "        text-align: right;\n",
              "    }\n",
              "</style>\n",
              "<table border=\"1\" class=\"dataframe\">\n",
              "  <thead>\n",
              "    <tr style=\"text-align: right;\">\n",
              "      <th></th>\n",
              "      <th>name</th>\n",
              "      <th>platform</th>\n",
              "      <th>year_of_release</th>\n",
              "      <th>genre</th>\n",
              "      <th>na_sales</th>\n",
              "      <th>eu_sales</th>\n",
              "      <th>jp_sales</th>\n",
              "      <th>other_sales</th>\n",
              "      <th>critic_score</th>\n",
              "      <th>user_score</th>\n",
              "      <th>rating</th>\n",
              "      <th>total_sales</th>\n",
              "    </tr>\n",
              "  </thead>\n",
              "  <tbody>\n",
              "    <tr>\n",
              "      <th>16</th>\n",
              "      <td>Grand Theft Auto V</td>\n",
              "      <td>PS3</td>\n",
              "      <td>2013</td>\n",
              "      <td>Action</td>\n",
              "      <td>7.02</td>\n",
              "      <td>9.09</td>\n",
              "      <td>0.98</td>\n",
              "      <td>3.96</td>\n",
              "      <td>97</td>\n",
              "      <td>8.2</td>\n",
              "      <td>M</td>\n",
              "      <td>21.05</td>\n",
              "    </tr>\n",
              "    <tr>\n",
              "      <th>23</th>\n",
              "      <td>Grand Theft Auto V</td>\n",
              "      <td>X360</td>\n",
              "      <td>2013</td>\n",
              "      <td>Action</td>\n",
              "      <td>9.66</td>\n",
              "      <td>5.14</td>\n",
              "      <td>0.06</td>\n",
              "      <td>1.41</td>\n",
              "      <td>97</td>\n",
              "      <td>8.1</td>\n",
              "      <td>M</td>\n",
              "      <td>16.27</td>\n",
              "    </tr>\n",
              "    <tr>\n",
              "      <th>31</th>\n",
              "      <td>Call of Duty: Black Ops 3</td>\n",
              "      <td>PS4</td>\n",
              "      <td>2015</td>\n",
              "      <td>Shooter</td>\n",
              "      <td>6.03</td>\n",
              "      <td>5.86</td>\n",
              "      <td>0.36</td>\n",
              "      <td>2.38</td>\n",
              "      <td>-1</td>\n",
              "      <td>-1.0</td>\n",
              "      <td>no rating</td>\n",
              "      <td>14.63</td>\n",
              "    </tr>\n",
              "    <tr>\n",
              "      <th>33</th>\n",
              "      <td>Pokemon X/Pokemon Y</td>\n",
              "      <td>3DS</td>\n",
              "      <td>2013</td>\n",
              "      <td>Role-Playing</td>\n",
              "      <td>5.28</td>\n",
              "      <td>4.19</td>\n",
              "      <td>4.35</td>\n",
              "      <td>0.78</td>\n",
              "      <td>-1</td>\n",
              "      <td>-1.0</td>\n",
              "      <td>no rating</td>\n",
              "      <td>14.60</td>\n",
              "    </tr>\n",
              "    <tr>\n",
              "      <th>42</th>\n",
              "      <td>Grand Theft Auto V</td>\n",
              "      <td>PS4</td>\n",
              "      <td>2014</td>\n",
              "      <td>Action</td>\n",
              "      <td>3.96</td>\n",
              "      <td>6.31</td>\n",
              "      <td>0.38</td>\n",
              "      <td>1.97</td>\n",
              "      <td>97</td>\n",
              "      <td>8.3</td>\n",
              "      <td>M</td>\n",
              "      <td>12.62</td>\n",
              "    </tr>\n",
              "  </tbody>\n",
              "</table>\n",
              "</div>"
            ],
            "text/plain": [
              "                         name platform  year_of_release         genre  \\\n",
              "16         Grand Theft Auto V      PS3             2013        Action   \n",
              "23         Grand Theft Auto V     X360             2013        Action   \n",
              "31  Call of Duty: Black Ops 3      PS4             2015       Shooter   \n",
              "33        Pokemon X/Pokemon Y      3DS             2013  Role-Playing   \n",
              "42         Grand Theft Auto V      PS4             2014        Action   \n",
              "\n",
              "    na_sales  eu_sales  jp_sales  other_sales  critic_score  user_score  \\\n",
              "16      7.02      9.09      0.98         3.96            97         8.2   \n",
              "23      9.66      5.14      0.06         1.41            97         8.1   \n",
              "31      6.03      5.86      0.36         2.38            -1        -1.0   \n",
              "33      5.28      4.19      4.35         0.78            -1        -1.0   \n",
              "42      3.96      6.31      0.38         1.97            97         8.3   \n",
              "\n",
              "       rating  total_sales  \n",
              "16          M        21.05  \n",
              "23          M        16.27  \n",
              "31  no rating        14.63  \n",
              "33  no rating        14.60  \n",
              "42          M        12.62  "
            ]
          },
          "metadata": {}
        }
      ]
    },
    {
      "cell_type": "code",
      "source": "platform = ['PS3', 'X360', 'XOne', '3DS']",
      "metadata": {},
      "execution_count": 41,
      "outputs": []
    },
    {
      "cell_type": "code",
      "source": "for platform in ['PS3', 'X360', 'XOne', '3DS']:\n    print('\\n{0}:'.format(platform))\n    for column in ['user_score', 'critic_score']:\n        temp = actual_data.query('platform == @platform and user_score >= 0 and critic_score >= 0')\n        sns.relplot(x=column, y='total_sales', data=temp, color='#E9967A', alpha=0.5)\n        plt.title(platform)\n        plt.show()\n        print('Коэффициент корреляции {0} и total_sales: {1}'.format(column, (temp[column]).corr(temp['total_sales'])))",
      "metadata": {},
      "execution_count": 42,
      "outputs": [
        {
          "name": "stdout",
          "output_type": "stream",
          "text": "\n\nPS3:\n"
        },
        {
          "output_type": "display_data",
          "data": {
            "image/png": "[encoded data removed]",
            "text/plain": [
              "<Figure size 360x360 with 1 Axes>"
            ]
          },
          "metadata": {
            "needs_background": "light"
          }
        },
        {
          "name": "stdout",
          "output_type": "stream",
          "text": "Коэффициент корреляции user_score и total_sales: 0.02269094327112414\n"
        },
        {
          "output_type": "display_data",
          "data": {
            "image/png": "[encoded data removed]",
            "text/plain": [
              "<Figure size 360x360 with 1 Axes>"
            ]
          },
          "metadata": {
            "needs_background": "light"
          }
        },
        {
          "name": "stdout",
          "output_type": "stream",
          "text": "Коэффициент корреляции critic_score и total_sales: 0.33380663565061736\n\n\n\nX360:\n"
        },
        {
          "output_type": "display_data",
          "data": {
            "image/png": "[encoded data removed]",
            "text/plain": [
              "<Figure size 360x360 with 1 Axes>"
            ]
          },
          "metadata": {
            "needs_background": "light"
          }
        },
        {
          "name": "stdout",
          "output_type": "stream",
          "text": "Коэффициент корреляции user_score и total_sales: -0.006238179532306317\n"
        },
        {
          "output_type": "display_data",
          "data": {
            "image/png": "[encoded data removed]",
            "text/plain": [
              "<Figure size 360x360 with 1 Axes>"
            ]
          },
          "metadata": {
            "needs_background": "light"
          }
        },
        {
          "name": "stdout",
          "output_type": "stream",
          "text": "Коэффициент корреляции critic_score и total_sales: 0.3503445460228664\n\n\n\nXOne:\n"
        },
        {
          "output_type": "display_data",
          "data": {
            "image/png": "[encoded data removed]",
            "text/plain": [
              "<Figure size 360x360 with 1 Axes>"
            ]
          },
          "metadata": {
            "needs_background": "light"
          }
        },
        {
          "name": "stdout",
          "output_type": "stream",
          "text": "Коэффициент корреляции user_score и total_sales: -0.09400318326920852\n"
        },
        {
          "output_type": "display_data",
          "data": {
            "image/png": "[encoded data removed]",
            "text/plain": [
              "<Figure size 360x360 with 1 Axes>"
            ]
          },
          "metadata": {
            "needs_background": "light"
          }
        },
        {
          "name": "stdout",
          "output_type": "stream",
          "text": "Коэффициент корреляции critic_score и total_sales: 0.41042203561296375\n\n\n\n3DS:\n"
        },
        {
          "output_type": "display_data",
          "data": {
            "image/png": "[encoded data removed]",
            "text/plain": [
              "<Figure size 360x360 with 1 Axes>"
            ]
          },
          "metadata": {
            "needs_background": "light"
          }
        },
        {
          "name": "stdout",
          "output_type": "stream",
          "text": "Коэффициент корреляции user_score и total_sales: 0.2729904366942444\n"
        },
        {
          "output_type": "display_data",
          "data": {
            "image/png": "[encoded data removed]",
            "text/plain": [
              "<Figure size 360x360 with 1 Axes>"
            ]
          },
          "metadata": {
            "needs_background": "light"
          }
        },
        {
          "name": "stdout",
          "output_type": "stream",
          "text": "Коэффициент корреляции critic_score и total_sales: 0.3392349287853147\n"
        }
      ]
    },
    {
      "cell_type": "markdown",
      "source": "По всем платформам, кроме 3DS, корреляционная связь между оценками пользователей и продажами отсутствует. Корреляция между оценками пользователей и продажами по платформе 3DS - прямая слабая.\n\nКорреляционная связь между оценками критиков и продажами на всех платформах - прямая слабая.",
      "metadata": {}
    },
    {
      "cell_type": "markdown",
      "source": "#### Распределение продаж по жанрам игр",
      "metadata": {}
    },
    {
      "cell_type": "code",
      "source": "genre = actual_data.pivot_table(index='genre', values='total_sales', aggfunc=['sum', 'median'])\ngenre.columns = ['total sales', 'median sales']",
      "metadata": {},
      "execution_count": 43,
      "outputs": []
    },
    {
      "cell_type": "code",
      "source": "genre.sort_values(by='median sales', ascending=False)",
      "metadata": {},
      "execution_count": 44,
      "outputs": [
        {
          "execution_count": 44,
          "output_type": "execute_result",
          "data": {
            "text/html": [
              "<div>\n",
              "<style scoped>\n",
              "    .dataframe tbody tr th:only-of-type {\n",
              "        vertical-align: middle;\n",
              "    }\n",
              "\n",
              "    .dataframe tbody tr th {\n",
              "        vertical-align: top;\n",
              "    }\n",
              "\n",
              "    .dataframe thead th {\n",
              "        text-align: right;\n",
              "    }\n",
              "</style>\n",
              "<table border=\"1\" class=\"dataframe\">\n",
              "  <thead>\n",
              "    <tr style=\"text-align: right;\">\n",
              "      <th></th>\n",
              "      <th>total sales</th>\n",
              "      <th>median sales</th>\n",
              "    </tr>\n",
              "    <tr>\n",
              "      <th>genre</th>\n",
              "      <th></th>\n",
              "      <th></th>\n",
              "    </tr>\n",
              "  </thead>\n",
              "  <tbody>\n",
              "    <tr>\n",
              "      <th>Shooter</th>\n",
              "      <td>232.98</td>\n",
              "      <td>0.450</td>\n",
              "    </tr>\n",
              "    <tr>\n",
              "      <th>Sports</th>\n",
              "      <td>150.65</td>\n",
              "      <td>0.240</td>\n",
              "    </tr>\n",
              "    <tr>\n",
              "      <th>Platform</th>\n",
              "      <td>42.63</td>\n",
              "      <td>0.225</td>\n",
              "    </tr>\n",
              "    <tr>\n",
              "      <th>Role-Playing</th>\n",
              "      <td>145.89</td>\n",
              "      <td>0.125</td>\n",
              "    </tr>\n",
              "    <tr>\n",
              "      <th>Fighting</th>\n",
              "      <td>35.31</td>\n",
              "      <td>0.125</td>\n",
              "    </tr>\n",
              "    <tr>\n",
              "      <th>Racing</th>\n",
              "      <td>39.89</td>\n",
              "      <td>0.120</td>\n",
              "    </tr>\n",
              "    <tr>\n",
              "      <th>Action</th>\n",
              "      <td>321.87</td>\n",
              "      <td>0.110</td>\n",
              "    </tr>\n",
              "    <tr>\n",
              "      <th>Simulation</th>\n",
              "      <td>21.76</td>\n",
              "      <td>0.100</td>\n",
              "    </tr>\n",
              "    <tr>\n",
              "      <th>Misc</th>\n",
              "      <td>62.82</td>\n",
              "      <td>0.100</td>\n",
              "    </tr>\n",
              "    <tr>\n",
              "      <th>Strategy</th>\n",
              "      <td>10.08</td>\n",
              "      <td>0.080</td>\n",
              "    </tr>\n",
              "    <tr>\n",
              "      <th>Puzzle</th>\n",
              "      <td>3.17</td>\n",
              "      <td>0.060</td>\n",
              "    </tr>\n",
              "    <tr>\n",
              "      <th>Adventure</th>\n",
              "      <td>23.64</td>\n",
              "      <td>0.030</td>\n",
              "    </tr>\n",
              "  </tbody>\n",
              "</table>\n",
              "</div>"
            ],
            "text/plain": [
              "              total sales  median sales\n",
              "genre                                  \n",
              "Shooter            232.98         0.450\n",
              "Sports             150.65         0.240\n",
              "Platform            42.63         0.225\n",
              "Role-Playing       145.89         0.125\n",
              "Fighting            35.31         0.125\n",
              "Racing              39.89         0.120\n",
              "Action             321.87         0.110\n",
              "Simulation          21.76         0.100\n",
              "Misc                62.82         0.100\n",
              "Strategy            10.08         0.080\n",
              "Puzzle               3.17         0.060\n",
              "Adventure           23.64         0.030"
            ]
          },
          "metadata": {}
        }
      ]
    },
    {
      "cell_type": "markdown",
      "source": "По общему количеству продаж выигрывает жанр _Экшн_ , но самое высокое медианное значение - у _Шутеров_. Можно предположить, что игры данного жанра более стабильно приносят доход своим авторам.\n\nК жанрам с низкими продажами можно отнести стратегии, паззлы и приключенческие игры.",
      "metadata": {}
    },
    {
      "cell_type": "code",
      "source": "genre.sort_values(by='median sales', ascending=False).plot(y='median sales',\\\n                                                           kind='bar', color='#00008B', figsize=(16, 8), legend=None)\nplt.title('Распределение продаж среди жанров с 2013 по 2016 годы')\nplt.ylabel('Медианное значение продаж')\nplt.xlabel('Жанр')\nplt.show()",
      "metadata": {},
      "execution_count": 45,
      "outputs": [
        {
          "output_type": "display_data",
          "data": {
            "image/png": "[encoded data removed]",
            "text/plain": [
              "<Figure size 1152x576 with 1 Axes>"
            ]
          },
          "metadata": {
            "needs_background": "light"
          }
        }
      ]
    },
    {
      "cell_type": "markdown",
      "source": "__Вывод__\n\nИндустрия видеоигр начала активно развиваться в середине девяностых годов 20-го века и достигла пика по количеству выпускаемых игр к концу нулевых.\n\nСреднее время жизни одной платформы - примерно 10 лет, при этом наиболее популярной она остается в среднем около 5 лет.\n\nШутеры можно считать наиболее стабильно прибыльными играми, несмотря на то, что в абсолютном значении их общее количество продаж за актуальный период (2013-2016 гг) ниже, чем у игр жанра Экшн.\n\nИз всех представленных платформ в 2017 году, вероятно, самыми популярными будут PlayStation 4 и Xbox One.",
      "metadata": {}
    },
    {
      "cell_type": "markdown",
      "source": "### Портрет пользователя по регионам",
      "metadata": {}
    },
    {
      "cell_type": "markdown",
      "source": "Чтобы определить портрет пользователя по региону, проанализируем топ-5 популярных платформ и популярных жанров игр в различных регионах, а также оценим влияние рейтингов ESRB на продажи в каждом регионе.",
      "metadata": {}
    },
    {
      "cell_type": "code",
      "source": "#определим топ-5 популярным платформ в каждом регионе\nregion = ['na_sales', 'eu_sales', 'jp_sales']\nfor reg in region:\n    region_sales = actual_data.pivot_table(index='platform', values=reg , aggfunc='sum').sort_values(by=reg, ascending=False)\n    region_sales.index.names = ['Платформа']\n    display(region_sales.head())",
      "metadata": {},
      "execution_count": 46,
      "outputs": [
        {
          "output_type": "display_data",
          "data": {
            "text/html": [
              "<div>\n",
              "<style scoped>\n",
              "    .dataframe tbody tr th:only-of-type {\n",
              "        vertical-align: middle;\n",
              "    }\n",
              "\n",
              "    .dataframe tbody tr th {\n",
              "        vertical-align: top;\n",
              "    }\n",
              "\n",
              "    .dataframe thead th {\n",
              "        text-align: right;\n",
              "    }\n",
              "</style>\n",
              "<table border=\"1\" class=\"dataframe\">\n",
              "  <thead>\n",
              "    <tr style=\"text-align: right;\">\n",
              "      <th></th>\n",
              "      <th>na_sales</th>\n",
              "    </tr>\n",
              "    <tr>\n",
              "      <th>Платформа</th>\n",
              "      <th></th>\n",
              "    </tr>\n",
              "  </thead>\n",
              "  <tbody>\n",
              "    <tr>\n",
              "      <th>PS4</th>\n",
              "      <td>108.74</td>\n",
              "    </tr>\n",
              "    <tr>\n",
              "      <th>XOne</th>\n",
              "      <td>93.12</td>\n",
              "    </tr>\n",
              "    <tr>\n",
              "      <th>X360</th>\n",
              "      <td>81.66</td>\n",
              "    </tr>\n",
              "    <tr>\n",
              "      <th>PS3</th>\n",
              "      <td>63.50</td>\n",
              "    </tr>\n",
              "    <tr>\n",
              "      <th>3DS</th>\n",
              "      <td>38.20</td>\n",
              "    </tr>\n",
              "  </tbody>\n",
              "</table>\n",
              "</div>"
            ],
            "text/plain": [
              "           na_sales\n",
              "Платформа          \n",
              "PS4          108.74\n",
              "XOne          93.12\n",
              "X360          81.66\n",
              "PS3           63.50\n",
              "3DS           38.20"
            ]
          },
          "metadata": {}
        },
        {
          "output_type": "display_data",
          "data": {
            "text/html": [
              "<div>\n",
              "<style scoped>\n",
              "    .dataframe tbody tr th:only-of-type {\n",
              "        vertical-align: middle;\n",
              "    }\n",
              "\n",
              "    .dataframe tbody tr th {\n",
              "        vertical-align: top;\n",
              "    }\n",
              "\n",
              "    .dataframe thead th {\n",
              "        text-align: right;\n",
              "    }\n",
              "</style>\n",
              "<table border=\"1\" class=\"dataframe\">\n",
              "  <thead>\n",
              "    <tr style=\"text-align: right;\">\n",
              "      <th></th>\n",
              "      <th>eu_sales</th>\n",
              "    </tr>\n",
              "    <tr>\n",
              "      <th>Платформа</th>\n",
              "      <th></th>\n",
              "    </tr>\n",
              "  </thead>\n",
              "  <tbody>\n",
              "    <tr>\n",
              "      <th>PS4</th>\n",
              "      <td>141.09</td>\n",
              "    </tr>\n",
              "    <tr>\n",
              "      <th>PS3</th>\n",
              "      <td>67.81</td>\n",
              "    </tr>\n",
              "    <tr>\n",
              "      <th>XOne</th>\n",
              "      <td>51.59</td>\n",
              "    </tr>\n",
              "    <tr>\n",
              "      <th>X360</th>\n",
              "      <td>42.52</td>\n",
              "    </tr>\n",
              "    <tr>\n",
              "      <th>3DS</th>\n",
              "      <td>30.96</td>\n",
              "    </tr>\n",
              "  </tbody>\n",
              "</table>\n",
              "</div>"
            ],
            "text/plain": [
              "           eu_sales\n",
              "Платформа          \n",
              "PS4          141.09\n",
              "PS3           67.81\n",
              "XOne          51.59\n",
              "X360          42.52\n",
              "3DS           30.96"
            ]
          },
          "metadata": {}
        },
        {
          "output_type": "display_data",
          "data": {
            "text/html": [
              "<div>\n",
              "<style scoped>\n",
              "    .dataframe tbody tr th:only-of-type {\n",
              "        vertical-align: middle;\n",
              "    }\n",
              "\n",
              "    .dataframe tbody tr th {\n",
              "        vertical-align: top;\n",
              "    }\n",
              "\n",
              "    .dataframe thead th {\n",
              "        text-align: right;\n",
              "    }\n",
              "</style>\n",
              "<table border=\"1\" class=\"dataframe\">\n",
              "  <thead>\n",
              "    <tr style=\"text-align: right;\">\n",
              "      <th></th>\n",
              "      <th>jp_sales</th>\n",
              "    </tr>\n",
              "    <tr>\n",
              "      <th>Платформа</th>\n",
              "      <th></th>\n",
              "    </tr>\n",
              "  </thead>\n",
              "  <tbody>\n",
              "    <tr>\n",
              "      <th>3DS</th>\n",
              "      <td>67.81</td>\n",
              "    </tr>\n",
              "    <tr>\n",
              "      <th>PS3</th>\n",
              "      <td>23.35</td>\n",
              "    </tr>\n",
              "    <tr>\n",
              "      <th>PSV</th>\n",
              "      <td>18.59</td>\n",
              "    </tr>\n",
              "    <tr>\n",
              "      <th>PS4</th>\n",
              "      <td>15.96</td>\n",
              "    </tr>\n",
              "    <tr>\n",
              "      <th>WiiU</th>\n",
              "      <td>10.88</td>\n",
              "    </tr>\n",
              "  </tbody>\n",
              "</table>\n",
              "</div>"
            ],
            "text/plain": [
              "           jp_sales\n",
              "Платформа          \n",
              "3DS           67.81\n",
              "PS3           23.35\n",
              "PSV           18.59\n",
              "PS4           15.96\n",
              "WiiU          10.88"
            ]
          },
          "metadata": {}
        }
      ]
    },
    {
      "cell_type": "markdown",
      "source": "Из таблиц видно, что ситуация на рынках Европы и Северной Америки очень похожа - в топ-5 входят одни и те же платформы, и на первом месте по общим продажам внутри региона занимает PlayStation 4. \n\nНа рынке Японии ситуация противоположная: на первом месте - консоль Nintendo 3DS, которая на рынках Европы и Северной Америки занимает 5 место, и  в топ-5 не входят консоли Xbox360 и XboxOne, выпускаемые американской компанией Microsoft. Японские пользователи отдают предпочтением платформам от местных компаний Nintendo и Sony.",
      "metadata": {}
    },
    {
      "cell_type": "code",
      "source": "#построим для наглядности круговые диаграммы\n\nplt.figure(figsize=(15, 20))\nplt.subplots_adjust(hspace=0.2)\n\nserial_number = 1\n\nfor reg in region:\n    ax = plt.subplot(3, 3, serial_number)\n    region_sales = actual_data.pivot_table(index='platform', values=reg , aggfunc='sum').sort_values(by=reg, ascending=False)\n    region_sales.head().plot(kind='pie', ax=ax, subplots=True, legend=None, autopct='%1.0f%%',\\\n                            colors = ['#F4A460', '#ADD8E6', '#FFC0CB', '#D3D3D3', '#98FB98'])\n    plt.xlabel(reg)\n    plt.ylabel(None)\n    serial_number += 1",
      "metadata": {},
      "execution_count": 47,
      "outputs": [
        {
          "output_type": "display_data",
          "data": {
            "image/png": "[encoded data removed]",
            "text/plain": [
              "<Figure size 1080x1440 with 3 Axes>"
            ]
          },
          "metadata": {}
        }
      ]
    },
    {
      "cell_type": "markdown",
      "source": "На круговых диаграммах видно, как распределяются продажи внутри топ-5 платформ в каждом регионе в актуальном периоде.",
      "metadata": {}
    },
    {
      "cell_type": "markdown",
      "source": "Рассмотрим также распределение популярных жанров игр в разных регионах.",
      "metadata": {}
    },
    {
      "cell_type": "code",
      "source": "for reg in region:\n    region_genres = actual_data.pivot_table(index='genre', values=reg , aggfunc='sum').sort_values(by=reg, ascending=False)\n    region_genres.index.names = ['Жанр']\n    display(region_genres.head())",
      "metadata": {},
      "execution_count": 48,
      "outputs": [
        {
          "output_type": "display_data",
          "data": {
            "text/html": [
              "<div>\n",
              "<style scoped>\n",
              "    .dataframe tbody tr th:only-of-type {\n",
              "        vertical-align: middle;\n",
              "    }\n",
              "\n",
              "    .dataframe tbody tr th {\n",
              "        vertical-align: top;\n",
              "    }\n",
              "\n",
              "    .dataframe thead th {\n",
              "        text-align: right;\n",
              "    }\n",
              "</style>\n",
              "<table border=\"1\" class=\"dataframe\">\n",
              "  <thead>\n",
              "    <tr style=\"text-align: right;\">\n",
              "      <th></th>\n",
              "      <th>na_sales</th>\n",
              "    </tr>\n",
              "    <tr>\n",
              "      <th>Жанр</th>\n",
              "      <th></th>\n",
              "    </tr>\n",
              "  </thead>\n",
              "  <tbody>\n",
              "    <tr>\n",
              "      <th>Action</th>\n",
              "      <td>126.05</td>\n",
              "    </tr>\n",
              "    <tr>\n",
              "      <th>Shooter</th>\n",
              "      <td>109.74</td>\n",
              "    </tr>\n",
              "    <tr>\n",
              "      <th>Sports</th>\n",
              "      <td>65.27</td>\n",
              "    </tr>\n",
              "    <tr>\n",
              "      <th>Role-Playing</th>\n",
              "      <td>46.40</td>\n",
              "    </tr>\n",
              "    <tr>\n",
              "      <th>Misc</th>\n",
              "      <td>27.49</td>\n",
              "    </tr>\n",
              "  </tbody>\n",
              "</table>\n",
              "</div>"
            ],
            "text/plain": [
              "              na_sales\n",
              "Жанр                  \n",
              "Action          126.05\n",
              "Shooter         109.74\n",
              "Sports           65.27\n",
              "Role-Playing     46.40\n",
              "Misc             27.49"
            ]
          },
          "metadata": {}
        },
        {
          "output_type": "display_data",
          "data": {
            "text/html": [
              "<div>\n",
              "<style scoped>\n",
              "    .dataframe tbody tr th:only-of-type {\n",
              "        vertical-align: middle;\n",
              "    }\n",
              "\n",
              "    .dataframe tbody tr th {\n",
              "        vertical-align: top;\n",
              "    }\n",
              "\n",
              "    .dataframe thead th {\n",
              "        text-align: right;\n",
              "    }\n",
              "</style>\n",
              "<table border=\"1\" class=\"dataframe\">\n",
              "  <thead>\n",
              "    <tr style=\"text-align: right;\">\n",
              "      <th></th>\n",
              "      <th>eu_sales</th>\n",
              "    </tr>\n",
              "    <tr>\n",
              "      <th>Жанр</th>\n",
              "      <th></th>\n",
              "    </tr>\n",
              "  </thead>\n",
              "  <tbody>\n",
              "    <tr>\n",
              "      <th>Action</th>\n",
              "      <td>118.13</td>\n",
              "    </tr>\n",
              "    <tr>\n",
              "      <th>Shooter</th>\n",
              "      <td>87.86</td>\n",
              "    </tr>\n",
              "    <tr>\n",
              "      <th>Sports</th>\n",
              "      <td>60.52</td>\n",
              "    </tr>\n",
              "    <tr>\n",
              "      <th>Role-Playing</th>\n",
              "      <td>36.97</td>\n",
              "    </tr>\n",
              "    <tr>\n",
              "      <th>Racing</th>\n",
              "      <td>20.19</td>\n",
              "    </tr>\n",
              "  </tbody>\n",
              "</table>\n",
              "</div>"
            ],
            "text/plain": [
              "              eu_sales\n",
              "Жанр                  \n",
              "Action          118.13\n",
              "Shooter          87.86\n",
              "Sports           60.52\n",
              "Role-Playing     36.97\n",
              "Racing           20.19"
            ]
          },
          "metadata": {}
        },
        {
          "output_type": "display_data",
          "data": {
            "text/html": [
              "<div>\n",
              "<style scoped>\n",
              "    .dataframe tbody tr th:only-of-type {\n",
              "        vertical-align: middle;\n",
              "    }\n",
              "\n",
              "    .dataframe tbody tr th {\n",
              "        vertical-align: top;\n",
              "    }\n",
              "\n",
              "    .dataframe thead th {\n",
              "        text-align: right;\n",
              "    }\n",
              "</style>\n",
              "<table border=\"1\" class=\"dataframe\">\n",
              "  <thead>\n",
              "    <tr style=\"text-align: right;\">\n",
              "      <th></th>\n",
              "      <th>jp_sales</th>\n",
              "    </tr>\n",
              "    <tr>\n",
              "      <th>Жанр</th>\n",
              "      <th></th>\n",
              "    </tr>\n",
              "  </thead>\n",
              "  <tbody>\n",
              "    <tr>\n",
              "      <th>Role-Playing</th>\n",
              "      <td>51.04</td>\n",
              "    </tr>\n",
              "    <tr>\n",
              "      <th>Action</th>\n",
              "      <td>40.49</td>\n",
              "    </tr>\n",
              "    <tr>\n",
              "      <th>Misc</th>\n",
              "      <td>9.20</td>\n",
              "    </tr>\n",
              "    <tr>\n",
              "      <th>Fighting</th>\n",
              "      <td>7.65</td>\n",
              "    </tr>\n",
              "    <tr>\n",
              "      <th>Shooter</th>\n",
              "      <td>6.61</td>\n",
              "    </tr>\n",
              "  </tbody>\n",
              "</table>\n",
              "</div>"
            ],
            "text/plain": [
              "              jp_sales\n",
              "Жанр                  \n",
              "Role-Playing     51.04\n",
              "Action           40.49\n",
              "Misc              9.20\n",
              "Fighting          7.65\n",
              "Shooter           6.61"
            ]
          },
          "metadata": {}
        }
      ]
    },
    {
      "cell_type": "markdown",
      "source": "В топ-5 по всем регионам вошли жанры Action, Shooter и Role-Playing. В Северной Америке и Европе также популярны спортивные видео игры, а в Японии - Fighting и игры, не вошедшие ни в один из предложенных жанров (Misc).\n\nНо распределение позиций в топе в Японии разительно отличается от западных регионов, где на первом месте по продажам ролевые видеоигры.",
      "metadata": {}
    },
    {
      "cell_type": "code",
      "source": "plt.figure(figsize=(15, 20))\nplt.subplots_adjust(hspace=0.2)\n\nserial_number = 1\n\nfor reg in region:\n    ax = plt.subplot(3, 3, serial_number)\n    region_genres = actual_data.pivot_table(index='genre', values=reg , aggfunc='sum').sort_values(by=reg, ascending=False)\n    region_genres.head().plot(kind='pie', ax=ax, subplots=True, legend=None, autopct='%1.0f%%',\\\n                            colors=['#F08080', '#00BFFF', '#FFA500', '#ADFF2F', '#7F007F'])\n    plt.xlabel(reg)\n    plt.ylabel(None)\n    serial_number += 1",
      "metadata": {},
      "execution_count": 49,
      "outputs": [
        {
          "output_type": "display_data",
          "data": {
            "image/png": "[encoded data removed]",
            "text/plain": [
              "<Figure size 1080x1440 with 3 Axes>"
            ]
          },
          "metadata": {}
        }
      ]
    },
    {
      "cell_type": "markdown",
      "source": "Процентное соотношение продаж между жанрами в Северной Америке и Европе примерно одинаковое. В Японии продажи игр жанра Action занимают такой же процент от всех продаж в топ-5, как и в других регионах, но при этом ролевые видеоигры более популярны - 44% от продаж в топ-5.",
      "metadata": {}
    },
    {
      "cell_type": "markdown",
      "source": "Нужно также оценить влияние рейтингов ESRB на продажи в каждом регионе.",
      "metadata": {}
    },
    {
      "cell_type": "code",
      "source": "for reg in region:\n    region_rating = actual_data.pivot_table(index='rating', values=reg , aggfunc='sum').sort_values(by=reg, ascending=False)\n    region_rating.index.names = ['Рейтинг ESRB']\n    display(region_rating.head())",
      "metadata": {},
      "execution_count": 50,
      "outputs": [
        {
          "output_type": "display_data",
          "data": {
            "text/html": [
              "<div>\n",
              "<style scoped>\n",
              "    .dataframe tbody tr th:only-of-type {\n",
              "        vertical-align: middle;\n",
              "    }\n",
              "\n",
              "    .dataframe tbody tr th {\n",
              "        vertical-align: top;\n",
              "    }\n",
              "\n",
              "    .dataframe thead th {\n",
              "        text-align: right;\n",
              "    }\n",
              "</style>\n",
              "<table border=\"1\" class=\"dataframe\">\n",
              "  <thead>\n",
              "    <tr style=\"text-align: right;\">\n",
              "      <th></th>\n",
              "      <th>na_sales</th>\n",
              "    </tr>\n",
              "    <tr>\n",
              "      <th>Рейтинг ESRB</th>\n",
              "      <th></th>\n",
              "    </tr>\n",
              "  </thead>\n",
              "  <tbody>\n",
              "    <tr>\n",
              "      <th>M</th>\n",
              "      <td>165.21</td>\n",
              "    </tr>\n",
              "    <tr>\n",
              "      <th>no rating</th>\n",
              "      <td>89.42</td>\n",
              "    </tr>\n",
              "    <tr>\n",
              "      <th>E</th>\n",
              "      <td>79.05</td>\n",
              "    </tr>\n",
              "    <tr>\n",
              "      <th>E10+</th>\n",
              "      <td>54.24</td>\n",
              "    </tr>\n",
              "    <tr>\n",
              "      <th>T</th>\n",
              "      <td>49.79</td>\n",
              "    </tr>\n",
              "  </tbody>\n",
              "</table>\n",
              "</div>"
            ],
            "text/plain": [
              "              na_sales\n",
              "Рейтинг ESRB          \n",
              "M               165.21\n",
              "no rating        89.42\n",
              "E                79.05\n",
              "E10+             54.24\n",
              "T                49.79"
            ]
          },
          "metadata": {}
        },
        {
          "output_type": "display_data",
          "data": {
            "text/html": [
              "<div>\n",
              "<style scoped>\n",
              "    .dataframe tbody tr th:only-of-type {\n",
              "        vertical-align: middle;\n",
              "    }\n",
              "\n",
              "    .dataframe tbody tr th {\n",
              "        vertical-align: top;\n",
              "    }\n",
              "\n",
              "    .dataframe thead th {\n",
              "        text-align: right;\n",
              "    }\n",
              "</style>\n",
              "<table border=\"1\" class=\"dataframe\">\n",
              "  <thead>\n",
              "    <tr style=\"text-align: right;\">\n",
              "      <th></th>\n",
              "      <th>eu_sales</th>\n",
              "    </tr>\n",
              "    <tr>\n",
              "      <th>Рейтинг ESRB</th>\n",
              "      <th></th>\n",
              "    </tr>\n",
              "  </thead>\n",
              "  <tbody>\n",
              "    <tr>\n",
              "      <th>M</th>\n",
              "      <td>145.32</td>\n",
              "    </tr>\n",
              "    <tr>\n",
              "      <th>E</th>\n",
              "      <td>83.36</td>\n",
              "    </tr>\n",
              "    <tr>\n",
              "      <th>no rating</th>\n",
              "      <td>78.91</td>\n",
              "    </tr>\n",
              "    <tr>\n",
              "      <th>E10+</th>\n",
              "      <td>42.69</td>\n",
              "    </tr>\n",
              "    <tr>\n",
              "      <th>T</th>\n",
              "      <td>41.95</td>\n",
              "    </tr>\n",
              "  </tbody>\n",
              "</table>\n",
              "</div>"
            ],
            "text/plain": [
              "              eu_sales\n",
              "Рейтинг ESRB          \n",
              "M               145.32\n",
              "E                83.36\n",
              "no rating        78.91\n",
              "E10+             42.69\n",
              "T                41.95"
            ]
          },
          "metadata": {}
        },
        {
          "output_type": "display_data",
          "data": {
            "text/html": [
              "<div>\n",
              "<style scoped>\n",
              "    .dataframe tbody tr th:only-of-type {\n",
              "        vertical-align: middle;\n",
              "    }\n",
              "\n",
              "    .dataframe tbody tr th {\n",
              "        vertical-align: top;\n",
              "    }\n",
              "\n",
              "    .dataframe thead th {\n",
              "        text-align: right;\n",
              "    }\n",
              "</style>\n",
              "<table border=\"1\" class=\"dataframe\">\n",
              "  <thead>\n",
              "    <tr style=\"text-align: right;\">\n",
              "      <th></th>\n",
              "      <th>jp_sales</th>\n",
              "    </tr>\n",
              "    <tr>\n",
              "      <th>Рейтинг ESRB</th>\n",
              "      <th></th>\n",
              "    </tr>\n",
              "  </thead>\n",
              "  <tbody>\n",
              "    <tr>\n",
              "      <th>no rating</th>\n",
              "      <td>85.05</td>\n",
              "    </tr>\n",
              "    <tr>\n",
              "      <th>T</th>\n",
              "      <td>20.59</td>\n",
              "    </tr>\n",
              "    <tr>\n",
              "      <th>E</th>\n",
              "      <td>15.14</td>\n",
              "    </tr>\n",
              "    <tr>\n",
              "      <th>M</th>\n",
              "      <td>14.11</td>\n",
              "    </tr>\n",
              "    <tr>\n",
              "      <th>E10+</th>\n",
              "      <td>5.89</td>\n",
              "    </tr>\n",
              "  </tbody>\n",
              "</table>\n",
              "</div>"
            ],
            "text/plain": [
              "              jp_sales\n",
              "Рейтинг ESRB          \n",
              "no rating        85.05\n",
              "T                20.59\n",
              "E                15.14\n",
              "M                14.11\n",
              "E10+              5.89"
            ]
          },
          "metadata": {}
        }
      ]
    },
    {
      "cell_type": "code",
      "source": "plt.figure(figsize=(15, 20))\nplt.subplots_adjust(hspace=.25)\n\nserial_number = 1\n\nfor reg in ['na_sales', 'eu_sales', 'jp_sales', 'other_sales']:    \n    ax = plt.subplot(2, 2, serial_number)\n    region_rating = actual_data.pivot_table(index='rating', values=reg , aggfunc='sum').sort_values(by=reg, ascending=False)\n    region_rating.head().plot(kind='bar', ax=ax, subplots=True, legend=None, color='#7FFFD4')\n    plt.xlabel('Рейтинг ESRB')\n    plt.ylabel('Копий продано, млн')\n    plt.title(reg)\n    serial_number += 1",
      "metadata": {},
      "execution_count": 51,
      "outputs": [
        {
          "output_type": "display_data",
          "data": {
            "image/png": "[encoded data removed]",
            "text/plain": [
              "<Figure size 1080x1440 with 4 Axes>"
            ]
          },
          "metadata": {
            "needs_background": "light"
          }
        }
      ]
    },
    {
      "cell_type": "markdown",
      "source": "В Северной Америке и Европе лидируют игры, имеющие рейтинг M (Mature - \"Для взрослых\") - игры для возрастной категории 17+. Следом идут игры с рейтингом E (Everyone - \"Для всех\"), возрастная категория - 6+.\n\nВ Японии рейтинги ESRB слабо влияют на продажи игр - в данном регионе больше всего продаж у игр, не имеющих рейтинга.",
      "metadata": {}
    },
    {
      "cell_type": "markdown",
      "source": "__Вывод__\n\nПортрет пользователей в Северной Америке и Европе очень похож:\n- пользователи отдают предпочтение игровым приставкам Xbox различных поколений и PS 3 и 4 поколения;\n- наиболее популярны среди пользователей игры жанров Action и Shooter;\n- больше всего покупают игры возрастной категории 17+ (рейтинг M), также популярны игры категории 6+ (E) и игры без рейтинга.\n\nПортрет пользователя в Японии значительно отличается от портретов западных пользователей:\n- пользователи предпочитают приставки и мобильные консоли, выпускаемые японскими компаниями Sony и Nintendo;\n- игры жанра Action популярны так же, как и на Западе, но более популярными являются ролевые видеоигры;\n- рейтинг ESRB не влияет на продажи игр - в Японии больше всего продаж у игр, не имеющих рейтинга.",
      "metadata": {}
    },
    {
      "cell_type": "markdown",
      "source": "### Проверка гипотез",
      "metadata": {}
    },
    {
      "cell_type": "markdown",
      "source": "Для проверки гипотез используем метод st.ttest_ind, потому что сравниваем среднее двух независимых совокупностей.\n\nКритический уровень статистической значимости (alpha) = 0.05",
      "metadata": {}
    },
    {
      "cell_type": "markdown",
      "source": "__Гипотеза 1__: средние пользовательские рейтинги платформ _Xbox One_ и _PC_ одинаковые.\n\nH_0: Пользовательские рейтинги (user_score) платформы Xbox One = пользовательские рейтинги платформы PC.\n\nH_a: Пользовательские рейтинги (user_score) платформы Xbox One ≠ пользовательские рейтинги платформы PC.\n\nalpha = 0.05",
      "metadata": {}
    },
    {
      "cell_type": "code",
      "source": "xone = actual_data.query('platform == \"XOne\" and user_score >= 0')['user_score']\npc = actual_data.query('platform == \"PC\" and user_score >= 0')['user_score']\n\nalpha = .05\n\nresults = st.ttest_ind(xone, pc, equal_var=False)\n\nprint(results.pvalue)\n\nif results.pvalue < alpha:\n    print('Отвергаем нулевую гипотезу')\nelse:\n    print('Не получилось отвергнуть нулевую гипотезу')",
      "metadata": {},
      "execution_count": 52,
      "outputs": [
        {
          "name": "stdout",
          "output_type": "stream",
          "text": "0.14759594013430463\n\nНе получилось отвергнуть нулевую гипотезу\n"
        }
      ]
    },
    {
      "cell_type": "markdown",
      "source": "Нулевая гипотеза не отвергается. Можно предположить, что у платформ XOne и PC одинаковые или близкие по значению средние пользовательские рейтинги.",
      "metadata": {}
    },
    {
      "cell_type": "markdown",
      "source": "__Гипотеза 2__: средние пользовательские рейтинги жанров Action и Sports разные.\n\nH_0: Пользовательские рейтинги (user_score) жанра Action = пользовательские рейтинги жанра Sports.\n\nH_a: Пользовательские рейтинги (user_score) жанра Action ≠ пользовательские рейтинги жанра Sports.\n\nalpha = 0.05",
      "metadata": {}
    },
    {
      "cell_type": "code",
      "source": "action = actual_data.query('genre == \"Action\" and user_score >= 0')['user_score']\nsports = actual_data.query('genre == \"Sports\" and user_score >= 0')['user_score']\n\nalpha = .05\n\nresults = st.ttest_ind(action, sports, equal_var=False)\n\nprint(results.pvalue)\n\nif results.pvalue < alpha:\n    print('Отвергаем нулевую гипотезу')\nelse:\n    print('Не получилось отвергнуть нулевую гипотезу')",
      "metadata": {},
      "execution_count": 53,
      "outputs": [
        {
          "name": "stdout",
          "output_type": "stream",
          "text": "1.4460039700704315e-20\n\nОтвергаем нулевую гипотезу\n"
        }
      ]
    },
    {
      "cell_type": "markdown",
      "source": "Нулевая гипотеза отвергается. Можно предположить, что у жанров Action и Sports средние пользовательские рейтинги значительно отличаются.",
      "metadata": {}
    },
    {
      "cell_type": "markdown",
      "source": "### Вывод",
      "metadata": {}
    },
    {
      "cell_type": "markdown",
      "source": "В ходе исследования:\n1. были изучены и обработаны данне: удалены или заполнены пропуски, обработаны дубликаты, преобразованы типы данных, созданы новые необходимые для работы столбцы;\n2. проведен исследовательский анализ данных, в результате которого был определен актуальный период, оценены продажи по платформам и жанрам, а также оценена взаимосвязь продаж с оценками критиков и пользователей;\n3. составлены портреты пользователей в Северной Америке, Европе и Японии;\n4. были провереы гипотезы о равенстве двух различных платформ и двух различных игровых жанров.",
      "metadata": {}
    },
    {
      "cell_type": "markdown",
      "source": "В результате исследования было выявлено следующее:\n1. Наиболее популярными платформами в 2017 году, вероятнее всего, будут приставки PlayStation 4 и Xbox One. Остаточную популярность будут сохранять PlayStation 3 и мобильные приставки от Nintendo (на территории Японии).\n2. Шутеры - в среднем наиболее часто продаваемые и, соответственно, более стабильно приносящие доход игры. При этом, в абсолютном числе продаж лидируют экшн-игры.\n3. Игры возрастной категории М (17+) и Е (6+) - наиболее прибыльные.\n",
      "metadata": {}
    }
  ]
}